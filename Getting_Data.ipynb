{
  "nbformat": 4,
  "nbformat_minor": 0,
  "metadata": {
    "colab": {
      "name": "Data_Scraping.ipynb",
      "provenance": []
    },
    "kernelspec": {
      "name": "python3",
      "display_name": "Python 3"
    },
    "language_info": {
      "name": "python"
    },
    "widgets": {
      "application/vnd.jupyter.widget-state+json": {
        "f18c201ce3eb47a0a1d868d4d86c8730": {
          "model_module": "@jupyter-widgets/controls",
          "model_name": "HBoxModel",
          "model_module_version": "1.5.0",
          "state": {
            "_dom_classes": [],
            "_model_module": "@jupyter-widgets/controls",
            "_model_module_version": "1.5.0",
            "_model_name": "HBoxModel",
            "_view_count": null,
            "_view_module": "@jupyter-widgets/controls",
            "_view_module_version": "1.5.0",
            "_view_name": "HBoxView",
            "box_style": "",
            "children": [
              "IPY_MODEL_a674c623381d460584980d707bba712e",
              "IPY_MODEL_f793b0f5b008490f9ffa398224bd0768",
              "IPY_MODEL_6866f26e3b8648d097bc6eeec76066c2"
            ],
            "layout": "IPY_MODEL_10b572fba8154fe1a8b1901cda922f15"
          }
        },
        "a674c623381d460584980d707bba712e": {
          "model_module": "@jupyter-widgets/controls",
          "model_name": "HTMLModel",
          "model_module_version": "1.5.0",
          "state": {
            "_dom_classes": [],
            "_model_module": "@jupyter-widgets/controls",
            "_model_module_version": "1.5.0",
            "_model_name": "HTMLModel",
            "_view_count": null,
            "_view_module": "@jupyter-widgets/controls",
            "_view_module_version": "1.5.0",
            "_view_name": "HTMLView",
            "description": "",
            "description_tooltip": null,
            "layout": "IPY_MODEL_64f16eac3fec41e09df48ca768bc6ede",
            "placeholder": "​",
            "style": "IPY_MODEL_97c968c12a434fff900ead561015b3c5",
            "value": "100%"
          }
        },
        "f793b0f5b008490f9ffa398224bd0768": {
          "model_module": "@jupyter-widgets/controls",
          "model_name": "FloatProgressModel",
          "model_module_version": "1.5.0",
          "state": {
            "_dom_classes": [],
            "_model_module": "@jupyter-widgets/controls",
            "_model_module_version": "1.5.0",
            "_model_name": "FloatProgressModel",
            "_view_count": null,
            "_view_module": "@jupyter-widgets/controls",
            "_view_module_version": "1.5.0",
            "_view_name": "ProgressView",
            "bar_style": "success",
            "description": "",
            "description_tooltip": null,
            "layout": "IPY_MODEL_80afdbd316874271bed2bfc230b4adb4",
            "max": 19,
            "min": 0,
            "orientation": "horizontal",
            "style": "IPY_MODEL_b76e8b3689e64dc699ce16998522e186",
            "value": 19
          }
        },
        "6866f26e3b8648d097bc6eeec76066c2": {
          "model_module": "@jupyter-widgets/controls",
          "model_name": "HTMLModel",
          "model_module_version": "1.5.0",
          "state": {
            "_dom_classes": [],
            "_model_module": "@jupyter-widgets/controls",
            "_model_module_version": "1.5.0",
            "_model_name": "HTMLModel",
            "_view_count": null,
            "_view_module": "@jupyter-widgets/controls",
            "_view_module_version": "1.5.0",
            "_view_name": "HTMLView",
            "description": "",
            "description_tooltip": null,
            "layout": "IPY_MODEL_93771c47c60448d1aabd2ac7573d6cf0",
            "placeholder": "​",
            "style": "IPY_MODEL_412a7aaf9a2f4543b81ab0fa28596045",
            "value": " 19/19 [00:00&lt;00:00, 266.24it/s]"
          }
        },
        "10b572fba8154fe1a8b1901cda922f15": {
          "model_module": "@jupyter-widgets/base",
          "model_name": "LayoutModel",
          "model_module_version": "1.2.0",
          "state": {
            "_model_module": "@jupyter-widgets/base",
            "_model_module_version": "1.2.0",
            "_model_name": "LayoutModel",
            "_view_count": null,
            "_view_module": "@jupyter-widgets/base",
            "_view_module_version": "1.2.0",
            "_view_name": "LayoutView",
            "align_content": null,
            "align_items": null,
            "align_self": null,
            "border": null,
            "bottom": null,
            "display": null,
            "flex": null,
            "flex_flow": null,
            "grid_area": null,
            "grid_auto_columns": null,
            "grid_auto_flow": null,
            "grid_auto_rows": null,
            "grid_column": null,
            "grid_gap": null,
            "grid_row": null,
            "grid_template_areas": null,
            "grid_template_columns": null,
            "grid_template_rows": null,
            "height": null,
            "justify_content": null,
            "justify_items": null,
            "left": null,
            "margin": null,
            "max_height": null,
            "max_width": null,
            "min_height": null,
            "min_width": null,
            "object_fit": null,
            "object_position": null,
            "order": null,
            "overflow": null,
            "overflow_x": null,
            "overflow_y": null,
            "padding": null,
            "right": null,
            "top": null,
            "visibility": null,
            "width": null
          }
        },
        "64f16eac3fec41e09df48ca768bc6ede": {
          "model_module": "@jupyter-widgets/base",
          "model_name": "LayoutModel",
          "model_module_version": "1.2.0",
          "state": {
            "_model_module": "@jupyter-widgets/base",
            "_model_module_version": "1.2.0",
            "_model_name": "LayoutModel",
            "_view_count": null,
            "_view_module": "@jupyter-widgets/base",
            "_view_module_version": "1.2.0",
            "_view_name": "LayoutView",
            "align_content": null,
            "align_items": null,
            "align_self": null,
            "border": null,
            "bottom": null,
            "display": null,
            "flex": null,
            "flex_flow": null,
            "grid_area": null,
            "grid_auto_columns": null,
            "grid_auto_flow": null,
            "grid_auto_rows": null,
            "grid_column": null,
            "grid_gap": null,
            "grid_row": null,
            "grid_template_areas": null,
            "grid_template_columns": null,
            "grid_template_rows": null,
            "height": null,
            "justify_content": null,
            "justify_items": null,
            "left": null,
            "margin": null,
            "max_height": null,
            "max_width": null,
            "min_height": null,
            "min_width": null,
            "object_fit": null,
            "object_position": null,
            "order": null,
            "overflow": null,
            "overflow_x": null,
            "overflow_y": null,
            "padding": null,
            "right": null,
            "top": null,
            "visibility": null,
            "width": null
          }
        },
        "97c968c12a434fff900ead561015b3c5": {
          "model_module": "@jupyter-widgets/controls",
          "model_name": "DescriptionStyleModel",
          "model_module_version": "1.5.0",
          "state": {
            "_model_module": "@jupyter-widgets/controls",
            "_model_module_version": "1.5.0",
            "_model_name": "DescriptionStyleModel",
            "_view_count": null,
            "_view_module": "@jupyter-widgets/base",
            "_view_module_version": "1.2.0",
            "_view_name": "StyleView",
            "description_width": ""
          }
        },
        "80afdbd316874271bed2bfc230b4adb4": {
          "model_module": "@jupyter-widgets/base",
          "model_name": "LayoutModel",
          "model_module_version": "1.2.0",
          "state": {
            "_model_module": "@jupyter-widgets/base",
            "_model_module_version": "1.2.0",
            "_model_name": "LayoutModel",
            "_view_count": null,
            "_view_module": "@jupyter-widgets/base",
            "_view_module_version": "1.2.0",
            "_view_name": "LayoutView",
            "align_content": null,
            "align_items": null,
            "align_self": null,
            "border": null,
            "bottom": null,
            "display": null,
            "flex": null,
            "flex_flow": null,
            "grid_area": null,
            "grid_auto_columns": null,
            "grid_auto_flow": null,
            "grid_auto_rows": null,
            "grid_column": null,
            "grid_gap": null,
            "grid_row": null,
            "grid_template_areas": null,
            "grid_template_columns": null,
            "grid_template_rows": null,
            "height": null,
            "justify_content": null,
            "justify_items": null,
            "left": null,
            "margin": null,
            "max_height": null,
            "max_width": null,
            "min_height": null,
            "min_width": null,
            "object_fit": null,
            "object_position": null,
            "order": null,
            "overflow": null,
            "overflow_x": null,
            "overflow_y": null,
            "padding": null,
            "right": null,
            "top": null,
            "visibility": null,
            "width": null
          }
        },
        "b76e8b3689e64dc699ce16998522e186": {
          "model_module": "@jupyter-widgets/controls",
          "model_name": "ProgressStyleModel",
          "model_module_version": "1.5.0",
          "state": {
            "_model_module": "@jupyter-widgets/controls",
            "_model_module_version": "1.5.0",
            "_model_name": "ProgressStyleModel",
            "_view_count": null,
            "_view_module": "@jupyter-widgets/base",
            "_view_module_version": "1.2.0",
            "_view_name": "StyleView",
            "bar_color": null,
            "description_width": ""
          }
        },
        "93771c47c60448d1aabd2ac7573d6cf0": {
          "model_module": "@jupyter-widgets/base",
          "model_name": "LayoutModel",
          "model_module_version": "1.2.0",
          "state": {
            "_model_module": "@jupyter-widgets/base",
            "_model_module_version": "1.2.0",
            "_model_name": "LayoutModel",
            "_view_count": null,
            "_view_module": "@jupyter-widgets/base",
            "_view_module_version": "1.2.0",
            "_view_name": "LayoutView",
            "align_content": null,
            "align_items": null,
            "align_self": null,
            "border": null,
            "bottom": null,
            "display": null,
            "flex": null,
            "flex_flow": null,
            "grid_area": null,
            "grid_auto_columns": null,
            "grid_auto_flow": null,
            "grid_auto_rows": null,
            "grid_column": null,
            "grid_gap": null,
            "grid_row": null,
            "grid_template_areas": null,
            "grid_template_columns": null,
            "grid_template_rows": null,
            "height": null,
            "justify_content": null,
            "justify_items": null,
            "left": null,
            "margin": null,
            "max_height": null,
            "max_width": null,
            "min_height": null,
            "min_width": null,
            "object_fit": null,
            "object_position": null,
            "order": null,
            "overflow": null,
            "overflow_x": null,
            "overflow_y": null,
            "padding": null,
            "right": null,
            "top": null,
            "visibility": null,
            "width": null
          }
        },
        "412a7aaf9a2f4543b81ab0fa28596045": {
          "model_module": "@jupyter-widgets/controls",
          "model_name": "DescriptionStyleModel",
          "model_module_version": "1.5.0",
          "state": {
            "_model_module": "@jupyter-widgets/controls",
            "_model_module_version": "1.5.0",
            "_model_name": "DescriptionStyleModel",
            "_view_count": null,
            "_view_module": "@jupyter-widgets/base",
            "_view_module_version": "1.2.0",
            "_view_name": "StyleView",
            "description_width": ""
          }
        },
        "4e1fd687cc724defa28a3a5ce62b52d4": {
          "model_module": "@jupyter-widgets/controls",
          "model_name": "HBoxModel",
          "model_module_version": "1.5.0",
          "state": {
            "_dom_classes": [],
            "_model_module": "@jupyter-widgets/controls",
            "_model_module_version": "1.5.0",
            "_model_name": "HBoxModel",
            "_view_count": null,
            "_view_module": "@jupyter-widgets/controls",
            "_view_module_version": "1.5.0",
            "_view_name": "HBoxView",
            "box_style": "",
            "children": [
              "IPY_MODEL_feca83742e884248ae00995e054b137a",
              "IPY_MODEL_0657436d2d714e3d9ad2f8d14217cf58",
              "IPY_MODEL_bb06d1c0023b45da89a3193bb27161c4"
            ],
            "layout": "IPY_MODEL_a6f0979301de4cc5878f15ed3f358cb2"
          }
        },
        "feca83742e884248ae00995e054b137a": {
          "model_module": "@jupyter-widgets/controls",
          "model_name": "HTMLModel",
          "model_module_version": "1.5.0",
          "state": {
            "_dom_classes": [],
            "_model_module": "@jupyter-widgets/controls",
            "_model_module_version": "1.5.0",
            "_model_name": "HTMLModel",
            "_view_count": null,
            "_view_module": "@jupyter-widgets/controls",
            "_view_module_version": "1.5.0",
            "_view_name": "HTMLView",
            "description": "",
            "description_tooltip": null,
            "layout": "IPY_MODEL_70a1f35b16134264a97c5994f517e6c5",
            "placeholder": "​",
            "style": "IPY_MODEL_4e7fba36d87d4081802ca0e4cfa402fd",
            "value": "100%"
          }
        },
        "0657436d2d714e3d9ad2f8d14217cf58": {
          "model_module": "@jupyter-widgets/controls",
          "model_name": "FloatProgressModel",
          "model_module_version": "1.5.0",
          "state": {
            "_dom_classes": [],
            "_model_module": "@jupyter-widgets/controls",
            "_model_module_version": "1.5.0",
            "_model_name": "FloatProgressModel",
            "_view_count": null,
            "_view_module": "@jupyter-widgets/controls",
            "_view_module_version": "1.5.0",
            "_view_name": "ProgressView",
            "bar_style": "success",
            "description": "",
            "description_tooltip": null,
            "layout": "IPY_MODEL_2089c6c842e94c85a441f02777fea7d9",
            "max": 19,
            "min": 0,
            "orientation": "horizontal",
            "style": "IPY_MODEL_dcd6056d2715413aacd7dc96368a2155",
            "value": 19
          }
        },
        "bb06d1c0023b45da89a3193bb27161c4": {
          "model_module": "@jupyter-widgets/controls",
          "model_name": "HTMLModel",
          "model_module_version": "1.5.0",
          "state": {
            "_dom_classes": [],
            "_model_module": "@jupyter-widgets/controls",
            "_model_module_version": "1.5.0",
            "_model_name": "HTMLModel",
            "_view_count": null,
            "_view_module": "@jupyter-widgets/controls",
            "_view_module_version": "1.5.0",
            "_view_name": "HTMLView",
            "description": "",
            "description_tooltip": null,
            "layout": "IPY_MODEL_05bf316733fc4421b995d3d54e4dd414",
            "placeholder": "​",
            "style": "IPY_MODEL_11929af923ef436f900fac3377a825f6",
            "value": " 19/19 [00:11&lt;00:00,  1.44it/s]"
          }
        },
        "a6f0979301de4cc5878f15ed3f358cb2": {
          "model_module": "@jupyter-widgets/base",
          "model_name": "LayoutModel",
          "model_module_version": "1.2.0",
          "state": {
            "_model_module": "@jupyter-widgets/base",
            "_model_module_version": "1.2.0",
            "_model_name": "LayoutModel",
            "_view_count": null,
            "_view_module": "@jupyter-widgets/base",
            "_view_module_version": "1.2.0",
            "_view_name": "LayoutView",
            "align_content": null,
            "align_items": null,
            "align_self": null,
            "border": null,
            "bottom": null,
            "display": null,
            "flex": null,
            "flex_flow": null,
            "grid_area": null,
            "grid_auto_columns": null,
            "grid_auto_flow": null,
            "grid_auto_rows": null,
            "grid_column": null,
            "grid_gap": null,
            "grid_row": null,
            "grid_template_areas": null,
            "grid_template_columns": null,
            "grid_template_rows": null,
            "height": null,
            "justify_content": null,
            "justify_items": null,
            "left": null,
            "margin": null,
            "max_height": null,
            "max_width": null,
            "min_height": null,
            "min_width": null,
            "object_fit": null,
            "object_position": null,
            "order": null,
            "overflow": null,
            "overflow_x": null,
            "overflow_y": null,
            "padding": null,
            "right": null,
            "top": null,
            "visibility": null,
            "width": null
          }
        },
        "70a1f35b16134264a97c5994f517e6c5": {
          "model_module": "@jupyter-widgets/base",
          "model_name": "LayoutModel",
          "model_module_version": "1.2.0",
          "state": {
            "_model_module": "@jupyter-widgets/base",
            "_model_module_version": "1.2.0",
            "_model_name": "LayoutModel",
            "_view_count": null,
            "_view_module": "@jupyter-widgets/base",
            "_view_module_version": "1.2.0",
            "_view_name": "LayoutView",
            "align_content": null,
            "align_items": null,
            "align_self": null,
            "border": null,
            "bottom": null,
            "display": null,
            "flex": null,
            "flex_flow": null,
            "grid_area": null,
            "grid_auto_columns": null,
            "grid_auto_flow": null,
            "grid_auto_rows": null,
            "grid_column": null,
            "grid_gap": null,
            "grid_row": null,
            "grid_template_areas": null,
            "grid_template_columns": null,
            "grid_template_rows": null,
            "height": null,
            "justify_content": null,
            "justify_items": null,
            "left": null,
            "margin": null,
            "max_height": null,
            "max_width": null,
            "min_height": null,
            "min_width": null,
            "object_fit": null,
            "object_position": null,
            "order": null,
            "overflow": null,
            "overflow_x": null,
            "overflow_y": null,
            "padding": null,
            "right": null,
            "top": null,
            "visibility": null,
            "width": null
          }
        },
        "4e7fba36d87d4081802ca0e4cfa402fd": {
          "model_module": "@jupyter-widgets/controls",
          "model_name": "DescriptionStyleModel",
          "model_module_version": "1.5.0",
          "state": {
            "_model_module": "@jupyter-widgets/controls",
            "_model_module_version": "1.5.0",
            "_model_name": "DescriptionStyleModel",
            "_view_count": null,
            "_view_module": "@jupyter-widgets/base",
            "_view_module_version": "1.2.0",
            "_view_name": "StyleView",
            "description_width": ""
          }
        },
        "2089c6c842e94c85a441f02777fea7d9": {
          "model_module": "@jupyter-widgets/base",
          "model_name": "LayoutModel",
          "model_module_version": "1.2.0",
          "state": {
            "_model_module": "@jupyter-widgets/base",
            "_model_module_version": "1.2.0",
            "_model_name": "LayoutModel",
            "_view_count": null,
            "_view_module": "@jupyter-widgets/base",
            "_view_module_version": "1.2.0",
            "_view_name": "LayoutView",
            "align_content": null,
            "align_items": null,
            "align_self": null,
            "border": null,
            "bottom": null,
            "display": null,
            "flex": null,
            "flex_flow": null,
            "grid_area": null,
            "grid_auto_columns": null,
            "grid_auto_flow": null,
            "grid_auto_rows": null,
            "grid_column": null,
            "grid_gap": null,
            "grid_row": null,
            "grid_template_areas": null,
            "grid_template_columns": null,
            "grid_template_rows": null,
            "height": null,
            "justify_content": null,
            "justify_items": null,
            "left": null,
            "margin": null,
            "max_height": null,
            "max_width": null,
            "min_height": null,
            "min_width": null,
            "object_fit": null,
            "object_position": null,
            "order": null,
            "overflow": null,
            "overflow_x": null,
            "overflow_y": null,
            "padding": null,
            "right": null,
            "top": null,
            "visibility": null,
            "width": null
          }
        },
        "dcd6056d2715413aacd7dc96368a2155": {
          "model_module": "@jupyter-widgets/controls",
          "model_name": "ProgressStyleModel",
          "model_module_version": "1.5.0",
          "state": {
            "_model_module": "@jupyter-widgets/controls",
            "_model_module_version": "1.5.0",
            "_model_name": "ProgressStyleModel",
            "_view_count": null,
            "_view_module": "@jupyter-widgets/base",
            "_view_module_version": "1.2.0",
            "_view_name": "StyleView",
            "bar_color": null,
            "description_width": ""
          }
        },
        "05bf316733fc4421b995d3d54e4dd414": {
          "model_module": "@jupyter-widgets/base",
          "model_name": "LayoutModel",
          "model_module_version": "1.2.0",
          "state": {
            "_model_module": "@jupyter-widgets/base",
            "_model_module_version": "1.2.0",
            "_model_name": "LayoutModel",
            "_view_count": null,
            "_view_module": "@jupyter-widgets/base",
            "_view_module_version": "1.2.0",
            "_view_name": "LayoutView",
            "align_content": null,
            "align_items": null,
            "align_self": null,
            "border": null,
            "bottom": null,
            "display": null,
            "flex": null,
            "flex_flow": null,
            "grid_area": null,
            "grid_auto_columns": null,
            "grid_auto_flow": null,
            "grid_auto_rows": null,
            "grid_column": null,
            "grid_gap": null,
            "grid_row": null,
            "grid_template_areas": null,
            "grid_template_columns": null,
            "grid_template_rows": null,
            "height": null,
            "justify_content": null,
            "justify_items": null,
            "left": null,
            "margin": null,
            "max_height": null,
            "max_width": null,
            "min_height": null,
            "min_width": null,
            "object_fit": null,
            "object_position": null,
            "order": null,
            "overflow": null,
            "overflow_x": null,
            "overflow_y": null,
            "padding": null,
            "right": null,
            "top": null,
            "visibility": null,
            "width": null
          }
        },
        "11929af923ef436f900fac3377a825f6": {
          "model_module": "@jupyter-widgets/controls",
          "model_name": "DescriptionStyleModel",
          "model_module_version": "1.5.0",
          "state": {
            "_model_module": "@jupyter-widgets/controls",
            "_model_module_version": "1.5.0",
            "_model_name": "DescriptionStyleModel",
            "_view_count": null,
            "_view_module": "@jupyter-widgets/base",
            "_view_module_version": "1.2.0",
            "_view_name": "StyleView",
            "description_width": ""
          }
        }
      }
    }
  },
  "cells": [
    {
      "cell_type": "markdown",
      "source": [
        "# Getting Data"
      ],
      "metadata": {
        "id": "SwDqOUsQiF4I"
      }
    },
    {
      "cell_type": "markdown",
      "source": [
        "## Loading Libraries"
      ],
      "metadata": {
        "id": "INqE5E9KhmyJ"
      }
    },
    {
      "cell_type": "code",
      "execution_count": 1,
      "metadata": {
        "id": "m-8lkgjIhcK0"
      },
      "outputs": [],
      "source": [
        "import time\n",
        "import numpy as np\n",
        "import pandas as pd\n",
        "from bs4 import BeautifulSoup # for web scraping\n",
        "import requests    # for requesting html\n",
        "from requests.adapters import HTTPAdapter\n",
        "from urllib3.util import Retry\n",
        "import os\n",
        "import shutil\n",
        "from tqdm.auto import tqdm\n",
        "import re\n",
        "from csv import reader"
      ]
    },
    {
      "cell_type": "markdown",
      "source": [
        "## Scarping data source 1"
      ],
      "metadata": {
        "id": "W3kZDKa_kkPt"
      }
    },
    {
      "cell_type": "code",
      "source": [
        "# to store all the raw features from source1\n",
        "# source1: https://bitinfocharts.com/bitcoin/\n",
        "raw_values =np.array(['transactions',\n",
        "                      'size',\n",
        "                      'sentbyaddress',\n",
        "                      'difficulty',\n",
        "                      'hashrate',\n",
        "                      'mining_profitability',\n",
        "                      'sentinusd',\n",
        "                      'transactionfees',\n",
        "                      'median_transaction_fee',\n",
        "                      'confirmationtime',\n",
        "                      'transactionvalue',\n",
        "                      'marketcap',\n",
        "                      'tweets',\n",
        "                      'google_trends',\n",
        "                      'mediantransactionvalue',\n",
        "                      'activeaddresses',\n",
        "                      'top100cap',\n",
        "                      'fee_to_reward',\n",
        "                      'price'])\n",
        "\n",
        "# Technical indicators which are derived from raw values for each period\n",
        "technical_indicators = np.array(['sma','ema','wma','std','mom','var','trx','rsi','roc'])\n",
        "\n",
        "                     \n",
        "period_in_days = np.array(['3','7','14','30','90'])"
      ],
      "metadata": {
        "id": "2zQgcglnhzUE"
      },
      "execution_count": 2,
      "outputs": []
    },
    {
      "cell_type": "code",
      "source": [
        "# generating URLs to scrape data and creating column names:\n",
        "\n",
        "# Raw values\n",
        "URLs = []\n",
        "feature_names= []\n",
        "for i in range(len(raw_values)):\n",
        "    url='https://bitinfocharts.com/comparison/'+'bitcoin'+'-'+raw_values[i]+'.html#alltime'\n",
        "    URLs.append(url)\n",
        "    # creating column names:\n",
        "    feature_names.append(raw_values[i])\n"
      ],
      "metadata": {
        "id": "DokszPSGh4n2"
      },
      "execution_count": 3,
      "outputs": []
    },
    {
      "cell_type": "code",
      "source": [
        "# Joining feature_names and URLs into a dataframe\n",
        "details = {'Features':feature_names,'URLs': URLs}\n",
        "details_df = pd.DataFrame(details)\n",
        "\n",
        "features=pd.DataFrame(columns=details_df.Features)\n",
        "print('Building URLs ...')\n",
        "for i in tqdm(range(len(features.columns))):\n",
        "    date=features.columns[i] + 'Date'\n",
        "    features[date]=date"
      ],
      "metadata": {
        "colab": {
          "base_uri": "https://localhost:8080/",
          "referenced_widgets": [
            "f18c201ce3eb47a0a1d868d4d86c8730",
            "a674c623381d460584980d707bba712e",
            "f793b0f5b008490f9ffa398224bd0768",
            "6866f26e3b8648d097bc6eeec76066c2",
            "10b572fba8154fe1a8b1901cda922f15",
            "64f16eac3fec41e09df48ca768bc6ede",
            "97c968c12a434fff900ead561015b3c5",
            "80afdbd316874271bed2bfc230b4adb4",
            "b76e8b3689e64dc699ce16998522e186",
            "93771c47c60448d1aabd2ac7573d6cf0",
            "412a7aaf9a2f4543b81ab0fa28596045"
          ],
          "height": 66
        },
        "id": "UI1-N2tEiB1I",
        "outputId": "94cebddc-9576-4cc1-eee6-06992cbd7f4e"
      },
      "execution_count": 4,
      "outputs": [
        {
          "output_type": "stream",
          "name": "stdout",
          "text": [
            "Building URLs ...\n"
          ]
        },
        {
          "output_type": "display_data",
          "data": {
            "text/plain": [
              "  0%|          | 0/19 [00:00<?, ?it/s]"
            ],
            "application/vnd.jupyter.widget-view+json": {
              "version_major": 2,
              "version_minor": 0,
              "model_id": "f18c201ce3eb47a0a1d868d4d86c8730"
            }
          },
          "metadata": {}
        }
      ]
    },
    {
      "cell_type": "code",
      "source": [
        "df_merge = 0\n",
        "print('Requesting data..............')\n",
        "for i in tqdm(range(len(details_df))):\n",
        "    url = details_df.URLs[i]\n",
        "    s = requests.Session()    \n",
        "    retry = Retry(connect=10, backoff_factor=3) \n",
        "    #https://urllib3.readthedocs.io/en/latest/reference/urllib3.util.html\n",
        "\n",
        "    adapter = HTTPAdapter(max_retries=retry)\n",
        "    s.mount('http://', adapter)   \n",
        "    #https://www.kite.com/python/docs/requests.adapters.HTTPAdapter\n",
        "    page=s.get(url)\n",
        "    soup = BeautifulSoup(page.content, 'html').find_all('script')[4].string\n",
        "\n",
        "    text= re.search(r'd = new Dygraph\\(document.getElementById\\(\\\"container\\\"\\)\\,(.*)',soup).groups(1)\n",
        "    # https://stackoverflow.com/questions/65403953/webscraping-js-elements-with-soup-isnt-working\n",
        "    # https://stackoverflow.com/questions/27881366/regular-expressions-and777\n",
        "    data = text[0].split('{labels:')[0]\n",
        "    data = data[0:len(data)-2]\n",
        "    data = re.sub(r'\\[new Date\\(\\\"', '', str(data))\n",
        "    data = re.sub(r'\\\"\\)\\,', ';', str(data))\n",
        "    data = re.sub(r'\\]\\]', '', str(data))\n",
        "    data = re.sub(r'\\[', '', str(data)).split('],')\n",
        "    df = pd.DataFrame( list(reader(data)))\n",
        "    df.columns = ['name']\n",
        "    col = details_df.Features[i]\n",
        "    df[['Date',col]] = df.name.str.split(';',1,expand=True)\n",
        "    df.drop(['name'], axis=1,inplace = True)\n",
        "\n",
        "    df = df.set_index(['Date'])\n",
        "    df_new = df.loc['2010/07/17':'2022/07/17']\n",
        "    df_new.reset_index(inplace = True)\n",
        "    # https://stackoverflow.com/questions/29370057/select-dataframe-rows-between-two-dates\n",
        "    if i==0:\n",
        "      df_merge = df_new\n",
        "    else:\n",
        "      #df_new = df_new.drop(['Date'], axis = 1)\n",
        "      #df_merge = pd.concat([df_merge,df_new],axis=1)\n",
        "      df_merge = pd.merge(df_merge, df_new, left_on='Date', right_on='Date', how='left')\n",
        "df_merged = pd.DataFrame(df_merge)"
      ],
      "metadata": {
        "colab": {
          "base_uri": "https://localhost:8080/",
          "referenced_widgets": [
            "4e1fd687cc724defa28a3a5ce62b52d4",
            "feca83742e884248ae00995e054b137a",
            "0657436d2d714e3d9ad2f8d14217cf58",
            "bb06d1c0023b45da89a3193bb27161c4",
            "a6f0979301de4cc5878f15ed3f358cb2",
            "70a1f35b16134264a97c5994f517e6c5",
            "4e7fba36d87d4081802ca0e4cfa402fd",
            "2089c6c842e94c85a441f02777fea7d9",
            "dcd6056d2715413aacd7dc96368a2155",
            "05bf316733fc4421b995d3d54e4dd414",
            "11929af923ef436f900fac3377a825f6"
          ],
          "height": 66
        },
        "id": "ifaby3GsiZVJ",
        "outputId": "e1212816-8d78-4482-b944-32ef43043324"
      },
      "execution_count": 5,
      "outputs": [
        {
          "output_type": "stream",
          "name": "stdout",
          "text": [
            "Requesting data..............\n"
          ]
        },
        {
          "output_type": "display_data",
          "data": {
            "text/plain": [
              "  0%|          | 0/19 [00:00<?, ?it/s]"
            ],
            "application/vnd.jupyter.widget-view+json": {
              "version_major": 2,
              "version_minor": 0,
              "model_id": "4e1fd687cc724defa28a3a5ce62b52d4"
            }
          },
          "metadata": {}
        }
      ]
    },
    {
      "cell_type": "code",
      "source": [
        "# saving data to csv file\n",
        "df_merged.to_csv('btc_data_raw.csv', sep = ',', index=False)"
      ],
      "metadata": {
        "id": "6MerU5Liihlp"
      },
      "execution_count": 6,
      "outputs": []
    },
    {
      "cell_type": "code",
      "source": [
        "data_raw = pd.read_csv('btc_data_raw.csv')"
      ],
      "metadata": {
        "id": "9-m-67FeijMA"
      },
      "execution_count": 7,
      "outputs": []
    },
    {
      "cell_type": "code",
      "source": [
        "data_raw.rename(columns={'price':'avg_price'}, inplace=True)"
      ],
      "metadata": {
        "id": "WG7lhs07oTGa"
      },
      "execution_count": 8,
      "outputs": []
    },
    {
      "cell_type": "markdown",
      "source": [
        "## Scarping data source 2"
      ],
      "metadata": {
        "id": "MgSMts7zkuk_"
      }
    },
    {
      "cell_type": "code",
      "source": [
        "# Fear and Greed Index\n",
        "# source2: https://www.businessinsider.in/cryptocurrency/news/crypto-fear-and-greed-index-shows-extreme-fear-is-ruling-the-markets-is-this-an-opportunity-or-warning-sign-for-investors/articleshow/88890883.cms\n",
        "\n",
        "from bs4 import BeautifulSoup\n",
        "import requests\n",
        "import pandas as pd\n",
        "from csv import reader\n",
        "url = 'https://api.alternative.me/fng/?limit=1500&format=csv&date_format=us'\n",
        "text = requests.get(url)\n",
        "soup = BeautifulSoup(text.content)"
      ],
      "metadata": {
        "id": "rRZ07BtHkt4k"
      },
      "execution_count": 9,
      "outputs": []
    },
    {
      "cell_type": "code",
      "source": [
        "from datetime import datetime\n",
        "data_lst = soup.p.text.split('\\n')[4:-5]\n",
        "df_fg = pd.DataFrame( list(reader(data_lst)))\n",
        "df_fg.columns = ['Date','Value','Classification']\n",
        "df_fg['Date'] = pd.to_datetime(df_fg.Date, format='%m-%d-%Y')\n",
        "df_fg['Date'] = df_fg['Date'].dt.strftime('%Y/%m/%d')\n",
        "df_fg.sort_values(by=['Date'],inplace=True)\n",
        "data2 = df_fg"
      ],
      "metadata": {
        "id": "0xXBbbxuk71N"
      },
      "execution_count": 10,
      "outputs": []
    },
    {
      "cell_type": "code",
      "source": [
        "data_raw_2 = pd.DataFrame(data2)"
      ],
      "metadata": {
        "id": "WkxXimgwlBW8"
      },
      "execution_count": 11,
      "outputs": []
    },
    {
      "cell_type": "code",
      "source": [
        "data_raw_2.drop('Classification',axis = 1,inplace=True)"
      ],
      "metadata": {
        "id": "Ow-1abyqlFUj"
      },
      "execution_count": 12,
      "outputs": []
    },
    {
      "cell_type": "code",
      "source": [
        "data_raw_2.head(2)"
      ],
      "metadata": {
        "id": "E7eDdxMblIG6",
        "colab": {
          "base_uri": "https://localhost:8080/",
          "height": 112
        },
        "outputId": "c2b7479f-6bea-4674-972e-01318e32169c"
      },
      "execution_count": 13,
      "outputs": [
        {
          "output_type": "execute_result",
          "data": {
            "text/plain": [
              "            Date Value\n",
              "1499  2018/03/29    18\n",
              "1498  2018/03/30    12"
            ],
            "text/html": [
              "\n",
              "  <div id=\"df-73cf02a5-2fed-430c-a109-17f2b5d42b02\">\n",
              "    <div class=\"colab-df-container\">\n",
              "      <div>\n",
              "<style scoped>\n",
              "    .dataframe tbody tr th:only-of-type {\n",
              "        vertical-align: middle;\n",
              "    }\n",
              "\n",
              "    .dataframe tbody tr th {\n",
              "        vertical-align: top;\n",
              "    }\n",
              "\n",
              "    .dataframe thead th {\n",
              "        text-align: right;\n",
              "    }\n",
              "</style>\n",
              "<table border=\"1\" class=\"dataframe\">\n",
              "  <thead>\n",
              "    <tr style=\"text-align: right;\">\n",
              "      <th></th>\n",
              "      <th>Date</th>\n",
              "      <th>Value</th>\n",
              "    </tr>\n",
              "  </thead>\n",
              "  <tbody>\n",
              "    <tr>\n",
              "      <th>1499</th>\n",
              "      <td>2018/03/29</td>\n",
              "      <td>18</td>\n",
              "    </tr>\n",
              "    <tr>\n",
              "      <th>1498</th>\n",
              "      <td>2018/03/30</td>\n",
              "      <td>12</td>\n",
              "    </tr>\n",
              "  </tbody>\n",
              "</table>\n",
              "</div>\n",
              "      <button class=\"colab-df-convert\" onclick=\"convertToInteractive('df-73cf02a5-2fed-430c-a109-17f2b5d42b02')\"\n",
              "              title=\"Convert this dataframe to an interactive table.\"\n",
              "              style=\"display:none;\">\n",
              "        \n",
              "  <svg xmlns=\"http://www.w3.org/2000/svg\" height=\"24px\"viewBox=\"0 0 24 24\"\n",
              "       width=\"24px\">\n",
              "    <path d=\"M0 0h24v24H0V0z\" fill=\"none\"/>\n",
              "    <path d=\"M18.56 5.44l.94 2.06.94-2.06 2.06-.94-2.06-.94-.94-2.06-.94 2.06-2.06.94zm-11 1L8.5 8.5l.94-2.06 2.06-.94-2.06-.94L8.5 2.5l-.94 2.06-2.06.94zm10 10l.94 2.06.94-2.06 2.06-.94-2.06-.94-.94-2.06-.94 2.06-2.06.94z\"/><path d=\"M17.41 7.96l-1.37-1.37c-.4-.4-.92-.59-1.43-.59-.52 0-1.04.2-1.43.59L10.3 9.45l-7.72 7.72c-.78.78-.78 2.05 0 2.83L4 21.41c.39.39.9.59 1.41.59.51 0 1.02-.2 1.41-.59l7.78-7.78 2.81-2.81c.8-.78.8-2.07 0-2.86zM5.41 20L4 18.59l7.72-7.72 1.47 1.35L5.41 20z\"/>\n",
              "  </svg>\n",
              "      </button>\n",
              "      \n",
              "  <style>\n",
              "    .colab-df-container {\n",
              "      display:flex;\n",
              "      flex-wrap:wrap;\n",
              "      gap: 12px;\n",
              "    }\n",
              "\n",
              "    .colab-df-convert {\n",
              "      background-color: #E8F0FE;\n",
              "      border: none;\n",
              "      border-radius: 50%;\n",
              "      cursor: pointer;\n",
              "      display: none;\n",
              "      fill: #1967D2;\n",
              "      height: 32px;\n",
              "      padding: 0 0 0 0;\n",
              "      width: 32px;\n",
              "    }\n",
              "\n",
              "    .colab-df-convert:hover {\n",
              "      background-color: #E2EBFA;\n",
              "      box-shadow: 0px 1px 2px rgba(60, 64, 67, 0.3), 0px 1px 3px 1px rgba(60, 64, 67, 0.15);\n",
              "      fill: #174EA6;\n",
              "    }\n",
              "\n",
              "    [theme=dark] .colab-df-convert {\n",
              "      background-color: #3B4455;\n",
              "      fill: #D2E3FC;\n",
              "    }\n",
              "\n",
              "    [theme=dark] .colab-df-convert:hover {\n",
              "      background-color: #434B5C;\n",
              "      box-shadow: 0px 1px 3px 1px rgba(0, 0, 0, 0.15);\n",
              "      filter: drop-shadow(0px 1px 2px rgba(0, 0, 0, 0.3));\n",
              "      fill: #FFFFFF;\n",
              "    }\n",
              "  </style>\n",
              "\n",
              "      <script>\n",
              "        const buttonEl =\n",
              "          document.querySelector('#df-73cf02a5-2fed-430c-a109-17f2b5d42b02 button.colab-df-convert');\n",
              "        buttonEl.style.display =\n",
              "          google.colab.kernel.accessAllowed ? 'block' : 'none';\n",
              "\n",
              "        async function convertToInteractive(key) {\n",
              "          const element = document.querySelector('#df-73cf02a5-2fed-430c-a109-17f2b5d42b02');\n",
              "          const dataTable =\n",
              "            await google.colab.kernel.invokeFunction('convertToInteractive',\n",
              "                                                     [key], {});\n",
              "          if (!dataTable) return;\n",
              "\n",
              "          const docLinkHtml = 'Like what you see? Visit the ' +\n",
              "            '<a target=\"_blank\" href=https://colab.research.google.com/notebooks/data_table.ipynb>data table notebook</a>'\n",
              "            + ' to learn more about interactive tables.';\n",
              "          element.innerHTML = '';\n",
              "          dataTable['output_type'] = 'display_data';\n",
              "          await google.colab.output.renderOutput(dataTable, element);\n",
              "          const docLink = document.createElement('div');\n",
              "          docLink.innerHTML = docLinkHtml;\n",
              "          element.appendChild(docLink);\n",
              "        }\n",
              "      </script>\n",
              "    </div>\n",
              "  </div>\n",
              "  "
            ]
          },
          "metadata": {},
          "execution_count": 13
        }
      ]
    },
    {
      "cell_type": "code",
      "source": [
        "data_raw = pd.merge(data_raw, data_raw_2, on='Date')"
      ],
      "metadata": {
        "id": "XR2309HzlQSr"
      },
      "execution_count": 14,
      "outputs": []
    },
    {
      "cell_type": "code",
      "source": [
        "data_raw.rename(columns={'Value':'fear_gear_index'}, inplace=True)"
      ],
      "metadata": {
        "id": "ZxHSOoN-qCTB"
      },
      "execution_count": 15,
      "outputs": []
    },
    {
      "cell_type": "markdown",
      "source": [
        "## Scarping data source 3"
      ],
      "metadata": {
        "id": "qQBlJCduZzfQ"
      }
    },
    {
      "cell_type": "code",
      "source": [
        "# source3 : https://investpy.readthedocs.io/_api/crypto.html\n",
        "!pip install investpy"
      ],
      "metadata": {
        "colab": {
          "base_uri": "https://localhost:8080/",
          "height": 641
        },
        "id": "oUWbW7K0Z1S-",
        "outputId": "30c8b7c5-7ed9-4a68-e1fc-0b04f4421a0b"
      },
      "execution_count": 16,
      "outputs": [
        {
          "output_type": "stream",
          "name": "stdout",
          "text": [
            "Collecting investpy\n",
            "  Downloading investpy-1.0.8.tar.gz (4.4 MB)\n",
            "\u001b[K     |████████████████████████████████| 4.4 MB 7.6 MB/s \n",
            "\u001b[?25hCollecting Unidecode>=1.1.1\n",
            "  Downloading Unidecode-1.3.4-py3-none-any.whl (235 kB)\n",
            "\u001b[K     |████████████████████████████████| 235 kB 60.6 MB/s \n",
            "\u001b[?25hRequirement already satisfied: setuptools>=41.2.0 in /usr/local/lib/python3.7/dist-packages (from investpy) (57.4.0)\n",
            "Requirement already satisfied: numpy>=1.17.2 in /usr/local/lib/python3.7/dist-packages (from investpy) (1.21.6)\n",
            "Requirement already satisfied: pandas>=0.25.1 in /usr/local/lib/python3.7/dist-packages (from investpy) (1.3.5)\n",
            "Collecting lxml>=4.4.1\n",
            "  Downloading lxml-4.8.0-cp37-cp37m-manylinux_2_17_x86_64.manylinux2014_x86_64.manylinux_2_24_x86_64.whl (6.4 MB)\n",
            "\u001b[K     |████████████████████████████████| 6.4 MB 45.4 MB/s \n",
            "\u001b[?25hRequirement already satisfied: requests>=2.22.0 in /usr/local/lib/python3.7/dist-packages (from investpy) (2.23.0)\n",
            "Requirement already satisfied: pytz>=2019.3 in /usr/local/lib/python3.7/dist-packages (from investpy) (2022.1)\n",
            "Requirement already satisfied: python-dateutil>=2.7.3 in /usr/local/lib/python3.7/dist-packages (from pandas>=0.25.1->investpy) (2.8.2)\n",
            "Requirement already satisfied: six>=1.5 in /usr/local/lib/python3.7/dist-packages (from python-dateutil>=2.7.3->pandas>=0.25.1->investpy) (1.15.0)\n",
            "Requirement already satisfied: urllib3!=1.25.0,!=1.25.1,<1.26,>=1.21.1 in /usr/local/lib/python3.7/dist-packages (from requests>=2.22.0->investpy) (1.24.3)\n",
            "Requirement already satisfied: chardet<4,>=3.0.2 in /usr/local/lib/python3.7/dist-packages (from requests>=2.22.0->investpy) (3.0.4)\n",
            "Requirement already satisfied: idna<3,>=2.5 in /usr/local/lib/python3.7/dist-packages (from requests>=2.22.0->investpy) (2.10)\n",
            "Requirement already satisfied: certifi>=2017.4.17 in /usr/local/lib/python3.7/dist-packages (from requests>=2.22.0->investpy) (2021.10.8)\n",
            "Building wheels for collected packages: investpy\n",
            "  Building wheel for investpy (setup.py) ... \u001b[?25l\u001b[?25hdone\n",
            "  Created wheel for investpy: filename=investpy-1.0.8-py3-none-any.whl size=4481592 sha256=9dc9245f1c2aef0dcc463f88162136e614c3ffbe7e998bf5fddfbabc115da319\n",
            "  Stored in directory: /root/.cache/pip/wheels/96/a8/a5/0d33c72eaf00b41df7b9dc1e15d2b7c7154b3f1379ed350211\n",
            "Successfully built investpy\n",
            "Installing collected packages: Unidecode, lxml, investpy\n",
            "  Attempting uninstall: lxml\n",
            "    Found existing installation: lxml 4.2.6\n",
            "    Uninstalling lxml-4.2.6:\n",
            "      Successfully uninstalled lxml-4.2.6\n",
            "Successfully installed Unidecode-1.3.4 investpy-1.0.8 lxml-4.8.0\n"
          ]
        },
        {
          "output_type": "display_data",
          "data": {
            "application/vnd.colab-display-data+json": {
              "pip_warning": {
                "packages": [
                  "lxml"
                ]
              }
            }
          },
          "metadata": {}
        }
      ]
    },
    {
      "cell_type": "code",
      "source": [
        "import investpy\n",
        "data_raw_3 = investpy.crypto.get_crypto_historical_data(crypto='bitcoin',from_date='01/01/2010',to_date='31/05/2022')\n",
        "data_raw_3.reset_index(inplace=True)\n",
        "data_raw_3.drop(['Volume','Currency'],axis=1,inplace=True)"
      ],
      "metadata": {
        "id": "dLTnVHCBgfR2"
      },
      "execution_count": 17,
      "outputs": []
    },
    {
      "cell_type": "code",
      "source": [
        "data_raw_3 = pd.DataFrame(data_raw_3)"
      ],
      "metadata": {
        "id": "Fbe8CWdfm1fg"
      },
      "execution_count": 18,
      "outputs": []
    },
    {
      "cell_type": "code",
      "source": [
        "import datetime as dt\n",
        "data_raw_3['Date'] = data_raw_3['Date'].dt.strftime('%Y/%m/%d')"
      ],
      "metadata": {
        "id": "Zmpb8w2eFzsC"
      },
      "execution_count": 19,
      "outputs": []
    },
    {
      "cell_type": "code",
      "source": [
        "data_raw = pd.merge(data_raw, data_raw_3, on='Date')"
      ],
      "metadata": {
        "id": "JEtKep2soKng"
      },
      "execution_count": 20,
      "outputs": []
    },
    {
      "cell_type": "markdown",
      "source": [
        "## Scraping data source 4"
      ],
      "metadata": {
        "id": "p9_k5s1EcNjL"
      }
    },
    {
      "cell_type": "code",
      "source": [
        "#source4:  https://data.nasdaq.com/data/BCHAIN/MIREV-bitcoin-miners-revenue\n",
        "!pip install Quandl"
      ],
      "metadata": {
        "id": "1Wn7fIFQbnJJ",
        "colab": {
          "base_uri": "https://localhost:8080/"
        },
        "outputId": "77b3a42a-7be9-4930-c284-ae0d4bbe1a67"
      },
      "execution_count": 21,
      "outputs": [
        {
          "output_type": "stream",
          "name": "stdout",
          "text": [
            "Collecting Quandl\n",
            "  Downloading Quandl-3.7.0-py2.py3-none-any.whl (26 kB)\n",
            "Requirement already satisfied: requests>=2.7.0 in /usr/local/lib/python3.7/dist-packages (from Quandl) (2.23.0)\n",
            "Collecting inflection>=0.3.1\n",
            "  Downloading inflection-0.5.1-py2.py3-none-any.whl (9.5 kB)\n",
            "Requirement already satisfied: more-itertools in /usr/local/lib/python3.7/dist-packages (from Quandl) (8.12.0)\n",
            "Requirement already satisfied: pandas>=0.14 in /usr/local/lib/python3.7/dist-packages (from Quandl) (1.3.5)\n",
            "Requirement already satisfied: python-dateutil in /usr/local/lib/python3.7/dist-packages (from Quandl) (2.8.2)\n",
            "Requirement already satisfied: six in /usr/local/lib/python3.7/dist-packages (from Quandl) (1.15.0)\n",
            "Requirement already satisfied: numpy>=1.8 in /usr/local/lib/python3.7/dist-packages (from Quandl) (1.21.6)\n",
            "Requirement already satisfied: pytz>=2017.3 in /usr/local/lib/python3.7/dist-packages (from pandas>=0.14->Quandl) (2022.1)\n",
            "Requirement already satisfied: idna<3,>=2.5 in /usr/local/lib/python3.7/dist-packages (from requests>=2.7.0->Quandl) (2.10)\n",
            "Requirement already satisfied: urllib3!=1.25.0,!=1.25.1,<1.26,>=1.21.1 in /usr/local/lib/python3.7/dist-packages (from requests>=2.7.0->Quandl) (1.24.3)\n",
            "Requirement already satisfied: certifi>=2017.4.17 in /usr/local/lib/python3.7/dist-packages (from requests>=2.7.0->Quandl) (2021.10.8)\n",
            "Requirement already satisfied: chardet<4,>=3.0.2 in /usr/local/lib/python3.7/dist-packages (from requests>=2.7.0->Quandl) (3.0.4)\n",
            "Installing collected packages: inflection, Quandl\n",
            "Successfully installed Quandl-3.7.0 inflection-0.5.1\n"
          ]
        }
      ]
    },
    {
      "cell_type": "code",
      "source": [
        "import quandl\n",
        "data_raw_4 = quandl.get(\"BCHAIN/MIREV\",authtoken='Bi24yBMurcVhy7VEQ7oC')\n",
        "data_raw_4.reset_index(inplace=True)\n",
        "data_raw_4['Date'] = data_raw_4['Date'].dt.strftime('%Y/%m/%d')"
      ],
      "metadata": {
        "id": "FXsz4VUwjgDz"
      },
      "execution_count": 22,
      "outputs": []
    },
    {
      "cell_type": "code",
      "source": [
        "data_raw_4.rename(columns={'Value':'miners_revenue'}, inplace=True)"
      ],
      "metadata": {
        "id": "rDgGvzZ5d_Rs"
      },
      "execution_count": 23,
      "outputs": []
    },
    {
      "cell_type": "code",
      "source": [
        "data_raw_4 = pd.DataFrame(data_raw_4)"
      ],
      "metadata": {
        "id": "m7g9zU6Veo2R"
      },
      "execution_count": 24,
      "outputs": []
    },
    {
      "cell_type": "code",
      "source": [
        "data_raw = pd.merge(data_raw, data_raw_4, on='Date')"
      ],
      "metadata": {
        "id": "glLQmOqfeio-"
      },
      "execution_count": 25,
      "outputs": []
    },
    {
      "cell_type": "markdown",
      "source": [
        "## other features"
      ],
      "metadata": {
        "id": "YNlieLi1Sz6B"
      }
    },
    {
      "cell_type": "code",
      "source": [
        "data_raw['coins_in_supply'] = data_raw['marketcap']/data_raw['avg_price']"
      ],
      "metadata": {
        "id": "wIN3UjzPS2em"
      },
      "execution_count": 26,
      "outputs": []
    },
    {
      "cell_type": "code",
      "source": [
        "data_raw.drop(['marketcap'], axis = 1,inplace=True)"
      ],
      "metadata": {
        "id": "hzAWkxHQTO1P"
      },
      "execution_count": 27,
      "outputs": []
    },
    {
      "cell_type": "markdown",
      "source": [
        "### Note:\n",
        "Market capital is the product of average bitcoin prices and BTC coins in supply. New feature 'coins_in_supply' is extracted from market cap feature and same is dropped from the dataset."
      ],
      "metadata": {
        "id": "UNy49PLXS4az"
      }
    },
    {
      "cell_type": "markdown",
      "source": [
        "## Target Shifting"
      ],
      "metadata": {
        "id": "bXYoqnMbrzIS"
      }
    },
    {
      "cell_type": "code",
      "source": [
        "data_raw['next_day_BTC_price'] = data_raw['Close']"
      ],
      "metadata": {
        "id": "_HJqgSJJtlPt"
      },
      "execution_count": 28,
      "outputs": []
    },
    {
      "cell_type": "code",
      "source": [
        "data_raw['next_day_BTC_price'] = data_raw['next_day_BTC_price'].shift(-1,fill_value=1).values"
      ],
      "metadata": {
        "id": "vriIXXtmng4-"
      },
      "execution_count": 29,
      "outputs": []
    },
    {
      "cell_type": "code",
      "source": [
        "data_raw = data_raw.iloc[:-1,:]"
      ],
      "metadata": {
        "id": "iPQVfVuerYtU"
      },
      "execution_count": 30,
      "outputs": []
    },
    {
      "cell_type": "code",
      "source": [
        "data_raw"
      ],
      "metadata": {
        "colab": {
          "base_uri": "https://localhost:8080/",
          "height": 488
        },
        "id": "pXfxYx9iTq5o",
        "outputId": "bad59a7b-ff19-4ece-d826-267f07b415d1"
      },
      "execution_count": 31,
      "outputs": [
        {
          "output_type": "execute_result",
          "data": {
            "text/plain": [
              "            Date  transactions      size  sentbyaddress    difficulty  \\\n",
              "0     2018/03/29        192259  564549.0         287598  3.462542e+12   \n",
              "1     2018/03/30        185778  524121.0         291035  3.462542e+12   \n",
              "2     2018/03/31        148489  555531.0         220797  3.462542e+12   \n",
              "3     2018/04/01        134967  375247.0         206387  3.494289e+12   \n",
              "4     2018/04/02        168022  474973.0         246937  3.511061e+12   \n",
              "...          ...           ...       ...            ...           ...   \n",
              "1493  2022/05/03        277745  596713.0         498779  2.979441e+13   \n",
              "1494  2022/05/04        232899  663673.0         433541  2.979441e+13   \n",
              "1495  2022/05/05        315602  858315.0         500341  2.979441e+13   \n",
              "1496  2022/05/06        286745  779808.0         437045  2.979441e+13   \n",
              "1497  2022/05/07        231480  635385.0         334757  2.979441e+13   \n",
              "\n",
              "          hashrate  mining_profitability     sentinusd  transactionfees  \\\n",
              "0     2.436379e+19                 0.597  4.772992e+09            1.068   \n",
              "1     2.779461e+19                 0.510  5.500617e+09            0.958   \n",
              "2     2.457113e+19                 0.463  3.468629e+09            0.950   \n",
              "3     2.531043e+19                 0.551  3.626222e+09            0.925   \n",
              "4     2.752811e+19                 0.502  6.054217e+09            0.892   \n",
              "...            ...                   ...           ...              ...   \n",
              "1493  2.216073e+20                 0.164  7.698587e+10            1.332   \n",
              "1494  2.261539e+20                 0.159  1.135850e+11            2.102   \n",
              "1495  2.193657e+20                 0.176  2.037304e+11            2.722   \n",
              "1496  2.208980e+20                 0.148  1.853635e+11            2.139   \n",
              "1497  2.197767e+20                 0.148  8.302000e+10            2.136   \n",
              "\n",
              "      median_transaction_fee  ...  fee_to_reward  avg_price  fear_gear_index  \\\n",
              "0                      0.146  ...          1.413     7548.0               18   \n",
              "1                      0.129  ...          1.257     6908.0               12   \n",
              "2                      0.127  ...          1.240     7025.0               16   \n",
              "3                      0.128  ...          0.896     6826.0               16   \n",
              "4                      0.120  ...          1.086     7004.0               11   \n",
              "...                      ...  ...            ...        ...              ...   \n",
              "1493                   0.434  ...          1.021    38264.0               27   \n",
              "1494                   0.598  ...          1.365    38809.0               21   \n",
              "1495                   0.896  ...          2.227    38452.0               27   \n",
              "1496                   0.822  ...          1.876    36159.0               22   \n",
              "1497                   0.758  ...          1.519    35876.0               23   \n",
              "\n",
              "         Open     High      Low    Close  miners_revenue  coins_in_supply  \\\n",
              "0      7955.2   7980.7   6954.9   7129.2    1.362733e+07     1.693143e+07   \n",
              "1      7132.4   7288.1   6603.8   6853.7    1.393713e+07     1.693312e+07   \n",
              "2      6856.5   7221.5   6804.9   6938.2    1.149622e+07     1.693489e+07   \n",
              "3      6939.1   7047.7   6460.1   6825.2    1.375806e+07     1.693711e+07   \n",
              "4      6825.4   7121.3   6787.6   7068.4    1.371990e+07     1.693851e+07   \n",
              "...       ...      ...      ...      ...             ...              ...   \n",
              "1493  38515.0  38647.0  37513.0  37718.0    3.626107e+07     1.902964e+07   \n",
              "1494  37717.0  40021.0  37660.0  39688.0    3.587458e+07     1.903026e+07   \n",
              "1495  39686.0  39833.0  36183.0  36544.0    3.864103e+07     1.903134e+07   \n",
              "1496  36540.0  36646.0  35267.0  36009.0    3.318364e+07     1.903244e+07   \n",
              "1497  36003.0  36119.0  34773.0  35468.0    3.260291e+07     1.903307e+07   \n",
              "\n",
              "     next_day_BTC_price  \n",
              "0                6853.7  \n",
              "1                6938.2  \n",
              "2                6825.2  \n",
              "3                7068.4  \n",
              "4                7424.2  \n",
              "...                 ...  \n",
              "1493            39688.0  \n",
              "1494            36544.0  \n",
              "1495            36009.0  \n",
              "1496            35468.0  \n",
              "1497            34060.0  \n",
              "\n",
              "[1498 rows x 27 columns]"
            ],
            "text/html": [
              "\n",
              "  <div id=\"df-f84e97d7-e81f-414a-ae8f-c1f5534428fd\">\n",
              "    <div class=\"colab-df-container\">\n",
              "      <div>\n",
              "<style scoped>\n",
              "    .dataframe tbody tr th:only-of-type {\n",
              "        vertical-align: middle;\n",
              "    }\n",
              "\n",
              "    .dataframe tbody tr th {\n",
              "        vertical-align: top;\n",
              "    }\n",
              "\n",
              "    .dataframe thead th {\n",
              "        text-align: right;\n",
              "    }\n",
              "</style>\n",
              "<table border=\"1\" class=\"dataframe\">\n",
              "  <thead>\n",
              "    <tr style=\"text-align: right;\">\n",
              "      <th></th>\n",
              "      <th>Date</th>\n",
              "      <th>transactions</th>\n",
              "      <th>size</th>\n",
              "      <th>sentbyaddress</th>\n",
              "      <th>difficulty</th>\n",
              "      <th>hashrate</th>\n",
              "      <th>mining_profitability</th>\n",
              "      <th>sentinusd</th>\n",
              "      <th>transactionfees</th>\n",
              "      <th>median_transaction_fee</th>\n",
              "      <th>...</th>\n",
              "      <th>fee_to_reward</th>\n",
              "      <th>avg_price</th>\n",
              "      <th>fear_gear_index</th>\n",
              "      <th>Open</th>\n",
              "      <th>High</th>\n",
              "      <th>Low</th>\n",
              "      <th>Close</th>\n",
              "      <th>miners_revenue</th>\n",
              "      <th>coins_in_supply</th>\n",
              "      <th>next_day_BTC_price</th>\n",
              "    </tr>\n",
              "  </thead>\n",
              "  <tbody>\n",
              "    <tr>\n",
              "      <th>0</th>\n",
              "      <td>2018/03/29</td>\n",
              "      <td>192259</td>\n",
              "      <td>564549.0</td>\n",
              "      <td>287598</td>\n",
              "      <td>3.462542e+12</td>\n",
              "      <td>2.436379e+19</td>\n",
              "      <td>0.597</td>\n",
              "      <td>4.772992e+09</td>\n",
              "      <td>1.068</td>\n",
              "      <td>0.146</td>\n",
              "      <td>...</td>\n",
              "      <td>1.413</td>\n",
              "      <td>7548.0</td>\n",
              "      <td>18</td>\n",
              "      <td>7955.2</td>\n",
              "      <td>7980.7</td>\n",
              "      <td>6954.9</td>\n",
              "      <td>7129.2</td>\n",
              "      <td>1.362733e+07</td>\n",
              "      <td>1.693143e+07</td>\n",
              "      <td>6853.7</td>\n",
              "    </tr>\n",
              "    <tr>\n",
              "      <th>1</th>\n",
              "      <td>2018/03/30</td>\n",
              "      <td>185778</td>\n",
              "      <td>524121.0</td>\n",
              "      <td>291035</td>\n",
              "      <td>3.462542e+12</td>\n",
              "      <td>2.779461e+19</td>\n",
              "      <td>0.510</td>\n",
              "      <td>5.500617e+09</td>\n",
              "      <td>0.958</td>\n",
              "      <td>0.129</td>\n",
              "      <td>...</td>\n",
              "      <td>1.257</td>\n",
              "      <td>6908.0</td>\n",
              "      <td>12</td>\n",
              "      <td>7132.4</td>\n",
              "      <td>7288.1</td>\n",
              "      <td>6603.8</td>\n",
              "      <td>6853.7</td>\n",
              "      <td>1.393713e+07</td>\n",
              "      <td>1.693312e+07</td>\n",
              "      <td>6938.2</td>\n",
              "    </tr>\n",
              "    <tr>\n",
              "      <th>2</th>\n",
              "      <td>2018/03/31</td>\n",
              "      <td>148489</td>\n",
              "      <td>555531.0</td>\n",
              "      <td>220797</td>\n",
              "      <td>3.462542e+12</td>\n",
              "      <td>2.457113e+19</td>\n",
              "      <td>0.463</td>\n",
              "      <td>3.468629e+09</td>\n",
              "      <td>0.950</td>\n",
              "      <td>0.127</td>\n",
              "      <td>...</td>\n",
              "      <td>1.240</td>\n",
              "      <td>7025.0</td>\n",
              "      <td>16</td>\n",
              "      <td>6856.5</td>\n",
              "      <td>7221.5</td>\n",
              "      <td>6804.9</td>\n",
              "      <td>6938.2</td>\n",
              "      <td>1.149622e+07</td>\n",
              "      <td>1.693489e+07</td>\n",
              "      <td>6825.2</td>\n",
              "    </tr>\n",
              "    <tr>\n",
              "      <th>3</th>\n",
              "      <td>2018/04/01</td>\n",
              "      <td>134967</td>\n",
              "      <td>375247.0</td>\n",
              "      <td>206387</td>\n",
              "      <td>3.494289e+12</td>\n",
              "      <td>2.531043e+19</td>\n",
              "      <td>0.551</td>\n",
              "      <td>3.626222e+09</td>\n",
              "      <td>0.925</td>\n",
              "      <td>0.128</td>\n",
              "      <td>...</td>\n",
              "      <td>0.896</td>\n",
              "      <td>6826.0</td>\n",
              "      <td>16</td>\n",
              "      <td>6939.1</td>\n",
              "      <td>7047.7</td>\n",
              "      <td>6460.1</td>\n",
              "      <td>6825.2</td>\n",
              "      <td>1.375806e+07</td>\n",
              "      <td>1.693711e+07</td>\n",
              "      <td>7068.4</td>\n",
              "    </tr>\n",
              "    <tr>\n",
              "      <th>4</th>\n",
              "      <td>2018/04/02</td>\n",
              "      <td>168022</td>\n",
              "      <td>474973.0</td>\n",
              "      <td>246937</td>\n",
              "      <td>3.511061e+12</td>\n",
              "      <td>2.752811e+19</td>\n",
              "      <td>0.502</td>\n",
              "      <td>6.054217e+09</td>\n",
              "      <td>0.892</td>\n",
              "      <td>0.120</td>\n",
              "      <td>...</td>\n",
              "      <td>1.086</td>\n",
              "      <td>7004.0</td>\n",
              "      <td>11</td>\n",
              "      <td>6825.4</td>\n",
              "      <td>7121.3</td>\n",
              "      <td>6787.6</td>\n",
              "      <td>7068.4</td>\n",
              "      <td>1.371990e+07</td>\n",
              "      <td>1.693851e+07</td>\n",
              "      <td>7424.2</td>\n",
              "    </tr>\n",
              "    <tr>\n",
              "      <th>...</th>\n",
              "      <td>...</td>\n",
              "      <td>...</td>\n",
              "      <td>...</td>\n",
              "      <td>...</td>\n",
              "      <td>...</td>\n",
              "      <td>...</td>\n",
              "      <td>...</td>\n",
              "      <td>...</td>\n",
              "      <td>...</td>\n",
              "      <td>...</td>\n",
              "      <td>...</td>\n",
              "      <td>...</td>\n",
              "      <td>...</td>\n",
              "      <td>...</td>\n",
              "      <td>...</td>\n",
              "      <td>...</td>\n",
              "      <td>...</td>\n",
              "      <td>...</td>\n",
              "      <td>...</td>\n",
              "      <td>...</td>\n",
              "      <td>...</td>\n",
              "    </tr>\n",
              "    <tr>\n",
              "      <th>1493</th>\n",
              "      <td>2022/05/03</td>\n",
              "      <td>277745</td>\n",
              "      <td>596713.0</td>\n",
              "      <td>498779</td>\n",
              "      <td>2.979441e+13</td>\n",
              "      <td>2.216073e+20</td>\n",
              "      <td>0.164</td>\n",
              "      <td>7.698587e+10</td>\n",
              "      <td>1.332</td>\n",
              "      <td>0.434</td>\n",
              "      <td>...</td>\n",
              "      <td>1.021</td>\n",
              "      <td>38264.0</td>\n",
              "      <td>27</td>\n",
              "      <td>38515.0</td>\n",
              "      <td>38647.0</td>\n",
              "      <td>37513.0</td>\n",
              "      <td>37718.0</td>\n",
              "      <td>3.626107e+07</td>\n",
              "      <td>1.902964e+07</td>\n",
              "      <td>39688.0</td>\n",
              "    </tr>\n",
              "    <tr>\n",
              "      <th>1494</th>\n",
              "      <td>2022/05/04</td>\n",
              "      <td>232899</td>\n",
              "      <td>663673.0</td>\n",
              "      <td>433541</td>\n",
              "      <td>2.979441e+13</td>\n",
              "      <td>2.261539e+20</td>\n",
              "      <td>0.159</td>\n",
              "      <td>1.135850e+11</td>\n",
              "      <td>2.102</td>\n",
              "      <td>0.598</td>\n",
              "      <td>...</td>\n",
              "      <td>1.365</td>\n",
              "      <td>38809.0</td>\n",
              "      <td>21</td>\n",
              "      <td>37717.0</td>\n",
              "      <td>40021.0</td>\n",
              "      <td>37660.0</td>\n",
              "      <td>39688.0</td>\n",
              "      <td>3.587458e+07</td>\n",
              "      <td>1.903026e+07</td>\n",
              "      <td>36544.0</td>\n",
              "    </tr>\n",
              "    <tr>\n",
              "      <th>1495</th>\n",
              "      <td>2022/05/05</td>\n",
              "      <td>315602</td>\n",
              "      <td>858315.0</td>\n",
              "      <td>500341</td>\n",
              "      <td>2.979441e+13</td>\n",
              "      <td>2.193657e+20</td>\n",
              "      <td>0.176</td>\n",
              "      <td>2.037304e+11</td>\n",
              "      <td>2.722</td>\n",
              "      <td>0.896</td>\n",
              "      <td>...</td>\n",
              "      <td>2.227</td>\n",
              "      <td>38452.0</td>\n",
              "      <td>27</td>\n",
              "      <td>39686.0</td>\n",
              "      <td>39833.0</td>\n",
              "      <td>36183.0</td>\n",
              "      <td>36544.0</td>\n",
              "      <td>3.864103e+07</td>\n",
              "      <td>1.903134e+07</td>\n",
              "      <td>36009.0</td>\n",
              "    </tr>\n",
              "    <tr>\n",
              "      <th>1496</th>\n",
              "      <td>2022/05/06</td>\n",
              "      <td>286745</td>\n",
              "      <td>779808.0</td>\n",
              "      <td>437045</td>\n",
              "      <td>2.979441e+13</td>\n",
              "      <td>2.208980e+20</td>\n",
              "      <td>0.148</td>\n",
              "      <td>1.853635e+11</td>\n",
              "      <td>2.139</td>\n",
              "      <td>0.822</td>\n",
              "      <td>...</td>\n",
              "      <td>1.876</td>\n",
              "      <td>36159.0</td>\n",
              "      <td>22</td>\n",
              "      <td>36540.0</td>\n",
              "      <td>36646.0</td>\n",
              "      <td>35267.0</td>\n",
              "      <td>36009.0</td>\n",
              "      <td>3.318364e+07</td>\n",
              "      <td>1.903244e+07</td>\n",
              "      <td>35468.0</td>\n",
              "    </tr>\n",
              "    <tr>\n",
              "      <th>1497</th>\n",
              "      <td>2022/05/07</td>\n",
              "      <td>231480</td>\n",
              "      <td>635385.0</td>\n",
              "      <td>334757</td>\n",
              "      <td>2.979441e+13</td>\n",
              "      <td>2.197767e+20</td>\n",
              "      <td>0.148</td>\n",
              "      <td>8.302000e+10</td>\n",
              "      <td>2.136</td>\n",
              "      <td>0.758</td>\n",
              "      <td>...</td>\n",
              "      <td>1.519</td>\n",
              "      <td>35876.0</td>\n",
              "      <td>23</td>\n",
              "      <td>36003.0</td>\n",
              "      <td>36119.0</td>\n",
              "      <td>34773.0</td>\n",
              "      <td>35468.0</td>\n",
              "      <td>3.260291e+07</td>\n",
              "      <td>1.903307e+07</td>\n",
              "      <td>34060.0</td>\n",
              "    </tr>\n",
              "  </tbody>\n",
              "</table>\n",
              "<p>1498 rows × 27 columns</p>\n",
              "</div>\n",
              "      <button class=\"colab-df-convert\" onclick=\"convertToInteractive('df-f84e97d7-e81f-414a-ae8f-c1f5534428fd')\"\n",
              "              title=\"Convert this dataframe to an interactive table.\"\n",
              "              style=\"display:none;\">\n",
              "        \n",
              "  <svg xmlns=\"http://www.w3.org/2000/svg\" height=\"24px\"viewBox=\"0 0 24 24\"\n",
              "       width=\"24px\">\n",
              "    <path d=\"M0 0h24v24H0V0z\" fill=\"none\"/>\n",
              "    <path d=\"M18.56 5.44l.94 2.06.94-2.06 2.06-.94-2.06-.94-.94-2.06-.94 2.06-2.06.94zm-11 1L8.5 8.5l.94-2.06 2.06-.94-2.06-.94L8.5 2.5l-.94 2.06-2.06.94zm10 10l.94 2.06.94-2.06 2.06-.94-2.06-.94-.94-2.06-.94 2.06-2.06.94z\"/><path d=\"M17.41 7.96l-1.37-1.37c-.4-.4-.92-.59-1.43-.59-.52 0-1.04.2-1.43.59L10.3 9.45l-7.72 7.72c-.78.78-.78 2.05 0 2.83L4 21.41c.39.39.9.59 1.41.59.51 0 1.02-.2 1.41-.59l7.78-7.78 2.81-2.81c.8-.78.8-2.07 0-2.86zM5.41 20L4 18.59l7.72-7.72 1.47 1.35L5.41 20z\"/>\n",
              "  </svg>\n",
              "      </button>\n",
              "      \n",
              "  <style>\n",
              "    .colab-df-container {\n",
              "      display:flex;\n",
              "      flex-wrap:wrap;\n",
              "      gap: 12px;\n",
              "    }\n",
              "\n",
              "    .colab-df-convert {\n",
              "      background-color: #E8F0FE;\n",
              "      border: none;\n",
              "      border-radius: 50%;\n",
              "      cursor: pointer;\n",
              "      display: none;\n",
              "      fill: #1967D2;\n",
              "      height: 32px;\n",
              "      padding: 0 0 0 0;\n",
              "      width: 32px;\n",
              "    }\n",
              "\n",
              "    .colab-df-convert:hover {\n",
              "      background-color: #E2EBFA;\n",
              "      box-shadow: 0px 1px 2px rgba(60, 64, 67, 0.3), 0px 1px 3px 1px rgba(60, 64, 67, 0.15);\n",
              "      fill: #174EA6;\n",
              "    }\n",
              "\n",
              "    [theme=dark] .colab-df-convert {\n",
              "      background-color: #3B4455;\n",
              "      fill: #D2E3FC;\n",
              "    }\n",
              "\n",
              "    [theme=dark] .colab-df-convert:hover {\n",
              "      background-color: #434B5C;\n",
              "      box-shadow: 0px 1px 3px 1px rgba(0, 0, 0, 0.15);\n",
              "      filter: drop-shadow(0px 1px 2px rgba(0, 0, 0, 0.3));\n",
              "      fill: #FFFFFF;\n",
              "    }\n",
              "  </style>\n",
              "\n",
              "      <script>\n",
              "        const buttonEl =\n",
              "          document.querySelector('#df-f84e97d7-e81f-414a-ae8f-c1f5534428fd button.colab-df-convert');\n",
              "        buttonEl.style.display =\n",
              "          google.colab.kernel.accessAllowed ? 'block' : 'none';\n",
              "\n",
              "        async function convertToInteractive(key) {\n",
              "          const element = document.querySelector('#df-f84e97d7-e81f-414a-ae8f-c1f5534428fd');\n",
              "          const dataTable =\n",
              "            await google.colab.kernel.invokeFunction('convertToInteractive',\n",
              "                                                     [key], {});\n",
              "          if (!dataTable) return;\n",
              "\n",
              "          const docLinkHtml = 'Like what you see? Visit the ' +\n",
              "            '<a target=\"_blank\" href=https://colab.research.google.com/notebooks/data_table.ipynb>data table notebook</a>'\n",
              "            + ' to learn more about interactive tables.';\n",
              "          element.innerHTML = '';\n",
              "          dataTable['output_type'] = 'display_data';\n",
              "          await google.colab.output.renderOutput(dataTable, element);\n",
              "          const docLink = document.createElement('div');\n",
              "          docLink.innerHTML = docLinkHtml;\n",
              "          element.appendChild(docLink);\n",
              "        }\n",
              "      </script>\n",
              "    </div>\n",
              "  </div>\n",
              "  "
            ]
          },
          "metadata": {},
          "execution_count": 31
        }
      ]
    },
    {
      "cell_type": "markdown",
      "source": [
        "## Saving data to file"
      ],
      "metadata": {
        "id": "78kDU3l7VGTt"
      }
    },
    {
      "cell_type": "code",
      "source": [
        "data_raw.to_csv('btc_raw_1498_27.csv',sep=',',index=False)"
      ],
      "metadata": {
        "id": "aXDMsD3NUElb"
      },
      "execution_count": 32,
      "outputs": []
    }
  ]
}