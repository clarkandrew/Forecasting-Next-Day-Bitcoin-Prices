{
  "nbformat": 4,
  "nbformat_minor": 0,
  "metadata": {
    "colab": {
      "name": "Getting_Data.ipynb",
      "provenance": []
    },
    "kernelspec": {
      "name": "python3",
      "display_name": "Python 3"
    },
    "language_info": {
      "name": "python"
    },
    "widgets": {
      "application/vnd.jupyter.widget-state+json": {
        "999ef33e21134522bd69ff697f306984": {
          "model_module": "@jupyter-widgets/controls",
          "model_name": "HBoxModel",
          "model_module_version": "1.5.0",
          "state": {
            "_dom_classes": [],
            "_model_module": "@jupyter-widgets/controls",
            "_model_module_version": "1.5.0",
            "_model_name": "HBoxModel",
            "_view_count": null,
            "_view_module": "@jupyter-widgets/controls",
            "_view_module_version": "1.5.0",
            "_view_name": "HBoxView",
            "box_style": "",
            "children": [
              "IPY_MODEL_2435b9a85b194c408e79dba1dbb4aa0c",
              "IPY_MODEL_2cbe61f17c8e4b3bbf47ae1a0ef82ecc",
              "IPY_MODEL_c6e1b7f5b09947a7a7a4bf653956e814"
            ],
            "layout": "IPY_MODEL_5d5adef29e144646814e54198ed5b511"
          }
        },
        "2435b9a85b194c408e79dba1dbb4aa0c": {
          "model_module": "@jupyter-widgets/controls",
          "model_name": "HTMLModel",
          "model_module_version": "1.5.0",
          "state": {
            "_dom_classes": [],
            "_model_module": "@jupyter-widgets/controls",
            "_model_module_version": "1.5.0",
            "_model_name": "HTMLModel",
            "_view_count": null,
            "_view_module": "@jupyter-widgets/controls",
            "_view_module_version": "1.5.0",
            "_view_name": "HTMLView",
            "description": "",
            "description_tooltip": null,
            "layout": "IPY_MODEL_c90596bebd414a3c95e5fad89f6c393a",
            "placeholder": "​",
            "style": "IPY_MODEL_9ed6c01cb940447a9b7dee46aabf1a66",
            "value": "100%"
          }
        },
        "2cbe61f17c8e4b3bbf47ae1a0ef82ecc": {
          "model_module": "@jupyter-widgets/controls",
          "model_name": "FloatProgressModel",
          "model_module_version": "1.5.0",
          "state": {
            "_dom_classes": [],
            "_model_module": "@jupyter-widgets/controls",
            "_model_module_version": "1.5.0",
            "_model_name": "FloatProgressModel",
            "_view_count": null,
            "_view_module": "@jupyter-widgets/controls",
            "_view_module_version": "1.5.0",
            "_view_name": "ProgressView",
            "bar_style": "success",
            "description": "",
            "description_tooltip": null,
            "layout": "IPY_MODEL_28f173c58a5747178f533bbaaaf8b496",
            "max": 19,
            "min": 0,
            "orientation": "horizontal",
            "style": "IPY_MODEL_824cadc0a46c43079b4a44ca41992438",
            "value": 19
          }
        },
        "c6e1b7f5b09947a7a7a4bf653956e814": {
          "model_module": "@jupyter-widgets/controls",
          "model_name": "HTMLModel",
          "model_module_version": "1.5.0",
          "state": {
            "_dom_classes": [],
            "_model_module": "@jupyter-widgets/controls",
            "_model_module_version": "1.5.0",
            "_model_name": "HTMLModel",
            "_view_count": null,
            "_view_module": "@jupyter-widgets/controls",
            "_view_module_version": "1.5.0",
            "_view_name": "HTMLView",
            "description": "",
            "description_tooltip": null,
            "layout": "IPY_MODEL_c56d14a834bb45dca5011ec2a686ae5f",
            "placeholder": "​",
            "style": "IPY_MODEL_3e1c09ad3de44c7caa18a936150baeb9",
            "value": " 19/19 [00:00&lt;00:00, 317.76it/s]"
          }
        },
        "5d5adef29e144646814e54198ed5b511": {
          "model_module": "@jupyter-widgets/base",
          "model_name": "LayoutModel",
          "model_module_version": "1.2.0",
          "state": {
            "_model_module": "@jupyter-widgets/base",
            "_model_module_version": "1.2.0",
            "_model_name": "LayoutModel",
            "_view_count": null,
            "_view_module": "@jupyter-widgets/base",
            "_view_module_version": "1.2.0",
            "_view_name": "LayoutView",
            "align_content": null,
            "align_items": null,
            "align_self": null,
            "border": null,
            "bottom": null,
            "display": null,
            "flex": null,
            "flex_flow": null,
            "grid_area": null,
            "grid_auto_columns": null,
            "grid_auto_flow": null,
            "grid_auto_rows": null,
            "grid_column": null,
            "grid_gap": null,
            "grid_row": null,
            "grid_template_areas": null,
            "grid_template_columns": null,
            "grid_template_rows": null,
            "height": null,
            "justify_content": null,
            "justify_items": null,
            "left": null,
            "margin": null,
            "max_height": null,
            "max_width": null,
            "min_height": null,
            "min_width": null,
            "object_fit": null,
            "object_position": null,
            "order": null,
            "overflow": null,
            "overflow_x": null,
            "overflow_y": null,
            "padding": null,
            "right": null,
            "top": null,
            "visibility": null,
            "width": null
          }
        },
        "c90596bebd414a3c95e5fad89f6c393a": {
          "model_module": "@jupyter-widgets/base",
          "model_name": "LayoutModel",
          "model_module_version": "1.2.0",
          "state": {
            "_model_module": "@jupyter-widgets/base",
            "_model_module_version": "1.2.0",
            "_model_name": "LayoutModel",
            "_view_count": null,
            "_view_module": "@jupyter-widgets/base",
            "_view_module_version": "1.2.0",
            "_view_name": "LayoutView",
            "align_content": null,
            "align_items": null,
            "align_self": null,
            "border": null,
            "bottom": null,
            "display": null,
            "flex": null,
            "flex_flow": null,
            "grid_area": null,
            "grid_auto_columns": null,
            "grid_auto_flow": null,
            "grid_auto_rows": null,
            "grid_column": null,
            "grid_gap": null,
            "grid_row": null,
            "grid_template_areas": null,
            "grid_template_columns": null,
            "grid_template_rows": null,
            "height": null,
            "justify_content": null,
            "justify_items": null,
            "left": null,
            "margin": null,
            "max_height": null,
            "max_width": null,
            "min_height": null,
            "min_width": null,
            "object_fit": null,
            "object_position": null,
            "order": null,
            "overflow": null,
            "overflow_x": null,
            "overflow_y": null,
            "padding": null,
            "right": null,
            "top": null,
            "visibility": null,
            "width": null
          }
        },
        "9ed6c01cb940447a9b7dee46aabf1a66": {
          "model_module": "@jupyter-widgets/controls",
          "model_name": "DescriptionStyleModel",
          "model_module_version": "1.5.0",
          "state": {
            "_model_module": "@jupyter-widgets/controls",
            "_model_module_version": "1.5.0",
            "_model_name": "DescriptionStyleModel",
            "_view_count": null,
            "_view_module": "@jupyter-widgets/base",
            "_view_module_version": "1.2.0",
            "_view_name": "StyleView",
            "description_width": ""
          }
        },
        "28f173c58a5747178f533bbaaaf8b496": {
          "model_module": "@jupyter-widgets/base",
          "model_name": "LayoutModel",
          "model_module_version": "1.2.0",
          "state": {
            "_model_module": "@jupyter-widgets/base",
            "_model_module_version": "1.2.0",
            "_model_name": "LayoutModel",
            "_view_count": null,
            "_view_module": "@jupyter-widgets/base",
            "_view_module_version": "1.2.0",
            "_view_name": "LayoutView",
            "align_content": null,
            "align_items": null,
            "align_self": null,
            "border": null,
            "bottom": null,
            "display": null,
            "flex": null,
            "flex_flow": null,
            "grid_area": null,
            "grid_auto_columns": null,
            "grid_auto_flow": null,
            "grid_auto_rows": null,
            "grid_column": null,
            "grid_gap": null,
            "grid_row": null,
            "grid_template_areas": null,
            "grid_template_columns": null,
            "grid_template_rows": null,
            "height": null,
            "justify_content": null,
            "justify_items": null,
            "left": null,
            "margin": null,
            "max_height": null,
            "max_width": null,
            "min_height": null,
            "min_width": null,
            "object_fit": null,
            "object_position": null,
            "order": null,
            "overflow": null,
            "overflow_x": null,
            "overflow_y": null,
            "padding": null,
            "right": null,
            "top": null,
            "visibility": null,
            "width": null
          }
        },
        "824cadc0a46c43079b4a44ca41992438": {
          "model_module": "@jupyter-widgets/controls",
          "model_name": "ProgressStyleModel",
          "model_module_version": "1.5.0",
          "state": {
            "_model_module": "@jupyter-widgets/controls",
            "_model_module_version": "1.5.0",
            "_model_name": "ProgressStyleModel",
            "_view_count": null,
            "_view_module": "@jupyter-widgets/base",
            "_view_module_version": "1.2.0",
            "_view_name": "StyleView",
            "bar_color": null,
            "description_width": ""
          }
        },
        "c56d14a834bb45dca5011ec2a686ae5f": {
          "model_module": "@jupyter-widgets/base",
          "model_name": "LayoutModel",
          "model_module_version": "1.2.0",
          "state": {
            "_model_module": "@jupyter-widgets/base",
            "_model_module_version": "1.2.0",
            "_model_name": "LayoutModel",
            "_view_count": null,
            "_view_module": "@jupyter-widgets/base",
            "_view_module_version": "1.2.0",
            "_view_name": "LayoutView",
            "align_content": null,
            "align_items": null,
            "align_self": null,
            "border": null,
            "bottom": null,
            "display": null,
            "flex": null,
            "flex_flow": null,
            "grid_area": null,
            "grid_auto_columns": null,
            "grid_auto_flow": null,
            "grid_auto_rows": null,
            "grid_column": null,
            "grid_gap": null,
            "grid_row": null,
            "grid_template_areas": null,
            "grid_template_columns": null,
            "grid_template_rows": null,
            "height": null,
            "justify_content": null,
            "justify_items": null,
            "left": null,
            "margin": null,
            "max_height": null,
            "max_width": null,
            "min_height": null,
            "min_width": null,
            "object_fit": null,
            "object_position": null,
            "order": null,
            "overflow": null,
            "overflow_x": null,
            "overflow_y": null,
            "padding": null,
            "right": null,
            "top": null,
            "visibility": null,
            "width": null
          }
        },
        "3e1c09ad3de44c7caa18a936150baeb9": {
          "model_module": "@jupyter-widgets/controls",
          "model_name": "DescriptionStyleModel",
          "model_module_version": "1.5.0",
          "state": {
            "_model_module": "@jupyter-widgets/controls",
            "_model_module_version": "1.5.0",
            "_model_name": "DescriptionStyleModel",
            "_view_count": null,
            "_view_module": "@jupyter-widgets/base",
            "_view_module_version": "1.2.0",
            "_view_name": "StyleView",
            "description_width": ""
          }
        },
        "b1dde704a92d488cbbfb1b378d54f4e2": {
          "model_module": "@jupyter-widgets/controls",
          "model_name": "HBoxModel",
          "model_module_version": "1.5.0",
          "state": {
            "_dom_classes": [],
            "_model_module": "@jupyter-widgets/controls",
            "_model_module_version": "1.5.0",
            "_model_name": "HBoxModel",
            "_view_count": null,
            "_view_module": "@jupyter-widgets/controls",
            "_view_module_version": "1.5.0",
            "_view_name": "HBoxView",
            "box_style": "",
            "children": [
              "IPY_MODEL_489a0f19305f49d3ac3ad88c478a312c",
              "IPY_MODEL_9f68de81a7a549029d02c9c95e51a6fa",
              "IPY_MODEL_eeb60d60f3874dcd99b99d5e2b560142"
            ],
            "layout": "IPY_MODEL_c24555ac03cf47a39c07a6903c416e4e"
          }
        },
        "489a0f19305f49d3ac3ad88c478a312c": {
          "model_module": "@jupyter-widgets/controls",
          "model_name": "HTMLModel",
          "model_module_version": "1.5.0",
          "state": {
            "_dom_classes": [],
            "_model_module": "@jupyter-widgets/controls",
            "_model_module_version": "1.5.0",
            "_model_name": "HTMLModel",
            "_view_count": null,
            "_view_module": "@jupyter-widgets/controls",
            "_view_module_version": "1.5.0",
            "_view_name": "HTMLView",
            "description": "",
            "description_tooltip": null,
            "layout": "IPY_MODEL_b5e8f5d172484c28a71dd051368afaa6",
            "placeholder": "​",
            "style": "IPY_MODEL_765c23a6839945d890adf0681574cb27",
            "value": "100%"
          }
        },
        "9f68de81a7a549029d02c9c95e51a6fa": {
          "model_module": "@jupyter-widgets/controls",
          "model_name": "FloatProgressModel",
          "model_module_version": "1.5.0",
          "state": {
            "_dom_classes": [],
            "_model_module": "@jupyter-widgets/controls",
            "_model_module_version": "1.5.0",
            "_model_name": "FloatProgressModel",
            "_view_count": null,
            "_view_module": "@jupyter-widgets/controls",
            "_view_module_version": "1.5.0",
            "_view_name": "ProgressView",
            "bar_style": "success",
            "description": "",
            "description_tooltip": null,
            "layout": "IPY_MODEL_2c6e5db4782e4e929b920af735750557",
            "max": 19,
            "min": 0,
            "orientation": "horizontal",
            "style": "IPY_MODEL_313f7534371b4ee894f3bbaa4d0439d6",
            "value": 19
          }
        },
        "eeb60d60f3874dcd99b99d5e2b560142": {
          "model_module": "@jupyter-widgets/controls",
          "model_name": "HTMLModel",
          "model_module_version": "1.5.0",
          "state": {
            "_dom_classes": [],
            "_model_module": "@jupyter-widgets/controls",
            "_model_module_version": "1.5.0",
            "_model_name": "HTMLModel",
            "_view_count": null,
            "_view_module": "@jupyter-widgets/controls",
            "_view_module_version": "1.5.0",
            "_view_name": "HTMLView",
            "description": "",
            "description_tooltip": null,
            "layout": "IPY_MODEL_b2628ee963d74e73b5808021918100f0",
            "placeholder": "​",
            "style": "IPY_MODEL_380c0cdb6d264d55978559bb03285178",
            "value": " 19/19 [00:39&lt;00:00,  1.13it/s]"
          }
        },
        "c24555ac03cf47a39c07a6903c416e4e": {
          "model_module": "@jupyter-widgets/base",
          "model_name": "LayoutModel",
          "model_module_version": "1.2.0",
          "state": {
            "_model_module": "@jupyter-widgets/base",
            "_model_module_version": "1.2.0",
            "_model_name": "LayoutModel",
            "_view_count": null,
            "_view_module": "@jupyter-widgets/base",
            "_view_module_version": "1.2.0",
            "_view_name": "LayoutView",
            "align_content": null,
            "align_items": null,
            "align_self": null,
            "border": null,
            "bottom": null,
            "display": null,
            "flex": null,
            "flex_flow": null,
            "grid_area": null,
            "grid_auto_columns": null,
            "grid_auto_flow": null,
            "grid_auto_rows": null,
            "grid_column": null,
            "grid_gap": null,
            "grid_row": null,
            "grid_template_areas": null,
            "grid_template_columns": null,
            "grid_template_rows": null,
            "height": null,
            "justify_content": null,
            "justify_items": null,
            "left": null,
            "margin": null,
            "max_height": null,
            "max_width": null,
            "min_height": null,
            "min_width": null,
            "object_fit": null,
            "object_position": null,
            "order": null,
            "overflow": null,
            "overflow_x": null,
            "overflow_y": null,
            "padding": null,
            "right": null,
            "top": null,
            "visibility": null,
            "width": null
          }
        },
        "b5e8f5d172484c28a71dd051368afaa6": {
          "model_module": "@jupyter-widgets/base",
          "model_name": "LayoutModel",
          "model_module_version": "1.2.0",
          "state": {
            "_model_module": "@jupyter-widgets/base",
            "_model_module_version": "1.2.0",
            "_model_name": "LayoutModel",
            "_view_count": null,
            "_view_module": "@jupyter-widgets/base",
            "_view_module_version": "1.2.0",
            "_view_name": "LayoutView",
            "align_content": null,
            "align_items": null,
            "align_self": null,
            "border": null,
            "bottom": null,
            "display": null,
            "flex": null,
            "flex_flow": null,
            "grid_area": null,
            "grid_auto_columns": null,
            "grid_auto_flow": null,
            "grid_auto_rows": null,
            "grid_column": null,
            "grid_gap": null,
            "grid_row": null,
            "grid_template_areas": null,
            "grid_template_columns": null,
            "grid_template_rows": null,
            "height": null,
            "justify_content": null,
            "justify_items": null,
            "left": null,
            "margin": null,
            "max_height": null,
            "max_width": null,
            "min_height": null,
            "min_width": null,
            "object_fit": null,
            "object_position": null,
            "order": null,
            "overflow": null,
            "overflow_x": null,
            "overflow_y": null,
            "padding": null,
            "right": null,
            "top": null,
            "visibility": null,
            "width": null
          }
        },
        "765c23a6839945d890adf0681574cb27": {
          "model_module": "@jupyter-widgets/controls",
          "model_name": "DescriptionStyleModel",
          "model_module_version": "1.5.0",
          "state": {
            "_model_module": "@jupyter-widgets/controls",
            "_model_module_version": "1.5.0",
            "_model_name": "DescriptionStyleModel",
            "_view_count": null,
            "_view_module": "@jupyter-widgets/base",
            "_view_module_version": "1.2.0",
            "_view_name": "StyleView",
            "description_width": ""
          }
        },
        "2c6e5db4782e4e929b920af735750557": {
          "model_module": "@jupyter-widgets/base",
          "model_name": "LayoutModel",
          "model_module_version": "1.2.0",
          "state": {
            "_model_module": "@jupyter-widgets/base",
            "_model_module_version": "1.2.0",
            "_model_name": "LayoutModel",
            "_view_count": null,
            "_view_module": "@jupyter-widgets/base",
            "_view_module_version": "1.2.0",
            "_view_name": "LayoutView",
            "align_content": null,
            "align_items": null,
            "align_self": null,
            "border": null,
            "bottom": null,
            "display": null,
            "flex": null,
            "flex_flow": null,
            "grid_area": null,
            "grid_auto_columns": null,
            "grid_auto_flow": null,
            "grid_auto_rows": null,
            "grid_column": null,
            "grid_gap": null,
            "grid_row": null,
            "grid_template_areas": null,
            "grid_template_columns": null,
            "grid_template_rows": null,
            "height": null,
            "justify_content": null,
            "justify_items": null,
            "left": null,
            "margin": null,
            "max_height": null,
            "max_width": null,
            "min_height": null,
            "min_width": null,
            "object_fit": null,
            "object_position": null,
            "order": null,
            "overflow": null,
            "overflow_x": null,
            "overflow_y": null,
            "padding": null,
            "right": null,
            "top": null,
            "visibility": null,
            "width": null
          }
        },
        "313f7534371b4ee894f3bbaa4d0439d6": {
          "model_module": "@jupyter-widgets/controls",
          "model_name": "ProgressStyleModel",
          "model_module_version": "1.5.0",
          "state": {
            "_model_module": "@jupyter-widgets/controls",
            "_model_module_version": "1.5.0",
            "_model_name": "ProgressStyleModel",
            "_view_count": null,
            "_view_module": "@jupyter-widgets/base",
            "_view_module_version": "1.2.0",
            "_view_name": "StyleView",
            "bar_color": null,
            "description_width": ""
          }
        },
        "b2628ee963d74e73b5808021918100f0": {
          "model_module": "@jupyter-widgets/base",
          "model_name": "LayoutModel",
          "model_module_version": "1.2.0",
          "state": {
            "_model_module": "@jupyter-widgets/base",
            "_model_module_version": "1.2.0",
            "_model_name": "LayoutModel",
            "_view_count": null,
            "_view_module": "@jupyter-widgets/base",
            "_view_module_version": "1.2.0",
            "_view_name": "LayoutView",
            "align_content": null,
            "align_items": null,
            "align_self": null,
            "border": null,
            "bottom": null,
            "display": null,
            "flex": null,
            "flex_flow": null,
            "grid_area": null,
            "grid_auto_columns": null,
            "grid_auto_flow": null,
            "grid_auto_rows": null,
            "grid_column": null,
            "grid_gap": null,
            "grid_row": null,
            "grid_template_areas": null,
            "grid_template_columns": null,
            "grid_template_rows": null,
            "height": null,
            "justify_content": null,
            "justify_items": null,
            "left": null,
            "margin": null,
            "max_height": null,
            "max_width": null,
            "min_height": null,
            "min_width": null,
            "object_fit": null,
            "object_position": null,
            "order": null,
            "overflow": null,
            "overflow_x": null,
            "overflow_y": null,
            "padding": null,
            "right": null,
            "top": null,
            "visibility": null,
            "width": null
          }
        },
        "380c0cdb6d264d55978559bb03285178": {
          "model_module": "@jupyter-widgets/controls",
          "model_name": "DescriptionStyleModel",
          "model_module_version": "1.5.0",
          "state": {
            "_model_module": "@jupyter-widgets/controls",
            "_model_module_version": "1.5.0",
            "_model_name": "DescriptionStyleModel",
            "_view_count": null,
            "_view_module": "@jupyter-widgets/base",
            "_view_module_version": "1.2.0",
            "_view_name": "StyleView",
            "description_width": ""
          }
        }
      }
    }
  },
  "cells": [
    {
      "cell_type": "markdown",
      "source": [
        "# Getting Data"
      ],
      "metadata": {
        "id": "SwDqOUsQiF4I"
      }
    },
    {
      "cell_type": "markdown",
      "source": [
        "## Loading Libraries"
      ],
      "metadata": {
        "id": "INqE5E9KhmyJ"
      }
    },
    {
      "cell_type": "code",
      "execution_count": 1,
      "metadata": {
        "id": "m-8lkgjIhcK0"
      },
      "outputs": [],
      "source": [
        "import time\n",
        "import numpy as np\n",
        "import pandas as pd\n",
        "from bs4 import BeautifulSoup # for web scraping\n",
        "import requests    # for requesting html\n",
        "from requests.adapters import HTTPAdapter\n",
        "from urllib3.util import Retry\n",
        "import os\n",
        "import shutil\n",
        "from tqdm.auto import tqdm\n",
        "import re\n",
        "from csv import reader"
      ]
    },
    {
      "cell_type": "markdown",
      "source": [
        "## Scarping data source 1"
      ],
      "metadata": {
        "id": "W3kZDKa_kkPt"
      }
    },
    {
      "cell_type": "code",
      "source": [
        "# to store all the raw features from source1\n",
        "# source1: https://bitinfocharts.com/bitcoin/\n",
        "raw_values =np.array(['transactions',\n",
        "                      'size',\n",
        "                      'sentbyaddress',\n",
        "                      'difficulty',\n",
        "                      'hashrate',\n",
        "                      'mining_profitability',\n",
        "                      'sentinusd',\n",
        "                      'transactionfees',\n",
        "                      'median_transaction_fee',\n",
        "                      'confirmationtime',\n",
        "                      'transactionvalue',\n",
        "                      'marketcap',\n",
        "                      'tweets',\n",
        "                      'google_trends',\n",
        "                      'mediantransactionvalue',\n",
        "                      'activeaddresses',\n",
        "                      'top100cap',\n",
        "                      'fee_to_reward',\n",
        "                      'price'])\n",
        "\n",
        "# Technical indicators which are derived from raw values for each period\n",
        "technical_indicators = np.array(['sma','ema','wma','std','mom','var','trx','rsi','roc'])\n",
        "\n",
        "                     \n",
        "period_in_days = np.array(['3','7','14','30','90'])"
      ],
      "metadata": {
        "id": "2zQgcglnhzUE"
      },
      "execution_count": 72,
      "outputs": []
    },
    {
      "cell_type": "code",
      "source": [
        "# generating URLs to scrape data and creating column names:\n",
        "\n",
        "# Raw values\n",
        "URLs = []\n",
        "feature_names= []\n",
        "for i in range(len(raw_values)):\n",
        "    url='https://bitinfocharts.com/comparison/'+'bitcoin'+'-'+raw_values[i]+'.html#alltime'\n",
        "    URLs.append(url)\n",
        "    # creating column names:\n",
        "    feature_names.append(raw_values[i])\n"
      ],
      "metadata": {
        "id": "DokszPSGh4n2"
      },
      "execution_count": 73,
      "outputs": []
    },
    {
      "cell_type": "code",
      "source": [
        "# Joining feature_names and URLs into a dataframe\n",
        "details = {'Features':feature_names,'URLs': URLs}\n",
        "details_df = pd.DataFrame(details)\n",
        "\n",
        "features=pd.DataFrame(columns=details_df.Features)\n",
        "print('Building URLs ...')\n",
        "for i in tqdm(range(len(features.columns))):\n",
        "    date=features.columns[i] + 'Date'\n",
        "    features[date]=date"
      ],
      "metadata": {
        "colab": {
          "base_uri": "https://localhost:8080/",
          "referenced_widgets": [
            "999ef33e21134522bd69ff697f306984",
            "2435b9a85b194c408e79dba1dbb4aa0c",
            "2cbe61f17c8e4b3bbf47ae1a0ef82ecc",
            "c6e1b7f5b09947a7a7a4bf653956e814",
            "5d5adef29e144646814e54198ed5b511",
            "c90596bebd414a3c95e5fad89f6c393a",
            "9ed6c01cb940447a9b7dee46aabf1a66",
            "28f173c58a5747178f533bbaaaf8b496",
            "824cadc0a46c43079b4a44ca41992438",
            "c56d14a834bb45dca5011ec2a686ae5f",
            "3e1c09ad3de44c7caa18a936150baeb9"
          ],
          "height": 0
        },
        "id": "UI1-N2tEiB1I",
        "outputId": "71e2e7fc-c8bf-4d1a-a87f-2d211dbb1c2c"
      },
      "execution_count": 74,
      "outputs": [
        {
          "output_type": "stream",
          "name": "stdout",
          "text": [
            "Building URLs ...\n"
          ]
        },
        {
          "output_type": "display_data",
          "data": {
            "text/plain": [
              "  0%|          | 0/19 [00:00<?, ?it/s]"
            ],
            "application/vnd.jupyter.widget-view+json": {
              "version_major": 2,
              "version_minor": 0,
              "model_id": "999ef33e21134522bd69ff697f306984"
            }
          },
          "metadata": {}
        }
      ]
    },
    {
      "cell_type": "code",
      "source": [
        "df_merge = 0\n",
        "print('Requesting data..............')\n",
        "for i in tqdm(range(len(details_df))):\n",
        "    url = details_df.URLs[i]\n",
        "    s = requests.Session()    \n",
        "    retry = Retry(connect=10, backoff_factor=3) \n",
        "    #https://urllib3.readthedocs.io/en/latest/reference/urllib3.util.html\n",
        "\n",
        "    adapter = HTTPAdapter(max_retries=retry)\n",
        "    s.mount('http://', adapter)   \n",
        "    #https://www.kite.com/python/docs/requests.adapters.HTTPAdapter\n",
        "    page=s.get(url)\n",
        "    soup = BeautifulSoup(page.content, 'html').find_all('script')[4].string\n",
        "\n",
        "    text= re.search(r'd = new Dygraph\\(document.getElementById\\(\\\"container\\\"\\)\\,(.*)',soup).groups(1)\n",
        "    # https://stackoverflow.com/questions/65403953/webscraping-js-elements-with-soup-isnt-working\n",
        "    # https://stackoverflow.com/questions/27881366/regular-expressions-and777\n",
        "    data = text[0].split('{labels:')[0]\n",
        "    data = data[0:len(data)-2]\n",
        "    data = re.sub(r'\\[new Date\\(\\\"', '', str(data))\n",
        "    data = re.sub(r'\\\"\\)\\,', ';', str(data))\n",
        "    data = re.sub(r'\\]\\]', '', str(data))\n",
        "    data = re.sub(r'\\[', '', str(data)).split('],')\n",
        "    df = pd.DataFrame( list(reader(data)))\n",
        "    df.columns = ['name']\n",
        "    col = details_df.Features[i]\n",
        "    df[['Date',col]] = df.name.str.split(';',1,expand=True)\n",
        "    df.drop(['name'], axis=1,inplace = True)\n",
        "\n",
        "    df = df.set_index(['Date'])\n",
        "    df_new = df.loc['2010/07/17':'2022/07/17']\n",
        "    df_new.reset_index(inplace = True)\n",
        "    # https://stackoverflow.com/questions/29370057/select-dataframe-rows-between-two-dates\n",
        "    if i==0:\n",
        "      df_merge = df_new\n",
        "    else:\n",
        "      #df_new = df_new.drop(['Date'], axis = 1)\n",
        "      #df_merge = pd.concat([df_merge,df_new],axis=1)\n",
        "      df_merge = pd.merge(df_merge, df_new, left_on='Date', right_on='Date', how='left')\n",
        "df_merged = pd.DataFrame(df_merge)"
      ],
      "metadata": {
        "colab": {
          "base_uri": "https://localhost:8080/",
          "referenced_widgets": [
            "b1dde704a92d488cbbfb1b378d54f4e2",
            "489a0f19305f49d3ac3ad88c478a312c",
            "9f68de81a7a549029d02c9c95e51a6fa",
            "eeb60d60f3874dcd99b99d5e2b560142",
            "c24555ac03cf47a39c07a6903c416e4e",
            "b5e8f5d172484c28a71dd051368afaa6",
            "765c23a6839945d890adf0681574cb27",
            "2c6e5db4782e4e929b920af735750557",
            "313f7534371b4ee894f3bbaa4d0439d6",
            "b2628ee963d74e73b5808021918100f0",
            "380c0cdb6d264d55978559bb03285178"
          ],
          "height": 0
        },
        "id": "ifaby3GsiZVJ",
        "outputId": "19c5bfbf-35fa-4246-fafd-98882ea09279"
      },
      "execution_count": 75,
      "outputs": [
        {
          "output_type": "stream",
          "name": "stdout",
          "text": [
            "Requesting data..............\n"
          ]
        },
        {
          "output_type": "display_data",
          "data": {
            "text/plain": [
              "  0%|          | 0/19 [00:00<?, ?it/s]"
            ],
            "application/vnd.jupyter.widget-view+json": {
              "version_major": 2,
              "version_minor": 0,
              "model_id": "b1dde704a92d488cbbfb1b378d54f4e2"
            }
          },
          "metadata": {}
        }
      ]
    },
    {
      "cell_type": "code",
      "source": [
        "# saving data to csv file\n",
        "df_merged.to_csv('btc_data_raw.csv', sep = ',', index=False)"
      ],
      "metadata": {
        "id": "6MerU5Liihlp"
      },
      "execution_count": 76,
      "outputs": []
    },
    {
      "cell_type": "code",
      "source": [
        "data_raw_1 = pd.read_csv('btc_data_raw.csv')"
      ],
      "metadata": {
        "id": "9-m-67FeijMA"
      },
      "execution_count": 77,
      "outputs": []
    },
    {
      "cell_type": "code",
      "source": [
        "data_raw_1.interpolate(axis=0,inplace=True)"
      ],
      "metadata": {
        "id": "Okpxfr1ZkHIK"
      },
      "execution_count": 78,
      "outputs": []
    },
    {
      "cell_type": "code",
      "source": [
        "data_raw_1.rename(columns={'price':'avg_price'}, inplace=True)"
      ],
      "metadata": {
        "id": "WG7lhs07oTGa"
      },
      "execution_count": 79,
      "outputs": []
    },
    {
      "cell_type": "markdown",
      "source": [
        "## Scarping data source 2"
      ],
      "metadata": {
        "id": "MgSMts7zkuk_"
      }
    },
    {
      "cell_type": "code",
      "source": [
        "# Fear and Greed Index\n",
        "# source2: https://www.businessinsider.in/cryptocurrency/news/crypto-fear-and-greed-index-shows-extreme-fear-is-ruling-the-markets-is-this-an-opportunity-or-warning-sign-for-investors/articleshow/88890883.cms\n",
        "\n",
        "from bs4 import BeautifulSoup\n",
        "import requests\n",
        "import pandas as pd\n",
        "from csv import reader\n",
        "url = 'https://api.alternative.me/fng/?limit=1500&format=csv&date_format=us'\n",
        "text = requests.get(url)\n",
        "soup = BeautifulSoup(text.content)"
      ],
      "metadata": {
        "id": "rRZ07BtHkt4k"
      },
      "execution_count": 80,
      "outputs": []
    },
    {
      "cell_type": "code",
      "source": [
        "from datetime import datetime\n",
        "data_lst = soup.p.text.split('\\n')[4:-5]\n",
        "df_fg = pd.DataFrame( list(reader(data_lst)))\n",
        "df_fg.columns = ['Date','Value','Classification']\n",
        "df_fg['Date'] = pd.to_datetime(df_fg.Date, format='%m-%d-%Y')\n",
        "df_fg['Date'] = df_fg['Date'].dt.strftime('%Y/%m/%d')\n",
        "df_fg.sort_values(by=['Date'],inplace=True)\n",
        "data2 = df_fg"
      ],
      "metadata": {
        "id": "0xXBbbxuk71N"
      },
      "execution_count": 81,
      "outputs": []
    },
    {
      "cell_type": "code",
      "source": [
        "data_raw_2 = pd.DataFrame(data2)"
      ],
      "metadata": {
        "id": "WkxXimgwlBW8"
      },
      "execution_count": 82,
      "outputs": []
    },
    {
      "cell_type": "code",
      "source": [
        "data_raw_2.drop('Classification',axis = 1,inplace=True)"
      ],
      "metadata": {
        "id": "Ow-1abyqlFUj"
      },
      "execution_count": 83,
      "outputs": []
    },
    {
      "cell_type": "code",
      "source": [
        "data_raw_2.head(2)"
      ],
      "metadata": {
        "id": "E7eDdxMblIG6",
        "colab": {
          "base_uri": "https://localhost:8080/",
          "height": 0
        },
        "outputId": "f8254ecb-3a71-4d28-ec2b-565993702994"
      },
      "execution_count": 84,
      "outputs": [
        {
          "output_type": "execute_result",
          "data": {
            "text/plain": [
              "            Date Value\n",
              "1499  2018/03/30    12\n",
              "1498  2018/03/31    16"
            ],
            "text/html": [
              "\n",
              "  <div id=\"df-8bacdb36-9cde-401d-901a-5f10d3d45969\">\n",
              "    <div class=\"colab-df-container\">\n",
              "      <div>\n",
              "<style scoped>\n",
              "    .dataframe tbody tr th:only-of-type {\n",
              "        vertical-align: middle;\n",
              "    }\n",
              "\n",
              "    .dataframe tbody tr th {\n",
              "        vertical-align: top;\n",
              "    }\n",
              "\n",
              "    .dataframe thead th {\n",
              "        text-align: right;\n",
              "    }\n",
              "</style>\n",
              "<table border=\"1\" class=\"dataframe\">\n",
              "  <thead>\n",
              "    <tr style=\"text-align: right;\">\n",
              "      <th></th>\n",
              "      <th>Date</th>\n",
              "      <th>Value</th>\n",
              "    </tr>\n",
              "  </thead>\n",
              "  <tbody>\n",
              "    <tr>\n",
              "      <th>1499</th>\n",
              "      <td>2018/03/30</td>\n",
              "      <td>12</td>\n",
              "    </tr>\n",
              "    <tr>\n",
              "      <th>1498</th>\n",
              "      <td>2018/03/31</td>\n",
              "      <td>16</td>\n",
              "    </tr>\n",
              "  </tbody>\n",
              "</table>\n",
              "</div>\n",
              "      <button class=\"colab-df-convert\" onclick=\"convertToInteractive('df-8bacdb36-9cde-401d-901a-5f10d3d45969')\"\n",
              "              title=\"Convert this dataframe to an interactive table.\"\n",
              "              style=\"display:none;\">\n",
              "        \n",
              "  <svg xmlns=\"http://www.w3.org/2000/svg\" height=\"24px\"viewBox=\"0 0 24 24\"\n",
              "       width=\"24px\">\n",
              "    <path d=\"M0 0h24v24H0V0z\" fill=\"none\"/>\n",
              "    <path d=\"M18.56 5.44l.94 2.06.94-2.06 2.06-.94-2.06-.94-.94-2.06-.94 2.06-2.06.94zm-11 1L8.5 8.5l.94-2.06 2.06-.94-2.06-.94L8.5 2.5l-.94 2.06-2.06.94zm10 10l.94 2.06.94-2.06 2.06-.94-2.06-.94-.94-2.06-.94 2.06-2.06.94z\"/><path d=\"M17.41 7.96l-1.37-1.37c-.4-.4-.92-.59-1.43-.59-.52 0-1.04.2-1.43.59L10.3 9.45l-7.72 7.72c-.78.78-.78 2.05 0 2.83L4 21.41c.39.39.9.59 1.41.59.51 0 1.02-.2 1.41-.59l7.78-7.78 2.81-2.81c.8-.78.8-2.07 0-2.86zM5.41 20L4 18.59l7.72-7.72 1.47 1.35L5.41 20z\"/>\n",
              "  </svg>\n",
              "      </button>\n",
              "      \n",
              "  <style>\n",
              "    .colab-df-container {\n",
              "      display:flex;\n",
              "      flex-wrap:wrap;\n",
              "      gap: 12px;\n",
              "    }\n",
              "\n",
              "    .colab-df-convert {\n",
              "      background-color: #E8F0FE;\n",
              "      border: none;\n",
              "      border-radius: 50%;\n",
              "      cursor: pointer;\n",
              "      display: none;\n",
              "      fill: #1967D2;\n",
              "      height: 32px;\n",
              "      padding: 0 0 0 0;\n",
              "      width: 32px;\n",
              "    }\n",
              "\n",
              "    .colab-df-convert:hover {\n",
              "      background-color: #E2EBFA;\n",
              "      box-shadow: 0px 1px 2px rgba(60, 64, 67, 0.3), 0px 1px 3px 1px rgba(60, 64, 67, 0.15);\n",
              "      fill: #174EA6;\n",
              "    }\n",
              "\n",
              "    [theme=dark] .colab-df-convert {\n",
              "      background-color: #3B4455;\n",
              "      fill: #D2E3FC;\n",
              "    }\n",
              "\n",
              "    [theme=dark] .colab-df-convert:hover {\n",
              "      background-color: #434B5C;\n",
              "      box-shadow: 0px 1px 3px 1px rgba(0, 0, 0, 0.15);\n",
              "      filter: drop-shadow(0px 1px 2px rgba(0, 0, 0, 0.3));\n",
              "      fill: #FFFFFF;\n",
              "    }\n",
              "  </style>\n",
              "\n",
              "      <script>\n",
              "        const buttonEl =\n",
              "          document.querySelector('#df-8bacdb36-9cde-401d-901a-5f10d3d45969 button.colab-df-convert');\n",
              "        buttonEl.style.display =\n",
              "          google.colab.kernel.accessAllowed ? 'block' : 'none';\n",
              "\n",
              "        async function convertToInteractive(key) {\n",
              "          const element = document.querySelector('#df-8bacdb36-9cde-401d-901a-5f10d3d45969');\n",
              "          const dataTable =\n",
              "            await google.colab.kernel.invokeFunction('convertToInteractive',\n",
              "                                                     [key], {});\n",
              "          if (!dataTable) return;\n",
              "\n",
              "          const docLinkHtml = 'Like what you see? Visit the ' +\n",
              "            '<a target=\"_blank\" href=https://colab.research.google.com/notebooks/data_table.ipynb>data table notebook</a>'\n",
              "            + ' to learn more about interactive tables.';\n",
              "          element.innerHTML = '';\n",
              "          dataTable['output_type'] = 'display_data';\n",
              "          await google.colab.output.renderOutput(dataTable, element);\n",
              "          const docLink = document.createElement('div');\n",
              "          docLink.innerHTML = docLinkHtml;\n",
              "          element.appendChild(docLink);\n",
              "        }\n",
              "      </script>\n",
              "    </div>\n",
              "  </div>\n",
              "  "
            ]
          },
          "metadata": {},
          "execution_count": 84
        }
      ]
    },
    {
      "cell_type": "code",
      "source": [
        "data_raw_2.rename(columns={'Value':'fear_gear_index'}, inplace=True)"
      ],
      "metadata": {
        "id": "ZxHSOoN-qCTB"
      },
      "execution_count": 85,
      "outputs": []
    },
    {
      "cell_type": "code",
      "source": [
        "data_raw_2['fear_gear_index'] = data_raw_2['fear_gear_index'].astype(int)"
      ],
      "metadata": {
        "id": "oay1X5SHiPtp"
      },
      "execution_count": 86,
      "outputs": []
    },
    {
      "cell_type": "markdown",
      "source": [
        "## Scarping data source 3"
      ],
      "metadata": {
        "id": "qQBlJCduZzfQ"
      }
    },
    {
      "cell_type": "code",
      "source": [
        "# source3 : https://investpy.readthedocs.io/_api/crypto.html\n",
        "!pip install investpy"
      ],
      "metadata": {
        "colab": {
          "base_uri": "https://localhost:8080/"
        },
        "id": "oUWbW7K0Z1S-",
        "outputId": "8176c0e1-4787-43a1-f873-bab78aaaf355"
      },
      "execution_count": 87,
      "outputs": [
        {
          "output_type": "stream",
          "name": "stdout",
          "text": [
            "Requirement already satisfied: investpy in /usr/local/lib/python3.7/dist-packages (1.0.8)\n",
            "Requirement already satisfied: numpy>=1.21.2 in /usr/local/lib/python3.7/dist-packages (from investpy) (1.21.6)\n",
            "Requirement already satisfied: setuptools>=41.2.0 in /usr/local/lib/python3.7/dist-packages (from investpy) (57.4.0)\n",
            "Requirement already satisfied: pandas>=0.25.1 in /usr/local/lib/python3.7/dist-packages (from investpy) (1.3.5)\n",
            "Requirement already satisfied: Unidecode>=1.1.1 in /usr/local/lib/python3.7/dist-packages (from investpy) (1.3.4)\n",
            "Requirement already satisfied: requests>=2.22.0 in /usr/local/lib/python3.7/dist-packages (from investpy) (2.23.0)\n",
            "Requirement already satisfied: pytz>=2019.3 in /usr/local/lib/python3.7/dist-packages (from investpy) (2022.1)\n",
            "Requirement already satisfied: lxml>=4.4.1 in /usr/local/lib/python3.7/dist-packages (from investpy) (4.8.0)\n",
            "Requirement already satisfied: python-dateutil>=2.7.3 in /usr/local/lib/python3.7/dist-packages (from pandas>=0.25.1->investpy) (2.8.2)\n",
            "Requirement already satisfied: six>=1.5 in /usr/local/lib/python3.7/dist-packages (from python-dateutil>=2.7.3->pandas>=0.25.1->investpy) (1.15.0)\n",
            "Requirement already satisfied: certifi>=2017.4.17 in /usr/local/lib/python3.7/dist-packages (from requests>=2.22.0->investpy) (2021.10.8)\n",
            "Requirement already satisfied: chardet<4,>=3.0.2 in /usr/local/lib/python3.7/dist-packages (from requests>=2.22.0->investpy) (3.0.4)\n",
            "Requirement already satisfied: idna<3,>=2.5 in /usr/local/lib/python3.7/dist-packages (from requests>=2.22.0->investpy) (2.10)\n",
            "Requirement already satisfied: urllib3!=1.25.0,!=1.25.1,<1.26,>=1.21.1 in /usr/local/lib/python3.7/dist-packages (from requests>=2.22.0->investpy) (1.24.3)\n"
          ]
        }
      ]
    },
    {
      "cell_type": "code",
      "source": [
        "import investpy\n",
        "data_raw_3 = investpy.crypto.get_crypto_historical_data(crypto='bitcoin',from_date='01/01/2010',to_date='31/05/2022')\n",
        "data_raw_3.reset_index(inplace=True)\n",
        "data_raw_3.drop(['Volume','Currency'],axis=1,inplace=True)"
      ],
      "metadata": {
        "id": "dLTnVHCBgfR2"
      },
      "execution_count": 88,
      "outputs": []
    },
    {
      "cell_type": "code",
      "source": [
        "data_raw_3 = pd.DataFrame(data_raw_3)"
      ],
      "metadata": {
        "id": "Fbe8CWdfm1fg"
      },
      "execution_count": 89,
      "outputs": []
    },
    {
      "cell_type": "code",
      "source": [
        "import datetime as dt\n",
        "data_raw_3['Date'] = data_raw_3['Date'].dt.strftime('%Y/%m/%d')"
      ],
      "metadata": {
        "id": "Zmpb8w2eFzsC"
      },
      "execution_count": 90,
      "outputs": []
    },
    {
      "cell_type": "markdown",
      "source": [
        "## Scraping data source 4"
      ],
      "metadata": {
        "id": "p9_k5s1EcNjL"
      }
    },
    {
      "cell_type": "code",
      "source": [
        "#source4:  https://data.nasdaq.com/data/BCHAIN/MIREV-bitcoin-miners-revenue\n",
        "!pip install Quandl"
      ],
      "metadata": {
        "id": "1Wn7fIFQbnJJ",
        "colab": {
          "base_uri": "https://localhost:8080/"
        },
        "outputId": "afbef567-5037-4501-a6ae-b607d8d68ff9"
      },
      "execution_count": 91,
      "outputs": [
        {
          "output_type": "stream",
          "name": "stdout",
          "text": [
            "Requirement already satisfied: Quandl in /usr/local/lib/python3.7/dist-packages (3.7.0)\n",
            "Requirement already satisfied: more-itertools in /usr/local/lib/python3.7/dist-packages (from Quandl) (8.12.0)\n",
            "Requirement already satisfied: inflection>=0.3.1 in /usr/local/lib/python3.7/dist-packages (from Quandl) (0.5.1)\n",
            "Requirement already satisfied: pandas>=0.14 in /usr/local/lib/python3.7/dist-packages (from Quandl) (1.3.5)\n",
            "Requirement already satisfied: requests>=2.7.0 in /usr/local/lib/python3.7/dist-packages (from Quandl) (2.23.0)\n",
            "Requirement already satisfied: six in /usr/local/lib/python3.7/dist-packages (from Quandl) (1.15.0)\n",
            "Requirement already satisfied: numpy>=1.8 in /usr/local/lib/python3.7/dist-packages (from Quandl) (1.21.6)\n",
            "Requirement already satisfied: python-dateutil in /usr/local/lib/python3.7/dist-packages (from Quandl) (2.8.2)\n",
            "Requirement already satisfied: pytz>=2017.3 in /usr/local/lib/python3.7/dist-packages (from pandas>=0.14->Quandl) (2022.1)\n",
            "Requirement already satisfied: idna<3,>=2.5 in /usr/local/lib/python3.7/dist-packages (from requests>=2.7.0->Quandl) (2.10)\n",
            "Requirement already satisfied: certifi>=2017.4.17 in /usr/local/lib/python3.7/dist-packages (from requests>=2.7.0->Quandl) (2021.10.8)\n",
            "Requirement already satisfied: urllib3!=1.25.0,!=1.25.1,<1.26,>=1.21.1 in /usr/local/lib/python3.7/dist-packages (from requests>=2.7.0->Quandl) (1.24.3)\n",
            "Requirement already satisfied: chardet<4,>=3.0.2 in /usr/local/lib/python3.7/dist-packages (from requests>=2.7.0->Quandl) (3.0.4)\n"
          ]
        }
      ]
    },
    {
      "cell_type": "code",
      "source": [
        "import quandl\n",
        "data_raw_4 = quandl.get(\"BCHAIN/MIREV\",authtoken='Bi24yBMurcVhy7VEQ7oC')\n",
        "data_raw_4.reset_index(inplace=True)\n",
        "data_raw_4['Date'] = data_raw_4['Date'].dt.strftime('%Y/%m/%d')"
      ],
      "metadata": {
        "id": "FXsz4VUwjgDz"
      },
      "execution_count": 92,
      "outputs": []
    },
    {
      "cell_type": "code",
      "source": [
        "data_raw_4.rename(columns={'Value':'miners_revenue'}, inplace=True)"
      ],
      "metadata": {
        "id": "rDgGvzZ5d_Rs"
      },
      "execution_count": 93,
      "outputs": []
    },
    {
      "cell_type": "code",
      "source": [
        "data_raw_4 = pd.DataFrame(data_raw_4)"
      ],
      "metadata": {
        "id": "m7g9zU6Veo2R"
      },
      "execution_count": 94,
      "outputs": []
    },
    {
      "cell_type": "markdown",
      "source": [
        "## other features"
      ],
      "metadata": {
        "id": "YNlieLi1Sz6B"
      }
    },
    {
      "cell_type": "code",
      "source": [
        "data_raw_5 = pd.DataFrame()"
      ],
      "metadata": {
        "id": "t5L0T0iifBQ-"
      },
      "execution_count": 95,
      "outputs": []
    },
    {
      "cell_type": "code",
      "source": [
        "data_raw_5['Date'] = data_raw_1['Date'] "
      ],
      "metadata": {
        "id": "BV-lbizDfHhE"
      },
      "execution_count": 96,
      "outputs": []
    },
    {
      "cell_type": "code",
      "source": [
        "data_raw_5['coins_in_supply'] = data_raw_1['marketcap']/data_raw_1['avg_price']"
      ],
      "metadata": {
        "id": "wIN3UjzPS2em"
      },
      "execution_count": 97,
      "outputs": []
    },
    {
      "cell_type": "code",
      "source": [
        "data_raw_1.drop(['marketcap'], axis = 1,inplace=True)"
      ],
      "metadata": {
        "id": "hzAWkxHQTO1P"
      },
      "execution_count": 98,
      "outputs": []
    },
    {
      "cell_type": "markdown",
      "source": [
        "### Note:\n",
        "Market capital is the product of average bitcoin prices and BTC coins in supply. New feature 'coins_in_supply' is extracted from market cap feature and same is dropped from the dataset."
      ],
      "metadata": {
        "id": "UNy49PLXS4az"
      }
    },
    {
      "cell_type": "markdown",
      "source": [
        "## Merging Data"
      ],
      "metadata": {
        "id": "NGu-WBoAcXKS"
      }
    },
    {
      "cell_type": "code",
      "source": [
        "data_raw_24 = pd.merge(data_raw_1, data_raw_3, on='Date')"
      ],
      "metadata": {
        "id": "W_56HmVXgrqN"
      },
      "execution_count": 99,
      "outputs": []
    },
    {
      "cell_type": "code",
      "source": [
        "data_raw_24 = pd.merge(data_raw_24, data_raw_4, on='Date')"
      ],
      "metadata": {
        "id": "1jWT-e6sg8UA"
      },
      "execution_count": 100,
      "outputs": []
    },
    {
      "cell_type": "code",
      "source": [
        "data_raw_24 = pd.merge(data_raw_24, data_raw_5, on='Date')"
      ],
      "metadata": {
        "id": "D62a7PGGhEsL"
      },
      "execution_count": 101,
      "outputs": []
    },
    {
      "cell_type": "code",
      "source": [
        "data_raw_25 = pd.merge(data_raw_24, data_raw_2, on='Date')"
      ],
      "metadata": {
        "id": "30NNyoMpcaeO"
      },
      "execution_count": 102,
      "outputs": []
    },
    {
      "cell_type": "markdown",
      "source": [
        "## Target Shifting"
      ],
      "metadata": {
        "id": "bXYoqnMbrzIS"
      }
    },
    {
      "cell_type": "code",
      "source": [
        "def target_shift(df,col):\n",
        "  df['next_day_BTC_price'] = col\n",
        "  df['next_day_BTC_price'] = df['next_day_BTC_price'].shift(-1,fill_value=1).values\n",
        "  df = df.iloc[:-1,:]\n",
        "  return df"
      ],
      "metadata": {
        "id": "_HJqgSJJtlPt"
      },
      "execution_count": 28,
      "outputs": []
    },
    {
      "cell_type": "code",
      "source": [
        "data_raw_24 = target_shift(data_raw_24,data_raw_24['Close'])"
      ],
      "metadata": {
        "id": "bwhN_JRGcj8t"
      },
      "execution_count": 106,
      "outputs": []
    },
    {
      "cell_type": "code",
      "source": [
        "data_raw_25 = target_shift(data_raw_25,data_raw_25['Close'])"
      ],
      "metadata": {
        "id": "HOZq8KnleAvQ"
      },
      "execution_count": 107,
      "outputs": []
    },
    {
      "cell_type": "markdown",
      "source": [
        "## Saving data to file"
      ],
      "metadata": {
        "id": "78kDU3l7VGTt"
      }
    },
    {
      "cell_type": "code",
      "source": [
        "data_raw_24.to_csv('btc_raw_24.csv',sep=',',index=False)\n",
        "data_raw_25.to_csv('btc_raw_25.csv',sep=',',index=False)"
      ],
      "metadata": {
        "id": "aXDMsD3NUElb"
      },
      "execution_count": 114,
      "outputs": []
    }
  ]
}
