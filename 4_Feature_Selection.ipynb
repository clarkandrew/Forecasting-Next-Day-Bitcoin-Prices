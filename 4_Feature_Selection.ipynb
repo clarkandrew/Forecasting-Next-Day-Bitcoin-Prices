{
  "nbformat": 4,
  "nbformat_minor": 0,
  "metadata": {
    "colab": {
      "name": "4_Feature_Selection.ipynb",
      "provenance": []
    },
    "kernelspec": {
      "name": "python3",
      "display_name": "Python 3"
    },
    "language_info": {
      "name": "python"
    }
  },
  "cells": [
    {
      "cell_type": "markdown",
      "source": [
        "# Feature Selection"
      ],
      "metadata": {
        "id": "BbqpcD2KulHV"
      }
    },
    {
      "cell_type": "code",
      "source": [
        "import pandas as pd\n",
        "import numpy as np\n",
        "from sklearn.ensemble import RandomForestRegressor\n",
        "from sklearn.feature_selection import RFECV\n",
        "from google.colab import files\n",
        "from statsmodels.stats.outliers_influence import variance_inflation_factor"
      ],
      "metadata": {
        "id": "VAddphICvIux",
        "colab": {
          "base_uri": "https://localhost:8080/"
        },
        "outputId": "22fee1d4-cbf6-4b79-bd01-f66a41355cbd"
      },
      "execution_count": null,
      "outputs": [
        {
          "output_type": "stream",
          "name": "stderr",
          "text": [
            "/usr/local/lib/python3.7/dist-packages/statsmodels/tools/_testing.py:19: FutureWarning: pandas.util.testing is deprecated. Use the functions in the public API at pandas.testing instead.\n",
            "  import pandas.util.testing as tm\n"
          ]
        }
      ]
    },
    {
      "cell_type": "markdown",
      "source": [
        "# Functions"
      ],
      "metadata": {
        "id": "AqoiOFJDJSTJ"
      }
    },
    {
      "cell_type": "code",
      "source": [
        "# function to convert datatype to float32\n",
        "def convert_to_float32(df):\n",
        "  for i in range(len(df.columns)):\n",
        "    if df[df.columns[i]].dtype == 'float64':\n",
        "      df[df.columns[i]] = np.nan_to_num(df[df.columns[i]].astype(np.float32))\n",
        "  return df"
      ],
      "metadata": {
        "id": "gDx2mje4JUfh"
      },
      "execution_count": null,
      "outputs": []
    },
    {
      "cell_type": "code",
      "source": [
        "# Creating blocks for each set of smoothening range and technical indicators\n",
        "blocks = []\n",
        "technical_indicators = np.array(['sma','wma','ema','tema','dema','rsi','std','roc','mom','var','BBupper','BBmiddle','BBlower'])\n",
        "smoothening_range = np.array(['3','7','30','90'])\n",
        "for p in smoothening_range:\n",
        "  for t in technical_indicators:\n",
        "    string = p + t\n",
        "    blocks.append(string)"
      ],
      "metadata": {
        "id": "yjAhc2R4JZzT"
      },
      "execution_count": null,
      "outputs": []
    },
    {
      "cell_type": "code",
      "source": [
        "# Function to select technical features\n",
        "def tech_feature_selection(x,y):\n",
        "  \"\"\" \n",
        "      this function selects most important feature from each block\n",
        "  \"\"\"\n",
        "  list_of_selected_features=[]\n",
        "  for string in blocks:\n",
        "    print('Block:',string)\n",
        "    new_df=x.filter(like=string,axis=1)\n",
        "    new_df = pd.DataFrame(new_df)\n",
        "    new_df.columns=x.filter(like=string,axis=1).columns\n",
        "    estimator = RandomForestRegressor(random_state=42)\n",
        "    selector = RFECV(estimator, step=0.6,verbose=True,scoring='neg_mean_absolute_error',n_jobs=-1)\n",
        "    selector = selector.fit(new_df, y)\n",
        "    mask = selector.get_support()\n",
        "    new_features = new_df.columns[mask]\n",
        "    print('Feature Rankings',selector.ranking_)\n",
        "    if len(new_features.values)>1:\n",
        "      estimator.fit(new_df, y)\n",
        "      for j in range(len(estimator.feature_importances_)):\n",
        "        if estimator.feature_importances_.max() == estimator.feature_importances_[j]:\n",
        "          new_features = new_df.columns[j]\n",
        "          print('Selected Feature:', new_features)\n",
        "          list_of_selected_features.append(new_features)\n",
        "    else:\n",
        "      features = new_features.values\n",
        "      for i in features:\n",
        "        print(i)\n",
        "        list_of_selected_features.append(i)\n",
        "    print('Number of Selected Features:', len(list_of_selected_features))\n",
        "    print('*'*50)\n",
        "  return list_of_selected_features"
      ],
      "metadata": {
        "id": "wqE0WghzJe9i"
      },
      "execution_count": null,
      "outputs": []
    },
    {
      "cell_type": "code",
      "source": [
        "# Function that measures Variance Inflation Factor\n",
        "def VIF(data):\n",
        "  vif_data = pd.DataFrame()\n",
        "  vif_data[\"feature_vif\"] = data.columns\n",
        "  # calculating vif for each feature in train dataset\n",
        "  vif_data[\"VIF\"] = [variance_inflation_factor(data.values, i) for i in range(len(data.columns))]\n",
        "  return vif_data.sort_values(['VIF'],ascending = False)"
      ],
      "metadata": {
        "id": "Xrd2TdB_Jk5P"
      },
      "execution_count": null,
      "outputs": []
    },
    {
      "cell_type": "code",
      "source": [
        "def RanF_imp(x,y):\n",
        "  regr_24=RandomForestRegressor(random_state=42)\n",
        "  regr_24.fit(x,y)\n",
        "  fea_imp_24 = pd.DataFrame({'Features':x.columns,'Feature_importances':list(regr_24.feature_importances_)}).sort_values(by = ['Feature_importances'],ascending=False)\n",
        "  return fea_imp_24\n",
        "def RanF_imp_plot(df):\n",
        "  plot = df.sort_values(['Feature_importances'], ascending=[True]).tail(15).plot.barh(x='Features', y='Feature_importances',figsize=(15,8))\n",
        "  return plot"
      ],
      "metadata": {
        "id": "_Gmb8_i7poHM"
      },
      "execution_count": null,
      "outputs": []
    },
    {
      "cell_type": "markdown",
      "source": [
        "# Loading data"
      ],
      "metadata": {
        "id": "BTNwpMurprtH"
      }
    },
    {
      "cell_type": "code",
      "source": [
        "uploaded1 = files.upload()"
      ],
      "metadata": {
        "colab": {
          "resources": {
            "http://localhost:8080/nbextensions/google.colab/files.js": {
              "data": "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",
              "ok": true,
              "headers": [
                [
                  "content-type",
                  "application/javascript"
                ]
              ],
              "status": 200,
              "status_text": ""
            }
          },
          "base_uri": "https://localhost:8080/",
          "height": 74
        },
        "id": "9qUMtiC5P8G5",
        "outputId": "9fa44eb6-2054-4ee9-d1f2-ae96d92b03a1"
      },
      "execution_count": null,
      "outputs": [
        {
          "output_type": "display_data",
          "data": {
            "text/plain": [
              "<IPython.core.display.HTML object>"
            ],
            "text/html": [
              "\n",
              "     <input type=\"file\" id=\"files-349ffc6b-f315-4769-bf36-d46af3447eca\" name=\"files[]\" multiple disabled\n",
              "        style=\"border:none\" />\n",
              "     <output id=\"result-349ffc6b-f315-4769-bf36-d46af3447eca\">\n",
              "      Upload widget is only available when the cell has been executed in the\n",
              "      current browser session. Please rerun this cell to enable.\n",
              "      </output>\n",
              "      <script src=\"/nbextensions/google.colab/files.js\"></script> "
            ]
          },
          "metadata": {}
        },
        {
          "output_type": "stream",
          "name": "stdout",
          "text": [
            "Saving BTC_feature_engineered_data_24.csv to BTC_feature_engineered_data_24.csv\n"
          ]
        }
      ]
    },
    {
      "cell_type": "code",
      "source": [
        "btc_data_24 = pd.read_csv('BTC_feature_engineered_data_24.csv')"
      ],
      "metadata": {
        "id": "vLXtBvRipoHC"
      },
      "execution_count": null,
      "outputs": []
    },
    {
      "cell_type": "code",
      "source": [
        "btc_data_24 = convert_to_float32(btc_data_24)"
      ],
      "metadata": {
        "id": "OsIuw1UDpoHD"
      },
      "execution_count": null,
      "outputs": []
    },
    {
      "cell_type": "code",
      "source": [
        "btc_data_24.shape"
      ],
      "metadata": {
        "colab": {
          "base_uri": "https://localhost:8080/"
        },
        "id": "OV_DI_LLtkU_",
        "outputId": "b331c4ac-2ba8-41e5-cf81-8d3a41dc9fbd"
      },
      "execution_count": null,
      "outputs": [
        {
          "output_type": "execute_result",
          "data": {
            "text/plain": [
              "(2684, 1586)"
            ]
          },
          "metadata": {},
          "execution_count": 10
        }
      ]
    },
    {
      "cell_type": "code",
      "source": [
        "Redundant_features = ['coins_in_supply']\n",
        "for i in Redundant_features:\n",
        "  btc_data_24 = btc_data_24[btc_data_24.columns.drop(list(btc_data_24.filter(regex=i)))]"
      ],
      "metadata": {
        "id": "LXJaeQQjrgof"
      },
      "execution_count": null,
      "outputs": []
    },
    {
      "cell_type": "code",
      "source": [
        "btc_data_24.shape"
      ],
      "metadata": {
        "colab": {
          "base_uri": "https://localhost:8080/"
        },
        "id": "8V5W58zetnEa",
        "outputId": "bb2c4833-e49e-4a1a-d25c-1ef28982fe53"
      },
      "execution_count": null,
      "outputs": [
        {
          "output_type": "execute_result",
          "data": {
            "text/plain": [
              "(2684, 1520)"
            ]
          },
          "metadata": {},
          "execution_count": 256
        }
      ]
    },
    {
      "cell_type": "code",
      "source": [
        "x_btc_data_24 = btc_data_24.drop(['next_day_BTC_price'], axis=1)\n",
        "y_btc_data_24 = btc_data_24['next_day_BTC_price']"
      ],
      "metadata": {
        "id": "HTRuI0GkpoHF"
      },
      "execution_count": null,
      "outputs": []
    },
    {
      "cell_type": "markdown",
      "source": [
        "# Feature Selection"
      ],
      "metadata": {
        "id": "xFKJTlNQGjb5"
      }
    },
    {
      "cell_type": "code",
      "source": [
        "list_of_selected_features_24 = tech_feature_selection(x_btc_data_24,y_btc_data_24)"
      ],
      "metadata": {
        "id": "dbHdgzRJpoHG",
        "colab": {
          "base_uri": "https://localhost:8080/"
        },
        "outputId": "a07f1345-dac9-406d-c8ef-edfded703609"
      },
      "execution_count": null,
      "outputs": [
        {
          "output_type": "stream",
          "name": "stdout",
          "text": [
            "Block: 3sma\n",
            "Fitting estimator with 23 features.\n",
            "Fitting estimator with 10 features.\n",
            "Feature Rankings [3 3 3 2 2 3 3 3 3 2 3 3 3 3 3 2 3 2 2 2 2 1 2]\n",
            "Close_3sma\n",
            "Number of Selected Features: 1\n",
            "**************************************************\n",
            "Block: 3wma\n",
            "Fitting estimator with 23 features.\n",
            "Fitting estimator with 10 features.\n",
            "Feature Rankings [3 3 3 3 2 3 2 3 3 2 3 3 3 3 3 2 3 2 2 2 2 1 2]\n",
            "Close_3wma\n",
            "Number of Selected Features: 2\n",
            "**************************************************\n",
            "Block: 3ema\n",
            "Fitting estimator with 23 features.\n",
            "Fitting estimator with 10 features.\n",
            "Feature Rankings [3 3 3 2 2 3 3 3 3 3 3 2 3 3 3 2 3 2 2 2 2 1 2]\n",
            "Close_3ema\n",
            "Number of Selected Features: 3\n",
            "**************************************************\n",
            "Block: 3tema\n",
            "Fitting estimator with 23 features.\n",
            "Fitting estimator with 10 features.\n",
            "Feature Rankings [3 3 3 2 3 3 3 3 2 3 3 2 3 3 3 2 3 2 2 2 2 1 2]\n",
            "Close_3tema\n",
            "Number of Selected Features: 4\n",
            "**************************************************\n",
            "Block: 3dema\n",
            "Fitting estimator with 23 features.\n",
            "Fitting estimator with 10 features.\n",
            "Feature Rankings [3 3 3 2 3 3 2 3 3 3 3 2 3 3 3 2 3 2 2 2 2 1 2]\n",
            "Close_3dema\n",
            "Number of Selected Features: 5\n",
            "**************************************************\n",
            "Block: 3rsi\n",
            "Fitting estimator with 23 features.\n",
            "Feature Rankings [2 2 2 1 1 1 1 2 1 2 1 1 1 2 2 1 2 2 2 2 2 1 2]\n",
            "Selected Feature: difficulty_3rsi\n",
            "Number of Selected Features: 6\n",
            "**************************************************\n",
            "Block: 3std\n",
            "Fitting estimator with 23 features.\n",
            "Feature Rankings [2 2 2 2 1 1 1 2 2 2 1 1 2 2 2 2 2 1 1 1 1 1 2]\n",
            "Selected Feature: transactionvalue_3std\n",
            "Number of Selected Features: 7\n",
            "**************************************************\n",
            "Block: 3roc\n",
            "Fitting estimator with 23 features.\n",
            "Feature Rankings [2 1 2 2 2 2 1 2 1 2 1 1 1 1 2 1 2 2 1 2 2 1 2]\n",
            "Selected Feature: median_transaction_fee_3roc\n",
            "Number of Selected Features: 8\n",
            "**************************************************\n",
            "Block: 3mom\n",
            "Feature Rankings [1 1 1 1 1 1 1 1 1 1 1 1 1 1 1 1 1 1 1 1 1 1 1]\n",
            "Selected Feature: Low_3mom\n",
            "Number of Selected Features: 9\n",
            "**************************************************\n",
            "Block: 3var\n",
            "Feature Rankings [1 1 1 1 1 1 1 1 1 1 1 1 1 1 1 1 1 1 1 1 1 1 1]\n",
            "Selected Feature: transactionvalue_3var\n",
            "Number of Selected Features: 10\n",
            "**************************************************\n",
            "Block: 3BBupper\n",
            "Fitting estimator with 23 features.\n",
            "Fitting estimator with 10 features.\n",
            "Feature Rankings [3 3 3 2 2 3 3 3 3 3 3 3 2 3 3 2 3 2 2 2 1 2 2]\n",
            "Low_3BBupper\n",
            "Number of Selected Features: 11\n",
            "**************************************************\n",
            "Block: 3BBmiddle\n",
            "Fitting estimator with 23 features.\n",
            "Fitting estimator with 10 features.\n",
            "Feature Rankings [3 3 3 2 2 3 3 3 3 2 3 3 3 3 3 2 3 2 2 2 2 1 2]\n",
            "Close_3BBmiddle\n",
            "Number of Selected Features: 12\n",
            "**************************************************\n",
            "Block: 3BBlower\n",
            "Feature Rankings [1 1 1 1 1 1 1 1 1 1 1 1 1 1 1 1 1 1 1 1 1 1 1]\n",
            "Selected Feature: Open_3BBlower\n",
            "Number of Selected Features: 13\n",
            "**************************************************\n",
            "Block: 7sma\n",
            "Fitting estimator with 23 features.\n",
            "Fitting estimator with 10 features.\n",
            "Feature Rankings [3 3 3 2 3 3 2 3 3 3 3 2 3 3 3 2 3 2 2 2 2 1 2]\n",
            "Close_7sma\n",
            "Number of Selected Features: 14\n",
            "**************************************************\n",
            "Block: 7wma\n",
            "Fitting estimator with 23 features.\n",
            "Fitting estimator with 10 features.\n",
            "Feature Rankings [3 3 3 2 3 3 3 3 3 3 3 2 2 3 3 2 3 2 2 2 2 1 2]\n",
            "Close_7wma\n",
            "Number of Selected Features: 15\n",
            "**************************************************\n",
            "Block: 7ema\n",
            "Fitting estimator with 23 features.\n",
            "Fitting estimator with 10 features.\n",
            "Feature Rankings [3 3 3 2 3 3 3 3 3 3 2 2 3 3 3 2 3 2 2 2 2 1 2]\n",
            "Close_7ema\n",
            "Number of Selected Features: 16\n",
            "**************************************************\n",
            "Block: 7tema\n",
            "Fitting estimator with 23 features.\n",
            "Fitting estimator with 10 features.\n",
            "Feature Rankings [3 3 3 2 2 3 3 3 3 3 3 2 3 3 3 2 3 2 2 2 1 2 2]\n",
            "Low_7tema\n",
            "Number of Selected Features: 17\n",
            "**************************************************\n",
            "Block: 7dema\n",
            "Fitting estimator with 23 features.\n",
            "Fitting estimator with 10 features.\n",
            "Feature Rankings [3 3 3 2 2 3 3 3 3 3 3 2 3 3 3 2 3 2 2 2 2 1 2]\n",
            "Close_7dema\n",
            "Number of Selected Features: 18\n",
            "**************************************************\n",
            "Block: 7rsi\n",
            "Feature Rankings [1 1 1 1 1 1 1 1 1 1 1 1 1 1 1 1 1 1 1 1 1 1 1]\n",
            "Selected Feature: difficulty_7rsi\n",
            "Number of Selected Features: 19\n",
            "**************************************************\n",
            "Block: 7std\n",
            "Fitting estimator with 23 features.\n",
            "Feature Rankings [2 2 1 2 1 1 1 2 1 2 1 1 2 2 2 2 2 2 1 2 2 1 1]\n",
            "Selected Feature: Close_7std\n",
            "Number of Selected Features: 20\n",
            "**************************************************\n",
            "Block: 7roc\n",
            "Fitting estimator with 23 features.\n",
            "Feature Rankings [2 1 2 1 2 2 1 1 1 2 1 1 1 1 2 1 2 2 2 2 2 2 2]\n",
            "Selected Feature: median_transaction_fee_7roc\n",
            "Number of Selected Features: 21\n",
            "**************************************************\n",
            "Block: 7mom\n",
            "Feature Rankings [1 1 1 1 1 1 1 1 1 1 1 1 1 1 1 1 1 1 1 1 1 1 1]\n",
            "Selected Feature: transactionvalue_7mom\n",
            "Number of Selected Features: 22\n",
            "**************************************************\n",
            "Block: 7var\n",
            "Feature Rankings [1 1 1 1 1 1 1 1 1 1 1 1 1 1 1 1 1 1 1 1 1 1 1]\n",
            "Selected Feature: Close_7var\n",
            "Number of Selected Features: 23\n",
            "**************************************************\n",
            "Block: 7BBupper\n",
            "Fitting estimator with 23 features.\n",
            "Feature Rankings [2 2 2 1 2 2 1 2 2 2 2 2 1 2 2 1 2 1 1 1 1 1 1]\n",
            "Selected Feature: Close_7BBupper\n",
            "Number of Selected Features: 24\n",
            "**************************************************\n",
            "Block: 7BBmiddle\n",
            "Fitting estimator with 23 features.\n",
            "Fitting estimator with 10 features.\n",
            "Feature Rankings [3 3 3 2 3 3 2 3 3 3 3 2 3 3 3 2 3 2 2 2 2 1 2]\n",
            "Close_7BBmiddle\n",
            "Number of Selected Features: 25\n",
            "**************************************************\n",
            "Block: 7BBlower\n",
            "Fitting estimator with 23 features.\n",
            "Fitting estimator with 10 features.\n",
            "Feature Rankings [3 3 3 3 2 2 3 3 3 3 3 3 2 3 3 2 3 2 1 2 2 2 2]\n",
            "Open_7BBlower\n",
            "Number of Selected Features: 26\n",
            "**************************************************\n",
            "Block: 30sma\n",
            "Fitting estimator with 23 features.\n",
            "Fitting estimator with 10 features.\n",
            "Feature Rankings [3 3 3 2 3 2 3 3 3 3 2 3 3 3 3 2 3 2 2 1 2 2 2]\n",
            "High_30sma\n",
            "Number of Selected Features: 27\n",
            "**************************************************\n",
            "Block: 30wma\n",
            "Fitting estimator with 23 features.\n",
            "Fitting estimator with 10 features.\n",
            "Feature Rankings [3 3 3 2 2 3 3 3 3 3 2 3 3 3 3 2 3 2 2 1 2 2 2]\n",
            "High_30wma\n",
            "Number of Selected Features: 28\n",
            "**************************************************\n",
            "Block: 30ema\n",
            "Fitting estimator with 23 features.\n",
            "Feature Rankings [2 2 2 1 2 1 2 2 2 2 1 2 2 2 2 1 2 1 1 1 1 1 1]\n",
            "Selected Feature: transactionvalue_30ema\n",
            "Number of Selected Features: 29\n",
            "**************************************************\n",
            "Block: 30tema\n",
            "Fitting estimator with 23 features.\n",
            "Fitting estimator with 10 features.\n",
            "Feature Rankings [3 3 3 2 3 3 2 3 3 3 3 2 3 3 3 2 3 2 2 1 2 2 2]\n",
            "High_30tema\n",
            "Number of Selected Features: 30\n",
            "**************************************************\n",
            "Block: 30dema\n",
            "Feature Rankings [1 1 1 1 1 1 1 1 1 1 1 1 1 1 1 1 1 1 1 1 1 1 1]\n",
            "Selected Feature: avg_price_30dema\n",
            "Number of Selected Features: 31\n",
            "**************************************************\n",
            "Block: 30rsi\n",
            "Feature Rankings [1 1 1 1 1 1 1 1 1 1 1 1 1 1 1 1 1 1 1 1 1 1 1]\n",
            "Selected Feature: difficulty_30rsi\n",
            "Number of Selected Features: 32\n",
            "**************************************************\n",
            "Block: 30std\n",
            "Fitting estimator with 23 features.\n",
            "Feature Rankings [2 2 2 1 1 2 1 2 2 2 1 1 1 1 2 2 2 2 1 2 1 1 2]\n",
            "Selected Feature: tweets_30std\n",
            "Number of Selected Features: 33\n",
            "**************************************************\n",
            "Block: 30roc\n",
            "Fitting estimator with 23 features.\n",
            "Feature Rankings [2 1 2 1 2 2 1 1 1 2 1 1 1 1 2 1 2 2 2 2 2 2 2]\n",
            "Selected Feature: top100cap_30roc\n",
            "Number of Selected Features: 34\n",
            "**************************************************\n",
            "Block: 30mom\n",
            "Feature Rankings [1 1 1 1 1 1 1 1 1 1 1 1 1 1 1 1 1 1 1 1 1 1 1]\n",
            "Selected Feature: transactionvalue_30mom\n",
            "Number of Selected Features: 35\n",
            "**************************************************\n",
            "Block: 30var\n",
            "Fitting estimator with 23 features.\n",
            "Feature Rankings [2 2 2 1 1 2 1 2 2 2 1 1 1 1 2 2 2 2 1 2 1 1 2]\n",
            "Selected Feature: tweets_30var\n",
            "Number of Selected Features: 36\n",
            "**************************************************\n",
            "Block: 30BBupper\n",
            "Fitting estimator with 23 features.\n",
            "Fitting estimator with 10 features.\n",
            "Feature Rankings [2 3 3 2 3 3 3 3 3 3 3 3 3 2 2 3 3 2 2 2 1 2 2]\n",
            "Low_30BBupper\n",
            "Number of Selected Features: 37\n",
            "**************************************************\n",
            "Block: 30BBmiddle\n",
            "Fitting estimator with 23 features.\n",
            "Fitting estimator with 10 features.\n",
            "Feature Rankings [3 3 3 2 3 2 3 3 3 3 2 3 3 3 3 2 3 2 2 1 2 2 2]\n",
            "High_30BBmiddle\n",
            "Number of Selected Features: 38\n",
            "**************************************************\n",
            "Block: 30BBlower\n",
            "Fitting estimator with 23 features.\n",
            "Fitting estimator with 10 features.\n",
            "Feature Rankings [3 2 3 2 3 2 2 3 3 3 2 3 3 2 3 3 3 2 2 3 1 2 3]\n",
            "Low_30BBlower\n",
            "Number of Selected Features: 39\n",
            "**************************************************\n",
            "Block: 90sma\n",
            "Feature Rankings [1 1 1 1 1 1 1 1 1 1 1 1 1 1 1 1 1 1 1 1 1 1 1]\n",
            "Selected Feature: transactionvalue_90sma\n",
            "Number of Selected Features: 40\n",
            "**************************************************\n",
            "Block: 90wma\n",
            "Fitting estimator with 23 features.\n",
            "Feature Rankings [2 1 1 2 2 1 2 2 2 2 1 2 2 2 2 2 2 1 1 1 1 1 1]\n",
            "Selected Feature: transactionvalue_90wma\n",
            "Number of Selected Features: 41\n",
            "**************************************************\n",
            "Block: 90ema\n",
            "Feature Rankings [1 1 1 1 1 1 1 1 1 1 1 1 1 1 1 1 1 1 1 1 1 1 1]\n",
            "Selected Feature: transactionvalue_90ema\n",
            "Number of Selected Features: 42\n",
            "**************************************************\n",
            "Block: 90tema\n",
            "Fitting estimator with 23 features.\n",
            "Fitting estimator with 10 features.\n",
            "Feature Rankings [3 3 3 3 3 2 3 3 3 3 1 3 3 3 3 2 2 2 2 2 2 2 2]\n",
            "transactionvalue_90tema\n",
            "Number of Selected Features: 43\n",
            "**************************************************\n",
            "Block: 90dema\n",
            "Fitting estimator with 23 features.\n",
            "Fitting estimator with 10 features.\n",
            "Feature Rankings [3 3 2 3 2 2 3 3 3 3 2 3 3 3 3 2 3 2 2 2 2 1 3]\n",
            "Close_90dema\n",
            "Number of Selected Features: 44\n",
            "**************************************************\n",
            "Block: 90rsi\n",
            "Fitting estimator with 23 features.\n",
            "Feature Rankings [2 2 2 1 2 1 2 1 1 2 1 1 2 2 2 1 1 1 2 1 2 2 2]\n",
            "Selected Feature: difficulty_90rsi\n",
            "Number of Selected Features: 45\n",
            "**************************************************\n",
            "Block: 90std\n",
            "Feature Rankings [1 1 1 1 1 1 1 1 1 1 1 1 1 1 1 1 1 1 1 1 1 1 1]\n",
            "Selected Feature: tweets_90std\n",
            "Number of Selected Features: 46\n",
            "**************************************************\n",
            "Block: 90roc\n",
            "Fitting estimator with 23 features.\n",
            "Feature Rankings [2 2 2 1 1 1 1 2 2 2 1 1 1 1 2 1 1 2 2 2 2 2 2]\n",
            "Selected Feature: top100cap_90roc\n",
            "Number of Selected Features: 47\n",
            "**************************************************\n",
            "Block: 90mom\n",
            "Feature Rankings [1 1 1 1 1 1 1 1 1 1 1 1 1 1 1 1 1 1 1 1 1 1 1]\n",
            "Selected Feature: transactionvalue_90mom\n",
            "Number of Selected Features: 48\n",
            "**************************************************\n",
            "Block: 90var\n",
            "Feature Rankings [1 1 1 1 1 1 1 1 1 1 1 1 1 1 1 1 1 1 1 1 1 1 1]\n",
            "Selected Feature: tweets_90var\n",
            "Number of Selected Features: 49\n",
            "**************************************************\n",
            "Block: 90BBupper\n",
            "Fitting estimator with 23 features.\n",
            "Feature Rankings [2 2 2 1 1 2 2 2 2 1 2 2 2 2 1 2 2 1 1 1 1 1 1]\n",
            "Selected Feature: avg_price_90BBupper\n",
            "Number of Selected Features: 50\n",
            "**************************************************\n",
            "Block: 90BBmiddle\n",
            "Feature Rankings [1 1 1 1 1 1 1 1 1 1 1 1 1 1 1 1 1 1 1 1 1 1 1]\n",
            "Selected Feature: transactionvalue_90BBmiddle\n",
            "Number of Selected Features: 51\n",
            "**************************************************\n",
            "Block: 90BBlower\n",
            "Feature Rankings [1 1 1 1 1 1 1 1 1 1 1 1 1 1 1 1 1 1 1 1 1 1 1]\n",
            "Selected Feature: mediantransactionvalue_90BBlower\n",
            "Number of Selected Features: 52\n",
            "**************************************************\n"
          ]
        }
      ]
    },
    {
      "cell_type": "code",
      "source": [
        "btc_data_24.columns[1:24]"
      ],
      "metadata": {
        "colab": {
          "base_uri": "https://localhost:8080/"
        },
        "id": "Cskw8gnRttUD",
        "outputId": "aa6f04d2-d84a-4f21-8cea-1c2ff462c384"
      },
      "execution_count": null,
      "outputs": [
        {
          "output_type": "execute_result",
          "data": {
            "text/plain": [
              "Index(['transactions', 'size', 'sentbyaddress', 'difficulty', 'hashrate',\n",
              "       'mining_profitability', 'sentinusd', 'transactionfees',\n",
              "       'median_transaction_fee', 'confirmationtime', 'transactionvalue',\n",
              "       'tweets', 'google_trends', 'mediantransactionvalue', 'activeaddresses',\n",
              "       'top100cap', 'fee_to_reward', 'avg_price', 'Open', 'High', 'Low',\n",
              "       'Close', 'miners_revenue'],\n",
              "      dtype='object')"
            ]
          },
          "metadata": {},
          "execution_count": 324
        }
      ]
    },
    {
      "cell_type": "code",
      "source": [
        "btc_data_24_raw = btc_data_24.iloc[:,1:24]"
      ],
      "metadata": {
        "id": "VOb02fs7poHH"
      },
      "execution_count": null,
      "outputs": []
    },
    {
      "cell_type": "code",
      "source": [
        "btc_data_24_tech = btc_data_24[list_of_selected_features_24]"
      ],
      "metadata": {
        "id": "x05DfVnKpoHI"
      },
      "execution_count": null,
      "outputs": []
    },
    {
      "cell_type": "code",
      "source": [
        "VIF_24_tech = VIF(btc_data_24_tech)\n",
        "VIF_24_tech.iloc[10:]"
      ],
      "metadata": {
        "id": "RxZtpoiGpoHI",
        "colab": {
          "base_uri": "https://localhost:8080/",
          "height": 1000
        },
        "outputId": "09c45c17-8ab3-467e-ca88-9b3fc4ee572a"
      },
      "execution_count": null,
      "outputs": [
        {
          "output_type": "execute_result",
          "data": {
            "text/plain": [
              "                         feature_vif           VIF\n",
              "23                    Close_7BBupper  3.710760e+08\n",
              "19                        Close_7std  1.247115e+07\n",
              "28            transactionvalue_30ema  1.321036e+04\n",
              "27                        High_30wma  5.075100e+03\n",
              "43                      Close_90dema  4.246148e+03\n",
              "26                        High_30sma  1.074820e+03\n",
              "36                     Low_30BBupper  6.891745e+02\n",
              "11                   Close_3BBmiddle  1.709389e+02\n",
              "14                        Close_7wma  1.668929e+02\n",
              "13                        Close_7sma  1.351229e+02\n",
              "18                   difficulty_7rsi  1.005815e+02\n",
              "0                         Close_3sma  8.685003e+01\n",
              "17                       Close_7dema  6.773507e+01\n",
              "5                    difficulty_3rsi  4.341151e+01\n",
              "15                        Close_7ema  4.032224e+01\n",
              "37                   High_30BBmiddle  3.991600e+01\n",
              "49               avg_price_90BBupper  3.726055e+01\n",
              "44                  difficulty_90rsi  3.479992e+01\n",
              "31                  difficulty_30rsi  3.283256e+01\n",
              "2                         Close_3ema  3.131074e+01\n",
              "35                      tweets_30var  2.884453e+01\n",
              "42           transactionvalue_90tema  2.672987e+01\n",
              "38                     Low_30BBlower  2.334090e+01\n",
              "41            transactionvalue_90ema  2.146743e+01\n",
              "45                      tweets_90std  2.132206e+01\n",
              "30                  avg_price_30dema  2.077013e+01\n",
              "32                      tweets_30std  2.024187e+01\n",
              "6              transactionvalue_3std  1.793824e+01\n",
              "50       transactionvalue_90BBmiddle  1.771893e+01\n",
              "12                     Open_3BBlower  1.768261e+01\n",
              "22                        Close_7var  1.461769e+01\n",
              "3                        Close_3tema  1.036703e+01\n",
              "48                      tweets_90var  9.642404e+00\n",
              "39            transactionvalue_90sma  9.534465e+00\n",
              "40            transactionvalue_90wma  8.528072e+00\n",
              "1                         Close_3wma  7.195837e+00\n",
              "4                        Close_3dema  6.589336e+00\n",
              "29                       High_30tema  5.896176e+00\n",
              "25                     Open_7BBlower  5.852563e+00\n",
              "24                   Close_7BBmiddle  5.335217e+00\n",
              "9              transactionvalue_3var  5.319497e+00\n",
              "8                           Low_3mom  4.551998e+00\n",
              "10                      Low_3BBupper  3.806604e+00\n",
              "16                         Low_7tema  3.224899e+00\n",
              "51  mediantransactionvalue_90BBlower  3.156346e+00\n",
              "47            transactionvalue_90mom  2.778370e+00\n",
              "34            transactionvalue_30mom  1.948576e+00\n",
              "21             transactionvalue_7mom  1.947739e+00\n",
              "33                   top100cap_30roc  1.740480e+00\n",
              "20       median_transaction_fee_7roc  1.669364e+00\n",
              "7        median_transaction_fee_3roc  1.469161e+00\n",
              "46                   top100cap_90roc  1.444772e+00"
            ],
            "text/html": [
              "\n",
              "  <div id=\"df-bc8c6e5f-4446-46ea-8913-7fb8488504a5\">\n",
              "    <div class=\"colab-df-container\">\n",
              "      <div>\n",
              "<style scoped>\n",
              "    .dataframe tbody tr th:only-of-type {\n",
              "        vertical-align: middle;\n",
              "    }\n",
              "\n",
              "    .dataframe tbody tr th {\n",
              "        vertical-align: top;\n",
              "    }\n",
              "\n",
              "    .dataframe thead th {\n",
              "        text-align: right;\n",
              "    }\n",
              "</style>\n",
              "<table border=\"1\" class=\"dataframe\">\n",
              "  <thead>\n",
              "    <tr style=\"text-align: right;\">\n",
              "      <th></th>\n",
              "      <th>feature_vif</th>\n",
              "      <th>VIF</th>\n",
              "    </tr>\n",
              "  </thead>\n",
              "  <tbody>\n",
              "    <tr>\n",
              "      <th>23</th>\n",
              "      <td>Close_7BBupper</td>\n",
              "      <td>3.710760e+08</td>\n",
              "    </tr>\n",
              "    <tr>\n",
              "      <th>19</th>\n",
              "      <td>Close_7std</td>\n",
              "      <td>1.247115e+07</td>\n",
              "    </tr>\n",
              "    <tr>\n",
              "      <th>28</th>\n",
              "      <td>transactionvalue_30ema</td>\n",
              "      <td>1.321036e+04</td>\n",
              "    </tr>\n",
              "    <tr>\n",
              "      <th>27</th>\n",
              "      <td>High_30wma</td>\n",
              "      <td>5.075100e+03</td>\n",
              "    </tr>\n",
              "    <tr>\n",
              "      <th>43</th>\n",
              "      <td>Close_90dema</td>\n",
              "      <td>4.246148e+03</td>\n",
              "    </tr>\n",
              "    <tr>\n",
              "      <th>26</th>\n",
              "      <td>High_30sma</td>\n",
              "      <td>1.074820e+03</td>\n",
              "    </tr>\n",
              "    <tr>\n",
              "      <th>36</th>\n",
              "      <td>Low_30BBupper</td>\n",
              "      <td>6.891745e+02</td>\n",
              "    </tr>\n",
              "    <tr>\n",
              "      <th>11</th>\n",
              "      <td>Close_3BBmiddle</td>\n",
              "      <td>1.709389e+02</td>\n",
              "    </tr>\n",
              "    <tr>\n",
              "      <th>14</th>\n",
              "      <td>Close_7wma</td>\n",
              "      <td>1.668929e+02</td>\n",
              "    </tr>\n",
              "    <tr>\n",
              "      <th>13</th>\n",
              "      <td>Close_7sma</td>\n",
              "      <td>1.351229e+02</td>\n",
              "    </tr>\n",
              "    <tr>\n",
              "      <th>18</th>\n",
              "      <td>difficulty_7rsi</td>\n",
              "      <td>1.005815e+02</td>\n",
              "    </tr>\n",
              "    <tr>\n",
              "      <th>0</th>\n",
              "      <td>Close_3sma</td>\n",
              "      <td>8.685003e+01</td>\n",
              "    </tr>\n",
              "    <tr>\n",
              "      <th>17</th>\n",
              "      <td>Close_7dema</td>\n",
              "      <td>6.773507e+01</td>\n",
              "    </tr>\n",
              "    <tr>\n",
              "      <th>5</th>\n",
              "      <td>difficulty_3rsi</td>\n",
              "      <td>4.341151e+01</td>\n",
              "    </tr>\n",
              "    <tr>\n",
              "      <th>15</th>\n",
              "      <td>Close_7ema</td>\n",
              "      <td>4.032224e+01</td>\n",
              "    </tr>\n",
              "    <tr>\n",
              "      <th>37</th>\n",
              "      <td>High_30BBmiddle</td>\n",
              "      <td>3.991600e+01</td>\n",
              "    </tr>\n",
              "    <tr>\n",
              "      <th>49</th>\n",
              "      <td>avg_price_90BBupper</td>\n",
              "      <td>3.726055e+01</td>\n",
              "    </tr>\n",
              "    <tr>\n",
              "      <th>44</th>\n",
              "      <td>difficulty_90rsi</td>\n",
              "      <td>3.479992e+01</td>\n",
              "    </tr>\n",
              "    <tr>\n",
              "      <th>31</th>\n",
              "      <td>difficulty_30rsi</td>\n",
              "      <td>3.283256e+01</td>\n",
              "    </tr>\n",
              "    <tr>\n",
              "      <th>2</th>\n",
              "      <td>Close_3ema</td>\n",
              "      <td>3.131074e+01</td>\n",
              "    </tr>\n",
              "    <tr>\n",
              "      <th>35</th>\n",
              "      <td>tweets_30var</td>\n",
              "      <td>2.884453e+01</td>\n",
              "    </tr>\n",
              "    <tr>\n",
              "      <th>42</th>\n",
              "      <td>transactionvalue_90tema</td>\n",
              "      <td>2.672987e+01</td>\n",
              "    </tr>\n",
              "    <tr>\n",
              "      <th>38</th>\n",
              "      <td>Low_30BBlower</td>\n",
              "      <td>2.334090e+01</td>\n",
              "    </tr>\n",
              "    <tr>\n",
              "      <th>41</th>\n",
              "      <td>transactionvalue_90ema</td>\n",
              "      <td>2.146743e+01</td>\n",
              "    </tr>\n",
              "    <tr>\n",
              "      <th>45</th>\n",
              "      <td>tweets_90std</td>\n",
              "      <td>2.132206e+01</td>\n",
              "    </tr>\n",
              "    <tr>\n",
              "      <th>30</th>\n",
              "      <td>avg_price_30dema</td>\n",
              "      <td>2.077013e+01</td>\n",
              "    </tr>\n",
              "    <tr>\n",
              "      <th>32</th>\n",
              "      <td>tweets_30std</td>\n",
              "      <td>2.024187e+01</td>\n",
              "    </tr>\n",
              "    <tr>\n",
              "      <th>6</th>\n",
              "      <td>transactionvalue_3std</td>\n",
              "      <td>1.793824e+01</td>\n",
              "    </tr>\n",
              "    <tr>\n",
              "      <th>50</th>\n",
              "      <td>transactionvalue_90BBmiddle</td>\n",
              "      <td>1.771893e+01</td>\n",
              "    </tr>\n",
              "    <tr>\n",
              "      <th>12</th>\n",
              "      <td>Open_3BBlower</td>\n",
              "      <td>1.768261e+01</td>\n",
              "    </tr>\n",
              "    <tr>\n",
              "      <th>22</th>\n",
              "      <td>Close_7var</td>\n",
              "      <td>1.461769e+01</td>\n",
              "    </tr>\n",
              "    <tr>\n",
              "      <th>3</th>\n",
              "      <td>Close_3tema</td>\n",
              "      <td>1.036703e+01</td>\n",
              "    </tr>\n",
              "    <tr>\n",
              "      <th>48</th>\n",
              "      <td>tweets_90var</td>\n",
              "      <td>9.642404e+00</td>\n",
              "    </tr>\n",
              "    <tr>\n",
              "      <th>39</th>\n",
              "      <td>transactionvalue_90sma</td>\n",
              "      <td>9.534465e+00</td>\n",
              "    </tr>\n",
              "    <tr>\n",
              "      <th>40</th>\n",
              "      <td>transactionvalue_90wma</td>\n",
              "      <td>8.528072e+00</td>\n",
              "    </tr>\n",
              "    <tr>\n",
              "      <th>1</th>\n",
              "      <td>Close_3wma</td>\n",
              "      <td>7.195837e+00</td>\n",
              "    </tr>\n",
              "    <tr>\n",
              "      <th>4</th>\n",
              "      <td>Close_3dema</td>\n",
              "      <td>6.589336e+00</td>\n",
              "    </tr>\n",
              "    <tr>\n",
              "      <th>29</th>\n",
              "      <td>High_30tema</td>\n",
              "      <td>5.896176e+00</td>\n",
              "    </tr>\n",
              "    <tr>\n",
              "      <th>25</th>\n",
              "      <td>Open_7BBlower</td>\n",
              "      <td>5.852563e+00</td>\n",
              "    </tr>\n",
              "    <tr>\n",
              "      <th>24</th>\n",
              "      <td>Close_7BBmiddle</td>\n",
              "      <td>5.335217e+00</td>\n",
              "    </tr>\n",
              "    <tr>\n",
              "      <th>9</th>\n",
              "      <td>transactionvalue_3var</td>\n",
              "      <td>5.319497e+00</td>\n",
              "    </tr>\n",
              "    <tr>\n",
              "      <th>8</th>\n",
              "      <td>Low_3mom</td>\n",
              "      <td>4.551998e+00</td>\n",
              "    </tr>\n",
              "    <tr>\n",
              "      <th>10</th>\n",
              "      <td>Low_3BBupper</td>\n",
              "      <td>3.806604e+00</td>\n",
              "    </tr>\n",
              "    <tr>\n",
              "      <th>16</th>\n",
              "      <td>Low_7tema</td>\n",
              "      <td>3.224899e+00</td>\n",
              "    </tr>\n",
              "    <tr>\n",
              "      <th>51</th>\n",
              "      <td>mediantransactionvalue_90BBlower</td>\n",
              "      <td>3.156346e+00</td>\n",
              "    </tr>\n",
              "    <tr>\n",
              "      <th>47</th>\n",
              "      <td>transactionvalue_90mom</td>\n",
              "      <td>2.778370e+00</td>\n",
              "    </tr>\n",
              "    <tr>\n",
              "      <th>34</th>\n",
              "      <td>transactionvalue_30mom</td>\n",
              "      <td>1.948576e+00</td>\n",
              "    </tr>\n",
              "    <tr>\n",
              "      <th>21</th>\n",
              "      <td>transactionvalue_7mom</td>\n",
              "      <td>1.947739e+00</td>\n",
              "    </tr>\n",
              "    <tr>\n",
              "      <th>33</th>\n",
              "      <td>top100cap_30roc</td>\n",
              "      <td>1.740480e+00</td>\n",
              "    </tr>\n",
              "    <tr>\n",
              "      <th>20</th>\n",
              "      <td>median_transaction_fee_7roc</td>\n",
              "      <td>1.669364e+00</td>\n",
              "    </tr>\n",
              "    <tr>\n",
              "      <th>7</th>\n",
              "      <td>median_transaction_fee_3roc</td>\n",
              "      <td>1.469161e+00</td>\n",
              "    </tr>\n",
              "    <tr>\n",
              "      <th>46</th>\n",
              "      <td>top100cap_90roc</td>\n",
              "      <td>1.444772e+00</td>\n",
              "    </tr>\n",
              "  </tbody>\n",
              "</table>\n",
              "</div>\n",
              "      <button class=\"colab-df-convert\" onclick=\"convertToInteractive('df-bc8c6e5f-4446-46ea-8913-7fb8488504a5')\"\n",
              "              title=\"Convert this dataframe to an interactive table.\"\n",
              "              style=\"display:none;\">\n",
              "        \n",
              "  <svg xmlns=\"http://www.w3.org/2000/svg\" height=\"24px\"viewBox=\"0 0 24 24\"\n",
              "       width=\"24px\">\n",
              "    <path d=\"M0 0h24v24H0V0z\" fill=\"none\"/>\n",
              "    <path d=\"M18.56 5.44l.94 2.06.94-2.06 2.06-.94-2.06-.94-.94-2.06-.94 2.06-2.06.94zm-11 1L8.5 8.5l.94-2.06 2.06-.94-2.06-.94L8.5 2.5l-.94 2.06-2.06.94zm10 10l.94 2.06.94-2.06 2.06-.94-2.06-.94-.94-2.06-.94 2.06-2.06.94z\"/><path d=\"M17.41 7.96l-1.37-1.37c-.4-.4-.92-.59-1.43-.59-.52 0-1.04.2-1.43.59L10.3 9.45l-7.72 7.72c-.78.78-.78 2.05 0 2.83L4 21.41c.39.39.9.59 1.41.59.51 0 1.02-.2 1.41-.59l7.78-7.78 2.81-2.81c.8-.78.8-2.07 0-2.86zM5.41 20L4 18.59l7.72-7.72 1.47 1.35L5.41 20z\"/>\n",
              "  </svg>\n",
              "      </button>\n",
              "      \n",
              "  <style>\n",
              "    .colab-df-container {\n",
              "      display:flex;\n",
              "      flex-wrap:wrap;\n",
              "      gap: 12px;\n",
              "    }\n",
              "\n",
              "    .colab-df-convert {\n",
              "      background-color: #E8F0FE;\n",
              "      border: none;\n",
              "      border-radius: 50%;\n",
              "      cursor: pointer;\n",
              "      display: none;\n",
              "      fill: #1967D2;\n",
              "      height: 32px;\n",
              "      padding: 0 0 0 0;\n",
              "      width: 32px;\n",
              "    }\n",
              "\n",
              "    .colab-df-convert:hover {\n",
              "      background-color: #E2EBFA;\n",
              "      box-shadow: 0px 1px 2px rgba(60, 64, 67, 0.3), 0px 1px 3px 1px rgba(60, 64, 67, 0.15);\n",
              "      fill: #174EA6;\n",
              "    }\n",
              "\n",
              "    [theme=dark] .colab-df-convert {\n",
              "      background-color: #3B4455;\n",
              "      fill: #D2E3FC;\n",
              "    }\n",
              "\n",
              "    [theme=dark] .colab-df-convert:hover {\n",
              "      background-color: #434B5C;\n",
              "      box-shadow: 0px 1px 3px 1px rgba(0, 0, 0, 0.15);\n",
              "      filter: drop-shadow(0px 1px 2px rgba(0, 0, 0, 0.3));\n",
              "      fill: #FFFFFF;\n",
              "    }\n",
              "  </style>\n",
              "\n",
              "      <script>\n",
              "        const buttonEl =\n",
              "          document.querySelector('#df-bc8c6e5f-4446-46ea-8913-7fb8488504a5 button.colab-df-convert');\n",
              "        buttonEl.style.display =\n",
              "          google.colab.kernel.accessAllowed ? 'block' : 'none';\n",
              "\n",
              "        async function convertToInteractive(key) {\n",
              "          const element = document.querySelector('#df-bc8c6e5f-4446-46ea-8913-7fb8488504a5');\n",
              "          const dataTable =\n",
              "            await google.colab.kernel.invokeFunction('convertToInteractive',\n",
              "                                                     [key], {});\n",
              "          if (!dataTable) return;\n",
              "\n",
              "          const docLinkHtml = 'Like what you see? Visit the ' +\n",
              "            '<a target=\"_blank\" href=https://colab.research.google.com/notebooks/data_table.ipynb>data table notebook</a>'\n",
              "            + ' to learn more about interactive tables.';\n",
              "          element.innerHTML = '';\n",
              "          dataTable['output_type'] = 'display_data';\n",
              "          await google.colab.output.renderOutput(dataTable, element);\n",
              "          const docLink = document.createElement('div');\n",
              "          docLink.innerHTML = docLinkHtml;\n",
              "          element.appendChild(docLink);\n",
              "        }\n",
              "      </script>\n",
              "    </div>\n",
              "  </div>\n",
              "  "
            ]
          },
          "metadata": {},
          "execution_count": 345
        }
      ]
    },
    {
      "cell_type": "code",
      "source": [
        "tech_24 = btc_data_24[VIF_24_tech['feature_vif'].to_list()]"
      ],
      "metadata": {
        "id": "hjj7GA5xZvBl"
      },
      "execution_count": null,
      "outputs": []
    },
    {
      "cell_type": "code",
      "source": [
        "tech_24.drop(VIF_24_tech[VIF_24_tech['VIF']>10]['feature_vif'].to_list(),axis=1,inplace=True)"
      ],
      "metadata": {
        "colab": {
          "base_uri": "https://localhost:8080/"
        },
        "id": "H81Kyw-nx0vx",
        "outputId": "e079407a-90af-482d-f172-974cadaecb87"
      },
      "execution_count": null,
      "outputs": [
        {
          "output_type": "stream",
          "name": "stderr",
          "text": [
            "/usr/local/lib/python3.7/dist-packages/pandas/core/frame.py:4913: SettingWithCopyWarning: \n",
            "A value is trying to be set on a copy of a slice from a DataFrame\n",
            "\n",
            "See the caveats in the documentation: https://pandas.pydata.org/pandas-docs/stable/user_guide/indexing.html#returning-a-view-versus-a-copy\n",
            "  errors=errors,\n"
          ]
        }
      ]
    },
    {
      "cell_type": "code",
      "source": [
        "tech_24.shape"
      ],
      "metadata": {
        "colab": {
          "base_uri": "https://localhost:8080/"
        },
        "outputId": "31d45e71-fbb5-4263-ab84-6a0c43921b11",
        "id": "z71Pw89QpoHJ"
      },
      "execution_count": null,
      "outputs": [
        {
          "output_type": "execute_result",
          "data": {
            "text/plain": [
              "(2684, 20)"
            ]
          },
          "metadata": {},
          "execution_count": 350
        }
      ]
    },
    {
      "cell_type": "code",
      "source": [
        "VIF_24_raw = VIF(btc_data_24_raw)\n",
        "VIF_24_raw"
      ],
      "metadata": {
        "id": "7V_7eiRhpoHK",
        "colab": {
          "base_uri": "https://localhost:8080/",
          "height": 770
        },
        "outputId": "1e32fc97-e327-41e1-9acd-cde2218021ca"
      },
      "execution_count": null,
      "outputs": [
        {
          "output_type": "execute_result",
          "data": {
            "text/plain": [
              "               feature_vif        VIF\n",
              "4                 hashrate  95.089692\n",
              "3               difficulty  51.389498\n",
              "17               avg_price  22.906082\n",
              "19                    High  22.879659\n",
              "18                    Open  22.849645\n",
              "21                   Close  22.462072\n",
              "20                     Low  22.370994\n",
              "14         activeaddresses  10.304884\n",
              "2            sentbyaddress   7.878099\n",
              "10        transactionvalue   4.025592\n",
              "0             transactions   3.963291\n",
              "22          miners_revenue   3.706031\n",
              "11                  tweets   3.019787\n",
              "12           google_trends   2.900455\n",
              "6                sentinusd   2.682717\n",
              "1                     size   2.572206\n",
              "7          transactionfees   2.392727\n",
              "8   median_transaction_fee   2.138254\n",
              "13  mediantransactionvalue   2.077813\n",
              "16           fee_to_reward   1.602914\n",
              "5     mining_profitability   1.156305\n",
              "9         confirmationtime   0.262086\n",
              "15               top100cap   0.208380"
            ],
            "text/html": [
              "\n",
              "  <div id=\"df-b5575e37-5db6-45cd-847c-bc29efd4726f\">\n",
              "    <div class=\"colab-df-container\">\n",
              "      <div>\n",
              "<style scoped>\n",
              "    .dataframe tbody tr th:only-of-type {\n",
              "        vertical-align: middle;\n",
              "    }\n",
              "\n",
              "    .dataframe tbody tr th {\n",
              "        vertical-align: top;\n",
              "    }\n",
              "\n",
              "    .dataframe thead th {\n",
              "        text-align: right;\n",
              "    }\n",
              "</style>\n",
              "<table border=\"1\" class=\"dataframe\">\n",
              "  <thead>\n",
              "    <tr style=\"text-align: right;\">\n",
              "      <th></th>\n",
              "      <th>feature_vif</th>\n",
              "      <th>VIF</th>\n",
              "    </tr>\n",
              "  </thead>\n",
              "  <tbody>\n",
              "    <tr>\n",
              "      <th>4</th>\n",
              "      <td>hashrate</td>\n",
              "      <td>95.089692</td>\n",
              "    </tr>\n",
              "    <tr>\n",
              "      <th>3</th>\n",
              "      <td>difficulty</td>\n",
              "      <td>51.389498</td>\n",
              "    </tr>\n",
              "    <tr>\n",
              "      <th>17</th>\n",
              "      <td>avg_price</td>\n",
              "      <td>22.906082</td>\n",
              "    </tr>\n",
              "    <tr>\n",
              "      <th>19</th>\n",
              "      <td>High</td>\n",
              "      <td>22.879659</td>\n",
              "    </tr>\n",
              "    <tr>\n",
              "      <th>18</th>\n",
              "      <td>Open</td>\n",
              "      <td>22.849645</td>\n",
              "    </tr>\n",
              "    <tr>\n",
              "      <th>21</th>\n",
              "      <td>Close</td>\n",
              "      <td>22.462072</td>\n",
              "    </tr>\n",
              "    <tr>\n",
              "      <th>20</th>\n",
              "      <td>Low</td>\n",
              "      <td>22.370994</td>\n",
              "    </tr>\n",
              "    <tr>\n",
              "      <th>14</th>\n",
              "      <td>activeaddresses</td>\n",
              "      <td>10.304884</td>\n",
              "    </tr>\n",
              "    <tr>\n",
              "      <th>2</th>\n",
              "      <td>sentbyaddress</td>\n",
              "      <td>7.878099</td>\n",
              "    </tr>\n",
              "    <tr>\n",
              "      <th>10</th>\n",
              "      <td>transactionvalue</td>\n",
              "      <td>4.025592</td>\n",
              "    </tr>\n",
              "    <tr>\n",
              "      <th>0</th>\n",
              "      <td>transactions</td>\n",
              "      <td>3.963291</td>\n",
              "    </tr>\n",
              "    <tr>\n",
              "      <th>22</th>\n",
              "      <td>miners_revenue</td>\n",
              "      <td>3.706031</td>\n",
              "    </tr>\n",
              "    <tr>\n",
              "      <th>11</th>\n",
              "      <td>tweets</td>\n",
              "      <td>3.019787</td>\n",
              "    </tr>\n",
              "    <tr>\n",
              "      <th>12</th>\n",
              "      <td>google_trends</td>\n",
              "      <td>2.900455</td>\n",
              "    </tr>\n",
              "    <tr>\n",
              "      <th>6</th>\n",
              "      <td>sentinusd</td>\n",
              "      <td>2.682717</td>\n",
              "    </tr>\n",
              "    <tr>\n",
              "      <th>1</th>\n",
              "      <td>size</td>\n",
              "      <td>2.572206</td>\n",
              "    </tr>\n",
              "    <tr>\n",
              "      <th>7</th>\n",
              "      <td>transactionfees</td>\n",
              "      <td>2.392727</td>\n",
              "    </tr>\n",
              "    <tr>\n",
              "      <th>8</th>\n",
              "      <td>median_transaction_fee</td>\n",
              "      <td>2.138254</td>\n",
              "    </tr>\n",
              "    <tr>\n",
              "      <th>13</th>\n",
              "      <td>mediantransactionvalue</td>\n",
              "      <td>2.077813</td>\n",
              "    </tr>\n",
              "    <tr>\n",
              "      <th>16</th>\n",
              "      <td>fee_to_reward</td>\n",
              "      <td>1.602914</td>\n",
              "    </tr>\n",
              "    <tr>\n",
              "      <th>5</th>\n",
              "      <td>mining_profitability</td>\n",
              "      <td>1.156305</td>\n",
              "    </tr>\n",
              "    <tr>\n",
              "      <th>9</th>\n",
              "      <td>confirmationtime</td>\n",
              "      <td>0.262086</td>\n",
              "    </tr>\n",
              "    <tr>\n",
              "      <th>15</th>\n",
              "      <td>top100cap</td>\n",
              "      <td>0.208380</td>\n",
              "    </tr>\n",
              "  </tbody>\n",
              "</table>\n",
              "</div>\n",
              "      <button class=\"colab-df-convert\" onclick=\"convertToInteractive('df-b5575e37-5db6-45cd-847c-bc29efd4726f')\"\n",
              "              title=\"Convert this dataframe to an interactive table.\"\n",
              "              style=\"display:none;\">\n",
              "        \n",
              "  <svg xmlns=\"http://www.w3.org/2000/svg\" height=\"24px\"viewBox=\"0 0 24 24\"\n",
              "       width=\"24px\">\n",
              "    <path d=\"M0 0h24v24H0V0z\" fill=\"none\"/>\n",
              "    <path d=\"M18.56 5.44l.94 2.06.94-2.06 2.06-.94-2.06-.94-.94-2.06-.94 2.06-2.06.94zm-11 1L8.5 8.5l.94-2.06 2.06-.94-2.06-.94L8.5 2.5l-.94 2.06-2.06.94zm10 10l.94 2.06.94-2.06 2.06-.94-2.06-.94-.94-2.06-.94 2.06-2.06.94z\"/><path d=\"M17.41 7.96l-1.37-1.37c-.4-.4-.92-.59-1.43-.59-.52 0-1.04.2-1.43.59L10.3 9.45l-7.72 7.72c-.78.78-.78 2.05 0 2.83L4 21.41c.39.39.9.59 1.41.59.51 0 1.02-.2 1.41-.59l7.78-7.78 2.81-2.81c.8-.78.8-2.07 0-2.86zM5.41 20L4 18.59l7.72-7.72 1.47 1.35L5.41 20z\"/>\n",
              "  </svg>\n",
              "      </button>\n",
              "      \n",
              "  <style>\n",
              "    .colab-df-container {\n",
              "      display:flex;\n",
              "      flex-wrap:wrap;\n",
              "      gap: 12px;\n",
              "    }\n",
              "\n",
              "    .colab-df-convert {\n",
              "      background-color: #E8F0FE;\n",
              "      border: none;\n",
              "      border-radius: 50%;\n",
              "      cursor: pointer;\n",
              "      display: none;\n",
              "      fill: #1967D2;\n",
              "      height: 32px;\n",
              "      padding: 0 0 0 0;\n",
              "      width: 32px;\n",
              "    }\n",
              "\n",
              "    .colab-df-convert:hover {\n",
              "      background-color: #E2EBFA;\n",
              "      box-shadow: 0px 1px 2px rgba(60, 64, 67, 0.3), 0px 1px 3px 1px rgba(60, 64, 67, 0.15);\n",
              "      fill: #174EA6;\n",
              "    }\n",
              "\n",
              "    [theme=dark] .colab-df-convert {\n",
              "      background-color: #3B4455;\n",
              "      fill: #D2E3FC;\n",
              "    }\n",
              "\n",
              "    [theme=dark] .colab-df-convert:hover {\n",
              "      background-color: #434B5C;\n",
              "      box-shadow: 0px 1px 3px 1px rgba(0, 0, 0, 0.15);\n",
              "      filter: drop-shadow(0px 1px 2px rgba(0, 0, 0, 0.3));\n",
              "      fill: #FFFFFF;\n",
              "    }\n",
              "  </style>\n",
              "\n",
              "      <script>\n",
              "        const buttonEl =\n",
              "          document.querySelector('#df-b5575e37-5db6-45cd-847c-bc29efd4726f button.colab-df-convert');\n",
              "        buttonEl.style.display =\n",
              "          google.colab.kernel.accessAllowed ? 'block' : 'none';\n",
              "\n",
              "        async function convertToInteractive(key) {\n",
              "          const element = document.querySelector('#df-b5575e37-5db6-45cd-847c-bc29efd4726f');\n",
              "          const dataTable =\n",
              "            await google.colab.kernel.invokeFunction('convertToInteractive',\n",
              "                                                     [key], {});\n",
              "          if (!dataTable) return;\n",
              "\n",
              "          const docLinkHtml = 'Like what you see? Visit the ' +\n",
              "            '<a target=\"_blank\" href=https://colab.research.google.com/notebooks/data_table.ipynb>data table notebook</a>'\n",
              "            + ' to learn more about interactive tables.';\n",
              "          element.innerHTML = '';\n",
              "          dataTable['output_type'] = 'display_data';\n",
              "          await google.colab.output.renderOutput(dataTable, element);\n",
              "          const docLink = document.createElement('div');\n",
              "          docLink.innerHTML = docLinkHtml;\n",
              "          element.appendChild(docLink);\n",
              "        }\n",
              "      </script>\n",
              "    </div>\n",
              "  </div>\n",
              "  "
            ]
          },
          "metadata": {},
          "execution_count": 351
        }
      ]
    },
    {
      "cell_type": "code",
      "source": [
        "raw_24 = btc_data_24_raw.copy()\n",
        "raw_24.drop(VIF_24_raw[VIF_24_raw['VIF']>10]['feature_vif'].to_list(),axis=1,inplace=True)"
      ],
      "metadata": {
        "id": "gEo_pOVbyFm9"
      },
      "execution_count": null,
      "outputs": []
    },
    {
      "cell_type": "code",
      "source": [
        "raw_24.shape"
      ],
      "metadata": {
        "colab": {
          "base_uri": "https://localhost:8080/"
        },
        "outputId": "9f98800a-2c8c-43c5-f6da-acde899722fe",
        "id": "GocBU8y-poHK"
      },
      "execution_count": null,
      "outputs": [
        {
          "output_type": "execute_result",
          "data": {
            "text/plain": [
              "(2684, 15)"
            ]
          },
          "metadata": {},
          "execution_count": 353
        }
      ]
    },
    {
      "cell_type": "code",
      "source": [
        "data_24 = raw_24.join(tech_24)"
      ],
      "metadata": {
        "id": "my5Nh5SIpoHL"
      },
      "execution_count": null,
      "outputs": []
    },
    {
      "cell_type": "code",
      "source": [
        "data_24.shape"
      ],
      "metadata": {
        "colab": {
          "base_uri": "https://localhost:8080/"
        },
        "outputId": "0dda63c3-8840-4234-dd15-d925971a2811",
        "id": "49e5CsRHpoHL"
      },
      "execution_count": null,
      "outputs": [
        {
          "output_type": "execute_result",
          "data": {
            "text/plain": [
              "(2684, 35)"
            ]
          },
          "metadata": {},
          "execution_count": 355
        }
      ]
    },
    {
      "cell_type": "code",
      "source": [
        "fea_imp_24 = RanF_imp(data_24,y_btc_data_24)\n",
        "fea_imp_24.head(25)"
      ],
      "metadata": {
        "id": "Ql0NXc3oAseC",
        "colab": {
          "base_uri": "https://localhost:8080/",
          "height": 833
        },
        "outputId": "9b2ae698-1269-4ed1-b172-e6450bd9822c"
      },
      "execution_count": null,
      "outputs": [
        {
          "output_type": "execute_result",
          "data": {
            "text/plain": [
              "                            Features  Feature_importances\n",
              "19                       Close_3dema             0.195963\n",
              "18                        Close_3wma             0.143223\n",
              "25                      Low_3BBupper             0.132545\n",
              "22                   Close_7BBmiddle             0.114905\n",
              "17            transactionvalue_90wma             0.105981\n",
              "16            transactionvalue_90sma             0.097348\n",
              "26                         Low_7tema             0.092769\n",
              "20                       High_30tema             0.070756\n",
              "21                     Open_7BBlower             0.044253\n",
              "14                    miners_revenue             0.000524\n",
              "12                         top100cap             0.000094\n",
              "31                   top100cap_30roc             0.000092\n",
              "9                             tweets             0.000090\n",
              "4                          sentinusd             0.000089\n",
              "30             transactionvalue_7mom             0.000087\n",
              "15                      tweets_90var             0.000086\n",
              "29            transactionvalue_30mom             0.000082\n",
              "7                   confirmationtime             0.000081\n",
              "33       median_transaction_fee_3roc             0.000079\n",
              "27  mediantransactionvalue_90BBlower             0.000075\n",
              "24                          Low_3mom             0.000070\n",
              "3               mining_profitability             0.000070\n",
              "32       median_transaction_fee_7roc             0.000070\n",
              "0                       transactions             0.000064\n",
              "6             median_transaction_fee             0.000062"
            ],
            "text/html": [
              "\n",
              "  <div id=\"df-29c71ecd-6ce1-4149-a4d9-fab1a67d492e\">\n",
              "    <div class=\"colab-df-container\">\n",
              "      <div>\n",
              "<style scoped>\n",
              "    .dataframe tbody tr th:only-of-type {\n",
              "        vertical-align: middle;\n",
              "    }\n",
              "\n",
              "    .dataframe tbody tr th {\n",
              "        vertical-align: top;\n",
              "    }\n",
              "\n",
              "    .dataframe thead th {\n",
              "        text-align: right;\n",
              "    }\n",
              "</style>\n",
              "<table border=\"1\" class=\"dataframe\">\n",
              "  <thead>\n",
              "    <tr style=\"text-align: right;\">\n",
              "      <th></th>\n",
              "      <th>Features</th>\n",
              "      <th>Feature_importances</th>\n",
              "    </tr>\n",
              "  </thead>\n",
              "  <tbody>\n",
              "    <tr>\n",
              "      <th>19</th>\n",
              "      <td>Close_3dema</td>\n",
              "      <td>0.195963</td>\n",
              "    </tr>\n",
              "    <tr>\n",
              "      <th>18</th>\n",
              "      <td>Close_3wma</td>\n",
              "      <td>0.143223</td>\n",
              "    </tr>\n",
              "    <tr>\n",
              "      <th>25</th>\n",
              "      <td>Low_3BBupper</td>\n",
              "      <td>0.132545</td>\n",
              "    </tr>\n",
              "    <tr>\n",
              "      <th>22</th>\n",
              "      <td>Close_7BBmiddle</td>\n",
              "      <td>0.114905</td>\n",
              "    </tr>\n",
              "    <tr>\n",
              "      <th>17</th>\n",
              "      <td>transactionvalue_90wma</td>\n",
              "      <td>0.105981</td>\n",
              "    </tr>\n",
              "    <tr>\n",
              "      <th>16</th>\n",
              "      <td>transactionvalue_90sma</td>\n",
              "      <td>0.097348</td>\n",
              "    </tr>\n",
              "    <tr>\n",
              "      <th>26</th>\n",
              "      <td>Low_7tema</td>\n",
              "      <td>0.092769</td>\n",
              "    </tr>\n",
              "    <tr>\n",
              "      <th>20</th>\n",
              "      <td>High_30tema</td>\n",
              "      <td>0.070756</td>\n",
              "    </tr>\n",
              "    <tr>\n",
              "      <th>21</th>\n",
              "      <td>Open_7BBlower</td>\n",
              "      <td>0.044253</td>\n",
              "    </tr>\n",
              "    <tr>\n",
              "      <th>14</th>\n",
              "      <td>miners_revenue</td>\n",
              "      <td>0.000524</td>\n",
              "    </tr>\n",
              "    <tr>\n",
              "      <th>12</th>\n",
              "      <td>top100cap</td>\n",
              "      <td>0.000094</td>\n",
              "    </tr>\n",
              "    <tr>\n",
              "      <th>31</th>\n",
              "      <td>top100cap_30roc</td>\n",
              "      <td>0.000092</td>\n",
              "    </tr>\n",
              "    <tr>\n",
              "      <th>9</th>\n",
              "      <td>tweets</td>\n",
              "      <td>0.000090</td>\n",
              "    </tr>\n",
              "    <tr>\n",
              "      <th>4</th>\n",
              "      <td>sentinusd</td>\n",
              "      <td>0.000089</td>\n",
              "    </tr>\n",
              "    <tr>\n",
              "      <th>30</th>\n",
              "      <td>transactionvalue_7mom</td>\n",
              "      <td>0.000087</td>\n",
              "    </tr>\n",
              "    <tr>\n",
              "      <th>15</th>\n",
              "      <td>tweets_90var</td>\n",
              "      <td>0.000086</td>\n",
              "    </tr>\n",
              "    <tr>\n",
              "      <th>29</th>\n",
              "      <td>transactionvalue_30mom</td>\n",
              "      <td>0.000082</td>\n",
              "    </tr>\n",
              "    <tr>\n",
              "      <th>7</th>\n",
              "      <td>confirmationtime</td>\n",
              "      <td>0.000081</td>\n",
              "    </tr>\n",
              "    <tr>\n",
              "      <th>33</th>\n",
              "      <td>median_transaction_fee_3roc</td>\n",
              "      <td>0.000079</td>\n",
              "    </tr>\n",
              "    <tr>\n",
              "      <th>27</th>\n",
              "      <td>mediantransactionvalue_90BBlower</td>\n",
              "      <td>0.000075</td>\n",
              "    </tr>\n",
              "    <tr>\n",
              "      <th>24</th>\n",
              "      <td>Low_3mom</td>\n",
              "      <td>0.000070</td>\n",
              "    </tr>\n",
              "    <tr>\n",
              "      <th>3</th>\n",
              "      <td>mining_profitability</td>\n",
              "      <td>0.000070</td>\n",
              "    </tr>\n",
              "    <tr>\n",
              "      <th>32</th>\n",
              "      <td>median_transaction_fee_7roc</td>\n",
              "      <td>0.000070</td>\n",
              "    </tr>\n",
              "    <tr>\n",
              "      <th>0</th>\n",
              "      <td>transactions</td>\n",
              "      <td>0.000064</td>\n",
              "    </tr>\n",
              "    <tr>\n",
              "      <th>6</th>\n",
              "      <td>median_transaction_fee</td>\n",
              "      <td>0.000062</td>\n",
              "    </tr>\n",
              "  </tbody>\n",
              "</table>\n",
              "</div>\n",
              "      <button class=\"colab-df-convert\" onclick=\"convertToInteractive('df-29c71ecd-6ce1-4149-a4d9-fab1a67d492e')\"\n",
              "              title=\"Convert this dataframe to an interactive table.\"\n",
              "              style=\"display:none;\">\n",
              "        \n",
              "  <svg xmlns=\"http://www.w3.org/2000/svg\" height=\"24px\"viewBox=\"0 0 24 24\"\n",
              "       width=\"24px\">\n",
              "    <path d=\"M0 0h24v24H0V0z\" fill=\"none\"/>\n",
              "    <path d=\"M18.56 5.44l.94 2.06.94-2.06 2.06-.94-2.06-.94-.94-2.06-.94 2.06-2.06.94zm-11 1L8.5 8.5l.94-2.06 2.06-.94-2.06-.94L8.5 2.5l-.94 2.06-2.06.94zm10 10l.94 2.06.94-2.06 2.06-.94-2.06-.94-.94-2.06-.94 2.06-2.06.94z\"/><path d=\"M17.41 7.96l-1.37-1.37c-.4-.4-.92-.59-1.43-.59-.52 0-1.04.2-1.43.59L10.3 9.45l-7.72 7.72c-.78.78-.78 2.05 0 2.83L4 21.41c.39.39.9.59 1.41.59.51 0 1.02-.2 1.41-.59l7.78-7.78 2.81-2.81c.8-.78.8-2.07 0-2.86zM5.41 20L4 18.59l7.72-7.72 1.47 1.35L5.41 20z\"/>\n",
              "  </svg>\n",
              "      </button>\n",
              "      \n",
              "  <style>\n",
              "    .colab-df-container {\n",
              "      display:flex;\n",
              "      flex-wrap:wrap;\n",
              "      gap: 12px;\n",
              "    }\n",
              "\n",
              "    .colab-df-convert {\n",
              "      background-color: #E8F0FE;\n",
              "      border: none;\n",
              "      border-radius: 50%;\n",
              "      cursor: pointer;\n",
              "      display: none;\n",
              "      fill: #1967D2;\n",
              "      height: 32px;\n",
              "      padding: 0 0 0 0;\n",
              "      width: 32px;\n",
              "    }\n",
              "\n",
              "    .colab-df-convert:hover {\n",
              "      background-color: #E2EBFA;\n",
              "      box-shadow: 0px 1px 2px rgba(60, 64, 67, 0.3), 0px 1px 3px 1px rgba(60, 64, 67, 0.15);\n",
              "      fill: #174EA6;\n",
              "    }\n",
              "\n",
              "    [theme=dark] .colab-df-convert {\n",
              "      background-color: #3B4455;\n",
              "      fill: #D2E3FC;\n",
              "    }\n",
              "\n",
              "    [theme=dark] .colab-df-convert:hover {\n",
              "      background-color: #434B5C;\n",
              "      box-shadow: 0px 1px 3px 1px rgba(0, 0, 0, 0.15);\n",
              "      filter: drop-shadow(0px 1px 2px rgba(0, 0, 0, 0.3));\n",
              "      fill: #FFFFFF;\n",
              "    }\n",
              "  </style>\n",
              "\n",
              "      <script>\n",
              "        const buttonEl =\n",
              "          document.querySelector('#df-29c71ecd-6ce1-4149-a4d9-fab1a67d492e button.colab-df-convert');\n",
              "        buttonEl.style.display =\n",
              "          google.colab.kernel.accessAllowed ? 'block' : 'none';\n",
              "\n",
              "        async function convertToInteractive(key) {\n",
              "          const element = document.querySelector('#df-29c71ecd-6ce1-4149-a4d9-fab1a67d492e');\n",
              "          const dataTable =\n",
              "            await google.colab.kernel.invokeFunction('convertToInteractive',\n",
              "                                                     [key], {});\n",
              "          if (!dataTable) return;\n",
              "\n",
              "          const docLinkHtml = 'Like what you see? Visit the ' +\n",
              "            '<a target=\"_blank\" href=https://colab.research.google.com/notebooks/data_table.ipynb>data table notebook</a>'\n",
              "            + ' to learn more about interactive tables.';\n",
              "          element.innerHTML = '';\n",
              "          dataTable['output_type'] = 'display_data';\n",
              "          await google.colab.output.renderOutput(dataTable, element);\n",
              "          const docLink = document.createElement('div');\n",
              "          docLink.innerHTML = docLinkHtml;\n",
              "          element.appendChild(docLink);\n",
              "        }\n",
              "      </script>\n",
              "    </div>\n",
              "  </div>\n",
              "  "
            ]
          },
          "metadata": {},
          "execution_count": 356
        }
      ]
    },
    {
      "cell_type": "code",
      "source": [
        "fea_imp_24.sort_values(['Feature_importances'], ascending=[True]).tail(13).plot.barh(x='Features', y='Feature_importances',figsize=(15,8))"
      ],
      "metadata": {
        "colab": {
          "base_uri": "https://localhost:8080/",
          "height": 500
        },
        "outputId": "107d080d-cb20-4e3b-9329-47f1ba33cf14",
        "id": "CbFycMD8poHM"
      },
      "execution_count": null,
      "outputs": [
        {
          "output_type": "execute_result",
          "data": {
            "text/plain": [
              "<matplotlib.axes._subplots.AxesSubplot at 0x7fd269180350>"
            ]
          },
          "metadata": {},
          "execution_count": 337
        },
        {
          "output_type": "display_data",
          "data": {
            "text/plain": [
              "<Figure size 1080x576 with 1 Axes>"
            ],
            "image/png": "[encoded data removed]"
          },
          "metadata": {
            "needs_background": "light"
          }
        }
      ]
    },
    {
      "cell_type": "code",
      "source": [
        "selected_features_24 = fea_imp_24.iloc[:12,:-1]['Features'].to_list()"
      ],
      "metadata": {
        "id": "zU1rQv9VpoHN"
      },
      "execution_count": null,
      "outputs": []
    },
    {
      "cell_type": "code",
      "source": [
        "selected_features_24.insert(0, 'Date')\n",
        "selected_features_24.insert(len(selected_features_24)+1, 'next_day_BTC_price')"
      ],
      "metadata": {
        "id": "eX3szRhOpoHN"
      },
      "execution_count": null,
      "outputs": []
    },
    {
      "cell_type": "code",
      "source": [
        "selected_features_24"
      ],
      "metadata": {
        "colab": {
          "base_uri": "https://localhost:8080/"
        },
        "outputId": "f8016379-2e40-4c4a-f58b-e8a6ed0d5162",
        "id": "MWu65eLepoHO"
      },
      "execution_count": null,
      "outputs": [
        {
          "output_type": "execute_result",
          "data": {
            "text/plain": [
              "['Date',\n",
              " 'Close_3dema',\n",
              " 'Close_3wma',\n",
              " 'Low_3BBupper',\n",
              " 'Close_7BBmiddle',\n",
              " 'transactionvalue_90wma',\n",
              " 'transactionvalue_90sma',\n",
              " 'Low_7tema',\n",
              " 'High_30tema',\n",
              " 'Open_7BBlower',\n",
              " 'miners_revenue',\n",
              " 'top100cap',\n",
              " 'top100cap_30roc',\n",
              " 'next_day_BTC_price']"
            ]
          },
          "metadata": {},
          "execution_count": 359
        }
      ]
    },
    {
      "cell_type": "code",
      "source": [
        "data_selected_final_24 = btc_data_24[selected_features_24]"
      ],
      "metadata": {
        "id": "wrAJLwrypoHO"
      },
      "execution_count": null,
      "outputs": []
    },
    {
      "cell_type": "code",
      "source": [
        "data_selected_final_24.to_csv('data_selected_final_24_4.csv', sep=',',index= False)"
      ],
      "metadata": {
        "id": "H1TU81bQpoHP"
      },
      "execution_count": null,
      "outputs": []
    }
  ]
}