{
  "nbformat": 4,
  "nbformat_minor": 0,
  "metadata": {
    "colab": {
      "name": "Feature_Selection.ipynb",
      "provenance": []
    },
    "kernelspec": {
      "name": "python3",
      "display_name": "Python 3"
    },
    "language_info": {
      "name": "python"
    }
  },
  "cells": [
    {
      "cell_type": "markdown",
      "source": [
        "# Feature Selection"
      ],
      "metadata": {
        "id": "BbqpcD2KulHV"
      }
    },
    {
      "cell_type": "code",
      "source": [
        "import pandas as pd\n",
        "import numpy as np\n",
        "from sklearn.ensemble import RandomForestRegressor\n",
        "from sklearn.feature_selection import RFECV\n",
        "from google.colab import files\n",
        "from statsmodels.stats.outliers_influence import variance_inflation_factor"
      ],
      "metadata": {
        "id": "VAddphICvIux",
        "colab": {
          "base_uri": "https://localhost:8080/"
        },
        "outputId": "33070237-0202-4e64-8567-bfe79b0b4dc7"
      },
      "execution_count": 3,
      "outputs": [
        {
          "output_type": "stream",
          "name": "stderr",
          "text": [
            "/usr/local/lib/python3.7/dist-packages/statsmodels/tools/_testing.py:19: FutureWarning: pandas.util.testing is deprecated. Use the functions in the public API at pandas.testing instead.\n",
            "  import pandas.util.testing as tm\n"
          ]
        }
      ]
    },
    {
      "cell_type": "code",
      "source": [
        "uploaded1 = files.upload()"
      ],
      "metadata": {
        "colab": {
          "resources": {
            "http://localhost:8080/nbextensions/google.colab/files.js": {
              "data": "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",
              "ok": true,
              "headers": [
                [
                  "content-type",
                  "application/javascript"
                ]
              ],
              "status": 200,
              "status_text": ""
            }
          },
          "base_uri": "https://localhost:8080/",
          "height": 74
        },
        "id": "-2oVjbNIuoxR",
        "outputId": "59e96a6f-9319-4500-d092-f3c45061e9da"
      },
      "execution_count": 2,
      "outputs": [
        {
          "output_type": "display_data",
          "data": {
            "text/plain": [
              "<IPython.core.display.HTML object>"
            ],
            "text/html": [
              "\n",
              "     <input type=\"file\" id=\"files-139f9006-5ae1-4553-8f88-221edb0bd54e\" name=\"files[]\" multiple disabled\n",
              "        style=\"border:none\" />\n",
              "     <output id=\"result-139f9006-5ae1-4553-8f88-221edb0bd54e\">\n",
              "      Upload widget is only available when the cell has been executed in the\n",
              "      current browser session. Please rerun this cell to enable.\n",
              "      </output>\n",
              "      <script src=\"/nbextensions/google.colab/files.js\"></script> "
            ]
          },
          "metadata": {}
        },
        {
          "output_type": "stream",
          "name": "stdout",
          "text": [
            "Saving BTC_feature_engineered_data_27.csv to BTC_feature_engineered_data_27.csv\n"
          ]
        }
      ]
    },
    {
      "cell_type": "code",
      "source": [
        "btc_data_27 = pd.read_csv('BTC_feature_engineered_data_27.csv')"
      ],
      "metadata": {
        "id": "TGNVMQu7vFwq"
      },
      "execution_count": 4,
      "outputs": []
    },
    {
      "cell_type": "code",
      "source": [
        "# function to convert datatype to float32\n",
        "def convert_to_float32(df):\n",
        "  for i in range(len(df.columns)):\n",
        "    if df[df.columns[i]].dtype == 'float64':\n",
        "      df[df.columns[i]] = np.nan_to_num(df[df.columns[i]].astype(np.float32))\n",
        "  return df"
      ],
      "metadata": {
        "id": "_fPm-j763YZj"
      },
      "execution_count": 5,
      "outputs": []
    },
    {
      "cell_type": "code",
      "source": [
        "btc_data_27 = convert_to_float32(btc_data_27)"
      ],
      "metadata": {
        "id": "DEVDSzku3eNg"
      },
      "execution_count": 6,
      "outputs": []
    },
    {
      "cell_type": "code",
      "source": [
        "# Creating blocks for each set of smoothening range and technical indicators\n",
        "blocks = []\n",
        "technical_indicators = np.array(['sma','wma','ema','tema','dema','rsi','std','roc','mom','var','BBupper','BBmiddle','BBlower'])\n",
        "smoothening_range = np.array(['7','30','90'])\n",
        "for p in smoothening_range:\n",
        "  for t in technical_indicators:\n",
        "    string = p + t\n",
        "    blocks.append(string)"
      ],
      "metadata": {
        "id": "nau7F9uNPP77"
      },
      "execution_count": 17,
      "outputs": []
    },
    {
      "cell_type": "code",
      "source": [
        "# Function to select technical features\n",
        "def tech_feature_selection(x,y):\n",
        "  \"\"\" \n",
        "      this function selects most important feature from each block\n",
        "  \"\"\"\n",
        "  list_of_selected_features=[]\n",
        "  for string in blocks:\n",
        "    print('Block:',string)\n",
        "    new_df=x.filter(like=string,axis=1)\n",
        "    new_df = pd.DataFrame(new_df)\n",
        "    new_df.columns=x.filter(like=string,axis=1).columns\n",
        "    estimator = RandomForestRegressor(random_state=42)\n",
        "    selector = RFECV(estimator, step=0.6,verbose=True,scoring='neg_mean_absolute_error',n_jobs=-1)\n",
        "    selector = selector.fit(new_df, y)\n",
        "    mask = selector.get_support()\n",
        "    new_features = new_df.columns[mask]\n",
        "    print('Feature Rankings',selector.ranking_)\n",
        "    if len(new_features.values)>1:\n",
        "      estimator.fit(new_df, y)\n",
        "      for j in range(len(estimator.feature_importances_)):\n",
        "        if estimator.feature_importances_.max() == estimator.feature_importances_[j]:\n",
        "          new_features = new_df.columns[j]\n",
        "          print('Selected Feature:', new_features)\n",
        "          list_of_selected_features.append(new_features)\n",
        "    else:\n",
        "      features = new_features.values\n",
        "      for i in features:\n",
        "        print(i)\n",
        "        list_of_selected_features.append(i)\n",
        "    print('Number of Selected Features:', len(list_of_selected_features))\n",
        "    print('*'*50)\n",
        "  return list_of_selected_features\n"
      ],
      "metadata": {
        "id": "FBq03c6DwaCE"
      },
      "execution_count": 18,
      "outputs": []
    },
    {
      "cell_type": "code",
      "source": [
        "x_btc_data_27 = btc_data_27.drop(['next_day_BTC_price'], axis=1)\n",
        "y_btc_data_27 = btc_data_27['next_day_BTC_price']"
      ],
      "metadata": {
        "id": "jzdjifZe1Mh8"
      },
      "execution_count": 19,
      "outputs": []
    },
    {
      "cell_type": "code",
      "source": [
        "list_of_selected_features_27 = tech_feature_selection(x_btc_data_27,y_btc_data_27)"
      ],
      "metadata": {
        "id": "aJF4HqSP4KLv",
        "colab": {
          "base_uri": "https://localhost:8080/"
        },
        "outputId": "84396ebf-33be-47c6-9b68-b353f038e056"
      },
      "execution_count": 21,
      "outputs": [
        {
          "output_type": "stream",
          "name": "stdout",
          "text": [
            "Block: 7sma\n",
            "Fitting estimator with 25 features.\n",
            "Fitting estimator with 10 features.\n",
            "Feature Rankings [3 3 3 3 3 3 2 3 3 3 3 2 3 3 3 2 3 2 3 2 2 2 1 2 2]\n",
            "Close_7sma\n",
            "Number of Selected Features: 1\n",
            "**************************************************\n",
            "Block: 7wma\n",
            "Fitting estimator with 25 features.\n",
            "Fitting estimator with 10 features.\n",
            "Feature Rankings [3 3 3 2 3 3 3 3 3 3 3 2 3 3 3 2 3 2 3 2 2 2 1 2 2]\n",
            "Close_7wma\n",
            "Number of Selected Features: 2\n",
            "**************************************************\n",
            "Block: 7ema\n",
            "Fitting estimator with 25 features.\n",
            "Fitting estimator with 10 features.\n",
            "Feature Rankings [3 3 3 2 3 3 3 3 3 3 3 3 3 3 3 2 3 2 2 2 2 1 2 2 2]\n",
            "Low_7ema\n",
            "Number of Selected Features: 3\n",
            "**************************************************\n",
            "Block: 7tema\n",
            "Fitting estimator with 25 features.\n",
            "Fitting estimator with 10 features.\n",
            "Feature Rankings [3 3 3 2 3 3 3 3 3 3 2 2 3 3 3 2 3 2 3 2 2 2 1 3 2]\n",
            "Close_7tema\n",
            "Number of Selected Features: 4\n",
            "**************************************************\n",
            "Block: 7dema\n",
            "Fitting estimator with 25 features.\n",
            "Fitting estimator with 10 features.\n",
            "Feature Rankings [3 3 3 2 3 3 2 3 3 3 3 2 3 3 3 2 3 2 3 2 2 2 1 3 2]\n",
            "Close_7dema\n",
            "Number of Selected Features: 5\n",
            "**************************************************\n",
            "Block: 7rsi\n",
            "Feature Rankings [1 1 1 1 1 1 1 1 1 1 1 1 1 1 1 1 1 1 1 1 1 1 1 1 1]\n",
            "Selected Feature: coins_in_supply_7rsi\n",
            "Number of Selected Features: 6\n",
            "**************************************************\n",
            "Block: 7std\n",
            "Feature Rankings [1 1 1 1 1 1 1 1 1 1 1 1 1 1 1 1 1 1 1 1 1 1 1 1 1]\n",
            "Selected Feature: sentinusd_7std\n",
            "Number of Selected Features: 7\n",
            "**************************************************\n",
            "Block: 7roc\n",
            "Feature Rankings [1 1 1 1 1 1 1 1 1 1 1 1 1 1 1 1 1 1 1 1 1 1 1 1 1]\n",
            "Selected Feature: coins_in_supply_7roc\n",
            "Number of Selected Features: 8\n",
            "**************************************************\n",
            "Block: 7mom\n",
            "Fitting estimator with 25 features.\n",
            "Feature Rankings [2 2 2 2 2 2 1 2 2 2 1 2 1 2 2 1 1 2 2 1 1 1 1 2 1]\n",
            "Selected Feature: coins_in_supply_7mom\n",
            "Number of Selected Features: 9\n",
            "**************************************************\n",
            "Block: 7var\n",
            "Feature Rankings [1 1 1 1 1 1 1 1 1 1 1 1 1 1 1 1 1 1 1 1 1 1 1 1 1]\n",
            "Selected Feature: sentinusd_7var\n",
            "Number of Selected Features: 10\n",
            "**************************************************\n",
            "Block: 7BBupper\n",
            "Feature Rankings [1 1 1 1 1 1 1 1 1 1 1 1 1 1 1 1 1 1 1 1 1 1 1 1 1]\n",
            "Selected Feature: Open_7BBupper\n",
            "Number of Selected Features: 11\n",
            "**************************************************\n",
            "Block: 7BBmiddle\n",
            "Fitting estimator with 25 features.\n",
            "Fitting estimator with 10 features.\n",
            "Feature Rankings [3 3 3 3 3 3 2 3 3 3 3 2 3 3 3 2 3 2 3 2 2 2 1 2 2]\n",
            "Close_7BBmiddle\n",
            "Number of Selected Features: 12\n",
            "**************************************************\n",
            "Block: 7BBlower\n",
            "Fitting estimator with 25 features.\n",
            "Feature Rankings [2 2 2 2 1 1 2 2 2 2 2 2 2 2 2 1 2 1 2 1 1 1 1 1 1]\n",
            "Selected Feature: Close_7BBlower\n",
            "Number of Selected Features: 13\n",
            "**************************************************\n",
            "Block: 30sma\n",
            "Fitting estimator with 25 features.\n",
            "Feature Rankings [2 2 2 2 2 1 1 2 2 2 1 1 2 2 2 2 2 1 2 1 1 1 1 2 1]\n",
            "Selected Feature: Open_30sma\n",
            "Number of Selected Features: 14\n",
            "**************************************************\n",
            "Block: 30wma\n",
            "Feature Rankings [1 1 1 1 1 1 1 1 1 1 1 1 1 1 1 1 1 1 1 1 1 1 1 1 1]\n",
            "Selected Feature: Open_30wma\n",
            "Number of Selected Features: 15\n",
            "**************************************************\n",
            "Block: 30ema\n",
            "Fitting estimator with 25 features.\n",
            "Feature Rankings [2 2 2 2 2 2 1 2 2 2 1 1 2 2 2 2 2 1 2 1 1 1 1 1 1]\n",
            "Selected Feature: Open_30ema\n",
            "Number of Selected Features: 16\n",
            "**************************************************\n",
            "Block: 30tema\n",
            "Fitting estimator with 25 features.\n",
            "Fitting estimator with 10 features.\n",
            "Feature Rankings [3 3 3 3 3 3 3 3 3 3 2 2 3 3 3 2 3 2 3 2 2 2 1 2 2]\n",
            "Close_30tema\n",
            "Number of Selected Features: 17\n",
            "**************************************************\n",
            "Block: 30dema\n",
            "Fitting estimator with 25 features.\n",
            "Feature Rankings [2 2 2 2 2 2 2 2 2 2 1 1 2 2 2 1 2 1 2 1 1 1 1 1 1]\n",
            "Selected Feature: Open_30dema\n",
            "Number of Selected Features: 18\n",
            "**************************************************\n",
            "Block: 30rsi\n",
            "Feature Rankings [1 1 1 1 1 1 1 1 1 1 1 1 1 1 1 1 1 1 1 1 1 1 1 1 1]\n",
            "Selected Feature: coins_in_supply_30rsi\n",
            "Number of Selected Features: 19\n",
            "**************************************************\n",
            "Block: 30std\n",
            "Fitting estimator with 25 features.\n",
            "Feature Rankings [2 1 2 2 1 2 1 1 1 2 1 1 1 1 2 2 2 2 2 2 2 2 2 2 1]\n",
            "Selected Feature: tweets_30std\n",
            "Number of Selected Features: 20\n",
            "**************************************************\n",
            "Block: 30roc\n",
            "Fitting estimator with 25 features.\n",
            "Fitting estimator with 10 features.\n",
            "Feature Rankings [3 2 3 2 3 3 2 2 3 3 2 3 3 3 3 2 3 3 2 3 3 2 3 2 1]\n",
            "coins_in_supply_30roc\n",
            "Number of Selected Features: 21\n",
            "**************************************************\n",
            "Block: 30mom\n",
            "Feature Rankings [1 1 1 1 1 1 1 1 1 1 1 1 1 1 1 1 1 1 1 1 1 1 1 1 1]\n",
            "Selected Feature: coins_in_supply_30mom\n",
            "Number of Selected Features: 22\n",
            "**************************************************\n",
            "Block: 30var\n",
            "Fitting estimator with 25 features.\n",
            "Feature Rankings [2 1 2 2 1 2 1 1 1 2 1 1 1 1 2 2 2 2 2 2 2 2 2 2 1]\n",
            "Selected Feature: tweets_30var\n",
            "Number of Selected Features: 23\n",
            "**************************************************\n",
            "Block: 30BBupper\n",
            "Fitting estimator with 25 features.\n",
            "Feature Rankings [2 2 2 1 2 2 2 2 2 2 2 1 2 1 2 2 2 1 2 1 1 1 1 1 1]\n",
            "Selected Feature: coins_in_supply_30BBupper\n",
            "Number of Selected Features: 24\n",
            "**************************************************\n",
            "Block: 30BBmiddle\n",
            "Fitting estimator with 25 features.\n",
            "Feature Rankings [2 2 2 2 2 1 1 2 2 2 1 1 2 2 2 2 2 1 2 1 1 1 1 2 1]\n",
            "Selected Feature: Open_30BBmiddle\n",
            "Number of Selected Features: 25\n",
            "**************************************************\n",
            "Block: 30BBlower\n",
            "Fitting estimator with 25 features.\n",
            "Feature Rankings [2 1 2 1 2 1 1 2 2 2 1 1 2 1 2 1 2 2 2 2 2 1 2 2 1]\n",
            "Selected Feature: coins_in_supply_30BBlower\n",
            "Number of Selected Features: 26\n",
            "**************************************************\n",
            "Block: 90sma\n",
            "Feature Rankings [1 1 1 1 1 1 1 1 1 1 1 1 1 1 1 1 1 1 1 1 1 1 1 1 1]\n",
            "Selected Feature: Open_90sma\n",
            "Number of Selected Features: 27\n",
            "**************************************************\n",
            "Block: 90wma\n",
            "Feature Rankings [1 1 1 1 1 1 1 1 1 1 1 1 1 1 1 1 1 1 1 1 1 1 1 1 1]\n",
            "Selected Feature: Open_90wma\n",
            "Number of Selected Features: 28\n",
            "**************************************************\n",
            "Block: 90ema\n",
            "Feature Rankings [1 1 1 1 1 1 1 1 1 1 1 1 1 1 1 1 1 1 1 1 1 1 1 1 1]\n",
            "Selected Feature: Open_90ema\n",
            "Number of Selected Features: 29\n",
            "**************************************************\n",
            "Block: 90tema\n",
            "Feature Rankings [1 1 1 1 1 1 1 1 1 1 1 1 1 1 1 1 1 1 1 1 1 1 1 1 1]\n",
            "Selected Feature: Open_90tema\n",
            "Number of Selected Features: 30\n",
            "**************************************************\n",
            "Block: 90dema\n",
            "Feature Rankings [1 1 1 1 1 1 1 1 1 1 1 1 1 1 1 1 1 1 1 1 1 1 1 1 1]\n",
            "Selected Feature: coins_in_supply_90dema\n",
            "Number of Selected Features: 31\n",
            "**************************************************\n",
            "Block: 90rsi\n",
            "Fitting estimator with 25 features.\n",
            "Feature Rankings [2 2 2 1 2 1 2 1 2 2 2 2 2 2 2 1 2 2 1 1 1 1 1 2 1]\n",
            "Selected Feature: coins_in_supply_90rsi\n",
            "Number of Selected Features: 32\n",
            "**************************************************\n",
            "Block: 90std\n",
            "Fitting estimator with 25 features.\n",
            "Feature Rankings [2 1 2 2 2 1 1 1 1 1 2 1 2 2 2 2 1 2 1 2 2 2 2 2 1]\n",
            "Selected Feature: tweets_90std\n",
            "Number of Selected Features: 33\n",
            "**************************************************\n",
            "Block: 90roc\n",
            "Fitting estimator with 25 features.\n",
            "Fitting estimator with 10 features.\n",
            "Feature Rankings [3 3 3 2 3 3 3 2 3 3 2 3 3 3 3 2 3 2 2 2 3 2 2 3 1]\n",
            "coins_in_supply_90roc\n",
            "Number of Selected Features: 34\n",
            "**************************************************\n",
            "Block: 90mom\n",
            "Feature Rankings [1 1 1 1 1 1 1 1 1 1 1 1 1 1 1 1 1 1 1 1 1 1 1 1 1]\n",
            "Selected Feature: coins_in_supply_90mom\n",
            "Number of Selected Features: 35\n",
            "**************************************************\n",
            "Block: 90var\n",
            "Fitting estimator with 25 features.\n",
            "Feature Rankings [2 1 2 2 2 1 1 1 1 1 2 1 2 2 2 2 1 2 1 2 2 2 2 2 1]\n",
            "Selected Feature: tweets_90var\n",
            "Number of Selected Features: 36\n",
            "**************************************************\n",
            "Block: 90BBupper\n",
            "Fitting estimator with 25 features.\n",
            "Feature Rankings [2 2 2 2 2 2 1 2 2 2 2 1 1 2 2 2 2 1 2 1 1 1 1 1 1]\n",
            "Selected Feature: coins_in_supply_90BBupper\n",
            "Number of Selected Features: 37\n",
            "**************************************************\n",
            "Block: 90BBmiddle\n",
            "Feature Rankings [1 1 1 1 1 1 1 1 1 1 1 1 1 1 1 1 1 1 1 1 1 1 1 1 1]\n",
            "Selected Feature: Open_90BBmiddle\n",
            "Number of Selected Features: 38\n",
            "**************************************************\n",
            "Block: 90BBlower\n",
            "Feature Rankings [1 1 1 1 1 1 1 1 1 1 1 1 1 1 1 1 1 1 1 1 1 1 1 1 1]\n",
            "Selected Feature: coins_in_supply_90BBlower\n",
            "Number of Selected Features: 39\n",
            "**************************************************\n"
          ]
        }
      ]
    },
    {
      "cell_type": "code",
      "source": [
        "# Function that measures Variance Inflation Factor\n",
        "def VIF(data):\n",
        "  vif_data = pd.DataFrame()\n",
        "  vif_data[\"feature_vif\"] = data.columns\n",
        "  # calculating vif for each feature in train dataset\n",
        "  vif_data[\"VIF\"] = [variance_inflation_factor(data.values, i) for i in range(len(data.columns))]\n",
        "  return vif_data.sort_values(['VIF'],ascending = False)"
      ],
      "metadata": {
        "id": "J6tUpVhNdLUd"
      },
      "execution_count": 22,
      "outputs": []
    },
    {
      "cell_type": "code",
      "source": [
        "btc_data_27_raw = btc_data_27.iloc[:,1:26]"
      ],
      "metadata": {
        "id": "4HoF-a_Nda5X"
      },
      "execution_count": 29,
      "outputs": []
    },
    {
      "cell_type": "code",
      "source": [
        "btc_data_27_raw.columns"
      ],
      "metadata": {
        "colab": {
          "base_uri": "https://localhost:8080/"
        },
        "id": "gRuFFSkSOlKg",
        "outputId": "a7386859-d9b5-4a02-9332-1aa6ceb421d7"
      },
      "execution_count": 30,
      "outputs": [
        {
          "output_type": "execute_result",
          "data": {
            "text/plain": [
              "Index(['transactions', 'size', 'sentbyaddress', 'difficulty', 'hashrate',\n",
              "       'mining_profitability', 'sentinusd', 'transactionfees',\n",
              "       'median_transaction_fee', 'confirmationtime', 'transactionvalue',\n",
              "       'tweets', 'google_trends', 'mediantransactionvalue', 'activeaddresses',\n",
              "       'top100cap', 'fee_to_reward', 'avg_price', 'fear_gear_index', 'Open',\n",
              "       'High', 'Low', 'Close', 'miners_revenue', 'coins_in_supply'],\n",
              "      dtype='object')"
            ]
          },
          "metadata": {},
          "execution_count": 30
        }
      ]
    },
    {
      "cell_type": "code",
      "source": [
        "btc_data_27_tech = btc_data_27[list_of_selected_features_27]"
      ],
      "metadata": {
        "id": "w96uqKAqeA-B"
      },
      "execution_count": 31,
      "outputs": []
    },
    {
      "cell_type": "code",
      "source": [
        "VIF_27_tech = VIF(btc_data_27_tech)\n",
        "tech_27 = btc_data_27[VIF_27_tech['feature_vif'].to_list()]"
      ],
      "metadata": {
        "id": "63DCAYM6fCws",
        "colab": {
          "base_uri": "https://localhost:8080/"
        },
        "outputId": "bd710ba6-09ef-4eb4-d832-3070a141e6dd"
      },
      "execution_count": 34,
      "outputs": [
        {
          "output_type": "stream",
          "name": "stderr",
          "text": [
            "/usr/local/lib/python3.7/dist-packages/statsmodels/regression/linear_model.py:1638: RuntimeWarning: invalid value encountered in float_scalars\n",
            "  return 1 - self.ssr/self.uncentered_tss\n"
          ]
        }
      ]
    },
    {
      "cell_type": "code",
      "source": [
        "tech_27.shape"
      ],
      "metadata": {
        "colab": {
          "base_uri": "https://localhost:8080/"
        },
        "id": "i0MSDVWFxgoD",
        "outputId": "7572d67c-945e-44d8-ab15-a99dd96aac7c"
      },
      "execution_count": 36,
      "outputs": [
        {
          "output_type": "execute_result",
          "data": {
            "text/plain": [
              "(1231, 39)"
            ]
          },
          "metadata": {},
          "execution_count": 36
        }
      ]
    },
    {
      "cell_type": "code",
      "source": [
        "VIF_27_raw = VIF(btc_data_27_raw)\n",
        "raw_27 = btc_data_27_raw.copy()\n",
        "raw_27.drop(VIF_27_raw[VIF_27_raw['VIF']>10]['feature_vif'].to_list(),axis=1,inplace=True)"
      ],
      "metadata": {
        "id": "SupUBSO5fNsO"
      },
      "execution_count": 37,
      "outputs": []
    },
    {
      "cell_type": "code",
      "source": [
        "raw_27.shape"
      ],
      "metadata": {
        "colab": {
          "base_uri": "https://localhost:8080/"
        },
        "id": "NFaqo3Pw4CLU",
        "outputId": "fdbb5418-baf7-4dbf-e791-9c0a1e92e5ac"
      },
      "execution_count": 38,
      "outputs": [
        {
          "output_type": "execute_result",
          "data": {
            "text/plain": [
              "(1231, 17)"
            ]
          },
          "metadata": {},
          "execution_count": 38
        }
      ]
    },
    {
      "cell_type": "code",
      "source": [
        "data_27 = raw_27.join(tech_27)"
      ],
      "metadata": {
        "id": "6HHFimor4zo1"
      },
      "execution_count": 39,
      "outputs": []
    },
    {
      "cell_type": "code",
      "source": [
        "data_27.shape"
      ],
      "metadata": {
        "colab": {
          "base_uri": "https://localhost:8080/"
        },
        "id": "2oPfKrYqKbtU",
        "outputId": "50d20dc9-b346-435a-939a-58087274da1d"
      },
      "execution_count": 40,
      "outputs": [
        {
          "output_type": "execute_result",
          "data": {
            "text/plain": [
              "(1231, 56)"
            ]
          },
          "metadata": {},
          "execution_count": 40
        }
      ]
    },
    {
      "cell_type": "code",
      "source": [
        "regr_27=RandomForestRegressor(random_state=42)\n",
        "regr_27.fit(data_27,y_btc_data_27)\n",
        "fea_imp_27 = pd.DataFrame({'Features':data_27.columns,'Feature_importances':list(regr_27.feature_importances_)}).sort_values(by = ['Feature_importances'],ascending=False)\n"
      ],
      "metadata": {
        "id": "mr712eSiKlux"
      },
      "execution_count": 81,
      "outputs": []
    },
    {
      "cell_type": "code",
      "source": [
        "fea_imp_27.sort_values(['Feature_importances'], ascending=[True]).tail(13).plot.barh(x='Features', y='Feature_importances',figsize=(15,8))"
      ],
      "metadata": {
        "colab": {
          "base_uri": "https://localhost:8080/",
          "height": 500
        },
        "id": "zp_MiS201YRD",
        "outputId": "8e428f03-11e6-4e7f-df28-0b13494a45bd"
      },
      "execution_count": 82,
      "outputs": [
        {
          "output_type": "execute_result",
          "data": {
            "text/plain": [
              "<matplotlib.axes._subplots.AxesSubplot at 0x7f9f33237650>"
            ]
          },
          "metadata": {},
          "execution_count": 82
        },
        {
          "output_type": "display_data",
          "data": {
            "text/plain": [
              "<Figure size 1080x576 with 1 Axes>"
            ],
            "image/png": "[encoded data removed]"
          },
          "metadata": {
            "needs_background": "light"
          }
        }
      ]
    },
    {
      "cell_type": "code",
      "source": [
        "selected_features_27 = fea_imp_27.iloc[:15,:-1]['Features'].to_list()"
      ],
      "metadata": {
        "id": "jx73konsRj8w"
      },
      "execution_count": 50,
      "outputs": []
    },
    {
      "cell_type": "code",
      "source": [
        "selected_features_27.insert(0, 'Date')\n",
        "selected_features_27.insert(len(selected_features_27)+1, 'next_day_BTC_price')"
      ],
      "metadata": {
        "id": "c8aqstW4C5QO"
      },
      "execution_count": 51,
      "outputs": []
    },
    {
      "cell_type": "code",
      "source": [
        "selected_features_27"
      ],
      "metadata": {
        "colab": {
          "base_uri": "https://localhost:8080/"
        },
        "id": "GARLu1zgJV70",
        "outputId": "5bec7cb9-87d4-4f14-de73-d9c6352eeb4f"
      },
      "execution_count": 52,
      "outputs": [
        {
          "output_type": "execute_result",
          "data": {
            "text/plain": [
              "['Date',\n",
              " 'Close_7tema',\n",
              " 'Close_7BBmiddle',\n",
              " 'Open_90wma',\n",
              " 'Close_7dema',\n",
              " 'coins_in_supply_90BBlower',\n",
              " 'Low_7ema',\n",
              " 'Close_7BBlower',\n",
              " 'Open_90tema',\n",
              " 'Open_7BBupper',\n",
              " 'Close_7wma',\n",
              " 'Close_30tema',\n",
              " 'Close_7sma',\n",
              " 'coins_in_supply_30BBupper',\n",
              " 'coins_in_supply_90BBupper',\n",
              " 'Open_30ema',\n",
              " 'next_day_BTC_price']"
            ]
          },
          "metadata": {},
          "execution_count": 52
        }
      ]
    },
    {
      "cell_type": "code",
      "source": [
        "data_selected_final_27 = btc_data_27[selected_features_27]"
      ],
      "metadata": {
        "id": "v1PpE_JlFWC4"
      },
      "execution_count": 53,
      "outputs": []
    },
    {
      "cell_type": "code",
      "source": [
        "data_selected_final_27.to_csv('data_selected_final_27.csv', sep=',',index= False)"
      ],
      "metadata": {
        "id": "F0KHtC1SFjng"
      },
      "execution_count": 54,
      "outputs": []
    }
  ]
}